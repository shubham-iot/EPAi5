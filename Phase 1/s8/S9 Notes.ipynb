{
 "cells": [
  {
   "cell_type": "markdown",
   "metadata": {},
   "source": [
    "# Sequence Types"
   ]
  },
  {
   "cell_type": "code",
   "execution_count": 1,
   "metadata": {},
   "outputs": [
    {
     "name": "stdout",
     "output_type": "stream",
     "text": [
      "Hello\n"
     ]
    }
   ],
   "source": [
    "print(\"Hello\")"
   ]
  },
  {
   "cell_type": "code",
   "execution_count": 2,
   "metadata": {},
   "outputs": [],
   "source": [
    "t = (1, 2, 3)"
   ]
  },
  {
   "cell_type": "code",
   "execution_count": 3,
   "metadata": {},
   "outputs": [
    {
     "data": {
      "text/plain": [
       "1"
      ]
     },
     "execution_count": 3,
     "metadata": {},
     "output_type": "execute_result"
    }
   ],
   "source": [
    "t[0]"
   ]
  },
  {
   "cell_type": "code",
   "execution_count": 4,
   "metadata": {},
   "outputs": [
    {
     "ename": "TypeError",
     "evalue": "'tuple' object does not support item assignment",
     "output_type": "error",
     "traceback": [
      "\u001b[1;31m---------------------------------------------------------------------------\u001b[0m",
      "\u001b[1;31mTypeError\u001b[0m                                 Traceback (most recent call last)",
      "\u001b[1;32m~\\AppData\\Local\\Temp\\ipykernel_14856\\816329950.py\u001b[0m in \u001b[0;36m<module>\u001b[1;34m\u001b[0m\n\u001b[1;32m----> 1\u001b[1;33m \u001b[0mt\u001b[0m\u001b[1;33m[\u001b[0m\u001b[1;36m0\u001b[0m\u001b[1;33m]\u001b[0m \u001b[1;33m=\u001b[0m \u001b[1;36m100\u001b[0m\u001b[1;33m\u001b[0m\u001b[1;33m\u001b[0m\u001b[0m\n\u001b[0m",
      "\u001b[1;31mTypeError\u001b[0m: 'tuple' object does not support item assignment"
     ]
    }
   ],
   "source": [
    "t[0] = 100"
   ]
  },
  {
   "cell_type": "code",
   "execution_count": 5,
   "metadata": {},
   "outputs": [],
   "source": [
    "t = ( [1, 2], 3, 4)"
   ]
  },
  {
   "cell_type": "code",
   "execution_count": 6,
   "metadata": {},
   "outputs": [],
   "source": [
    "t[0][0] = 100"
   ]
  },
  {
   "cell_type": "code",
   "execution_count": 7,
   "metadata": {},
   "outputs": [
    {
     "data": {
      "text/plain": [
       "([100, 2], 3, 4)"
      ]
     },
     "execution_count": 7,
     "metadata": {},
     "output_type": "execute_result"
    }
   ],
   "source": [
    "t"
   ]
  },
  {
   "cell_type": "code",
   "execution_count": 8,
   "metadata": {},
   "outputs": [],
   "source": [
    "t = (10, 'a', 1+3j)"
   ]
  },
  {
   "cell_type": "code",
   "execution_count": 9,
   "metadata": {},
   "outputs": [],
   "source": [
    "s = {10, 'a', 1+3j}"
   ]
  },
  {
   "cell_type": "code",
   "execution_count": 10,
   "metadata": {},
   "outputs": [
    {
     "name": "stdout",
     "output_type": "stream",
     "text": [
      "10\n",
      "a\n",
      "(1+3j)\n"
     ]
    }
   ],
   "source": [
    "for c in t:\n",
    "    print(c)"
   ]
  },
  {
   "cell_type": "code",
   "execution_count": 11,
   "metadata": {},
   "outputs": [
    {
     "name": "stdout",
     "output_type": "stream",
     "text": [
      "a\n",
      "10\n",
      "(1+3j)\n"
     ]
    }
   ],
   "source": [
    "for c in s:\n",
    "    print(c)"
   ]
  },
  {
   "cell_type": "markdown",
   "metadata": {},
   "source": [
    "Sets are iterable, but not sequences"
   ]
  },
  {
   "cell_type": "code",
   "execution_count": 12,
   "metadata": {},
   "outputs": [
    {
     "name": "stdout",
     "output_type": "stream",
     "text": [
      "a\n",
      "10\n",
      "(1+3j)\n"
     ]
    }
   ],
   "source": [
    "for c in s:\n",
    "    print(c)"
   ]
  },
  {
   "cell_type": "code",
   "execution_count": 13,
   "metadata": {},
   "outputs": [
    {
     "data": {
      "text/plain": [
       "True"
      ]
     },
     "execution_count": 13,
     "metadata": {},
     "output_type": "execute_result"
    }
   ],
   "source": [
    "'a' in ['a', 'b', 100]"
   ]
  },
  {
   "cell_type": "code",
   "execution_count": 14,
   "metadata": {},
   "outputs": [
    {
     "data": {
      "text/plain": [
       "True"
      ]
     },
     "execution_count": 14,
     "metadata": {},
     "output_type": "execute_result"
    }
   ],
   "source": [
    "100 in range(200)"
   ]
  },
  {
   "cell_type": "code",
   "execution_count": 15,
   "metadata": {},
   "outputs": [
    {
     "data": {
      "text/plain": [
       "True"
      ]
     },
     "execution_count": 15,
     "metadata": {},
     "output_type": "execute_result"
    }
   ],
   "source": [
    "s = {10, 'a', 1+3j}\n",
    "10 in s"
   ]
  },
  {
   "cell_type": "code",
   "execution_count": 16,
   "metadata": {},
   "outputs": [
    {
     "data": {
      "text/plain": [
       "(6, 3, 3, 2)"
      ]
     },
     "execution_count": 16,
     "metadata": {},
     "output_type": "execute_result"
    }
   ],
   "source": [
    "len('python'), len([1, 2, 3]), len({10, 20, 30}), len({'a': 1, 'b': 2})"
   ]
  },
  {
   "cell_type": "code",
   "execution_count": 17,
   "metadata": {},
   "outputs": [
    {
     "data": {
      "text/plain": [
       "(100, 300)"
      ]
     },
     "execution_count": 17,
     "metadata": {},
     "output_type": "execute_result"
    }
   ],
   "source": [
    "a = [100, 300, 200]\n",
    "min(a), max(a)"
   ]
  },
  {
   "cell_type": "code",
   "execution_count": 18,
   "metadata": {},
   "outputs": [
    {
     "data": {
      "text/plain": [
       "('h', 'y')"
      ]
     },
     "execution_count": 18,
     "metadata": {},
     "output_type": "execute_result"
    }
   ],
   "source": [
    "s = 'python'\n",
    "min(s), max(s)"
   ]
  },
  {
   "cell_type": "code",
   "execution_count": 19,
   "metadata": {},
   "outputs": [
    {
     "data": {
      "text/plain": [
       "('h', 'y')"
      ]
     },
     "execution_count": 19,
     "metadata": {},
     "output_type": "execute_result"
    }
   ],
   "source": [
    "s = {'p', 'y', 't', 'h', 'o', 'n'}\n",
    "min(s), max(s)"
   ]
  },
  {
   "cell_type": "code",
   "execution_count": 20,
   "metadata": {},
   "outputs": [
    {
     "ename": "TypeError",
     "evalue": "'<' not supported between instances of 'complex' and 'complex'",
     "output_type": "error",
     "traceback": [
      "\u001b[1;31m---------------------------------------------------------------------------\u001b[0m",
      "\u001b[1;31mTypeError\u001b[0m                                 Traceback (most recent call last)",
      "\u001b[1;32m~\\AppData\\Local\\Temp\\ipykernel_14856\\3946246261.py\u001b[0m in \u001b[0;36m<module>\u001b[1;34m\u001b[0m\n\u001b[0;32m      1\u001b[0m \u001b[0ma\u001b[0m \u001b[1;33m=\u001b[0m \u001b[1;33m[\u001b[0m\u001b[1;36m1\u001b[0m\u001b[1;33m+\u001b[0m\u001b[1;36m1j\u001b[0m\u001b[1;33m,\u001b[0m \u001b[1;36m2\u001b[0m\u001b[1;33m+\u001b[0m\u001b[1;36m2j\u001b[0m\u001b[1;33m,\u001b[0m \u001b[1;36m3\u001b[0m\u001b[1;33m+\u001b[0m\u001b[1;36m3j\u001b[0m\u001b[1;33m]\u001b[0m\u001b[1;33m\u001b[0m\u001b[1;33m\u001b[0m\u001b[0m\n\u001b[1;32m----> 2\u001b[1;33m \u001b[0mmin\u001b[0m\u001b[1;33m(\u001b[0m\u001b[0ma\u001b[0m\u001b[1;33m)\u001b[0m\u001b[1;33m\u001b[0m\u001b[1;33m\u001b[0m\u001b[0m\n\u001b[0m",
      "\u001b[1;31mTypeError\u001b[0m: '<' not supported between instances of 'complex' and 'complex'"
     ]
    }
   ],
   "source": [
    "a = [1+1j, 2+2j, 3+3j]\n",
    "min(a)"
   ]
  },
  {
   "cell_type": "code",
   "execution_count": 21,
   "metadata": {},
   "outputs": [],
   "source": [
    "from decimal import Decimal"
   ]
  },
  {
   "cell_type": "code",
   "execution_count": 22,
   "metadata": {},
   "outputs": [],
   "source": [
    "t = 10, 20.5, Decimal('30.5')"
   ]
  },
  {
   "cell_type": "code",
   "execution_count": 23,
   "metadata": {},
   "outputs": [
    {
     "data": {
      "text/plain": [
       "(10, Decimal('30.5'))"
      ]
     },
     "execution_count": 23,
     "metadata": {},
     "output_type": "execute_result"
    }
   ],
   "source": [
    "min(t), max(t)"
   ]
  },
  {
   "cell_type": "code",
   "execution_count": 24,
   "metadata": {},
   "outputs": [
    {
     "ename": "TypeError",
     "evalue": "'<' not supported between instances of 'int' and 'str'",
     "output_type": "error",
     "traceback": [
      "\u001b[1;31m---------------------------------------------------------------------------\u001b[0m",
      "\u001b[1;31mTypeError\u001b[0m                                 Traceback (most recent call last)",
      "\u001b[1;32m~\\AppData\\Local\\Temp\\ipykernel_14856\\315784993.py\u001b[0m in \u001b[0;36m<module>\u001b[1;34m\u001b[0m\n\u001b[0;32m      1\u001b[0m \u001b[0mt\u001b[0m \u001b[1;33m=\u001b[0m \u001b[1;33m[\u001b[0m\u001b[1;34m'a'\u001b[0m\u001b[1;33m,\u001b[0m \u001b[1;36m10\u001b[0m\u001b[1;33m,\u001b[0m \u001b[1;36m1000\u001b[0m\u001b[1;33m]\u001b[0m\u001b[1;33m\u001b[0m\u001b[1;33m\u001b[0m\u001b[0m\n\u001b[1;32m----> 2\u001b[1;33m \u001b[0mmin\u001b[0m\u001b[1;33m(\u001b[0m\u001b[0mt\u001b[0m\u001b[1;33m)\u001b[0m\u001b[1;33m\u001b[0m\u001b[1;33m\u001b[0m\u001b[0m\n\u001b[0m",
      "\u001b[1;31mTypeError\u001b[0m: '<' not supported between instances of 'int' and 'str'"
     ]
    }
   ],
   "source": [
    "t = ['a', 10, 1000]\n",
    "min(t)"
   ]
  },
  {
   "cell_type": "code",
   "execution_count": 25,
   "metadata": {},
   "outputs": [
    {
     "data": {
      "text/plain": [
       "(10, 199)"
      ]
     },
     "execution_count": 25,
     "metadata": {},
     "output_type": "execute_result"
    }
   ],
   "source": [
    "r = range(10, 200)\n",
    "min(r), max(r)"
   ]
  },
  {
   "cell_type": "code",
   "execution_count": 26,
   "metadata": {},
   "outputs": [
    {
     "data": {
      "text/plain": [
       "[1, 2, 3, 4, 5, 6]"
      ]
     },
     "execution_count": 26,
     "metadata": {},
     "output_type": "execute_result"
    }
   ],
   "source": [
    "[1, 2, 3] + [4, 5, 6]"
   ]
  },
  {
   "cell_type": "code",
   "execution_count": 27,
   "metadata": {},
   "outputs": [
    {
     "data": {
      "text/plain": [
       "(1, 2, 3, 4, 5, 6)"
      ]
     },
     "execution_count": 27,
     "metadata": {},
     "output_type": "execute_result"
    }
   ],
   "source": [
    "(1, 2, 3) + (4, 5, 6)"
   ]
  },
  {
   "cell_type": "code",
   "execution_count": 28,
   "metadata": {},
   "outputs": [
    {
     "ename": "TypeError",
     "evalue": "can only concatenate tuple (not \"list\") to tuple",
     "output_type": "error",
     "traceback": [
      "\u001b[1;31m---------------------------------------------------------------------------\u001b[0m",
      "\u001b[1;31mTypeError\u001b[0m                                 Traceback (most recent call last)",
      "\u001b[1;32m~\\AppData\\Local\\Temp\\ipykernel_14856\\2112381648.py\u001b[0m in \u001b[0;36m<module>\u001b[1;34m\u001b[0m\n\u001b[1;32m----> 1\u001b[1;33m \u001b[1;33m(\u001b[0m\u001b[1;36m1\u001b[0m\u001b[1;33m,\u001b[0m \u001b[1;36m2\u001b[0m\u001b[1;33m,\u001b[0m \u001b[1;36m3\u001b[0m\u001b[1;33m)\u001b[0m \u001b[1;33m+\u001b[0m \u001b[1;33m[\u001b[0m\u001b[1;36m4\u001b[0m\u001b[1;33m,\u001b[0m \u001b[1;36m5\u001b[0m\u001b[1;33m,\u001b[0m \u001b[1;36m6\u001b[0m\u001b[1;33m]\u001b[0m\u001b[1;33m\u001b[0m\u001b[1;33m\u001b[0m\u001b[0m\n\u001b[0m",
      "\u001b[1;31mTypeError\u001b[0m: can only concatenate tuple (not \"list\") to tuple"
     ]
    }
   ],
   "source": [
    "(1, 2, 3) + [4, 5, 6]"
   ]
  },
  {
   "cell_type": "code",
   "execution_count": 29,
   "metadata": {},
   "outputs": [
    {
     "ename": "TypeError",
     "evalue": "can only concatenate str (not \"list\") to str",
     "output_type": "error",
     "traceback": [
      "\u001b[1;31m---------------------------------------------------------------------------\u001b[0m",
      "\u001b[1;31mTypeError\u001b[0m                                 Traceback (most recent call last)",
      "\u001b[1;32m~\\AppData\\Local\\Temp\\ipykernel_14856\\621640169.py\u001b[0m in \u001b[0;36m<module>\u001b[1;34m\u001b[0m\n\u001b[1;32m----> 1\u001b[1;33m \u001b[1;34m'abc'\u001b[0m \u001b[1;33m+\u001b[0m \u001b[1;33m[\u001b[0m\u001b[1;34m'd'\u001b[0m\u001b[1;33m,\u001b[0m \u001b[1;34m'e'\u001b[0m\u001b[1;33m,\u001b[0m \u001b[1;34m'f'\u001b[0m\u001b[1;33m]\u001b[0m\u001b[1;33m\u001b[0m\u001b[1;33m\u001b[0m\u001b[0m\n\u001b[0m",
      "\u001b[1;31mTypeError\u001b[0m: can only concatenate str (not \"list\") to str"
     ]
    }
   ],
   "source": [
    "'abc' + ['d', 'e', 'f']"
   ]
  },
  {
   "cell_type": "code",
   "execution_count": 30,
   "metadata": {},
   "outputs": [
    {
     "data": {
      "text/plain": [
       "(1, 2, 3, 4, 5, 6)"
      ]
     },
     "execution_count": 30,
     "metadata": {},
     "output_type": "execute_result"
    }
   ],
   "source": [
    "(1, 2, 3) + tuple([4, 5, 6])"
   ]
  },
  {
   "cell_type": "code",
   "execution_count": 31,
   "metadata": {},
   "outputs": [
    {
     "data": {
      "text/plain": [
       "('a', 'b', 'c', 'd', 'e', 'f')"
      ]
     },
     "execution_count": 31,
     "metadata": {},
     "output_type": "execute_result"
    }
   ],
   "source": [
    "tuple('abc') + ('d', 'e', 'f')"
   ]
  },
  {
   "cell_type": "code",
   "execution_count": 32,
   "metadata": {},
   "outputs": [
    {
     "data": {
      "text/plain": [
       "'abcdef'"
      ]
     },
     "execution_count": 32,
     "metadata": {},
     "output_type": "execute_result"
    }
   ],
   "source": [
    "''.join(tuple('abc') + ('d', 'e', 'f'))"
   ]
  },
  {
   "cell_type": "code",
   "execution_count": 33,
   "metadata": {},
   "outputs": [
    {
     "data": {
      "text/plain": [
       "'abcabcabcabcabc'"
      ]
     },
     "execution_count": 33,
     "metadata": {},
     "output_type": "execute_result"
    }
   ],
   "source": [
    "'abc' * 5"
   ]
  },
  {
   "cell_type": "code",
   "execution_count": 34,
   "metadata": {},
   "outputs": [
    {
     "data": {
      "text/plain": [
       "[1, 2, 3, 1, 2, 3, 1, 2, 3, 1, 2, 3, 1, 2, 3]"
      ]
     },
     "execution_count": 34,
     "metadata": {},
     "output_type": "execute_result"
    }
   ],
   "source": [
    "[1, 2, 3] * 5"
   ]
  },
  {
   "cell_type": "code",
   "execution_count": 35,
   "metadata": {},
   "outputs": [],
   "source": [
    "s = \"gnu's not unix\""
   ]
  },
  {
   "cell_type": "code",
   "execution_count": 36,
   "metadata": {},
   "outputs": [
    {
     "data": {
      "text/plain": [
       "1"
      ]
     },
     "execution_count": 36,
     "metadata": {},
     "output_type": "execute_result"
    }
   ],
   "source": [
    "s.index('n')"
   ]
  },
  {
   "cell_type": "code",
   "execution_count": 37,
   "metadata": {},
   "outputs": [
    {
     "data": {
      "text/plain": [
       "(1, 6, 11)"
      ]
     },
     "execution_count": 37,
     "metadata": {},
     "output_type": "execute_result"
    }
   ],
   "source": [
    "s.index('n', 1), s.index('n', 2), s.index('n', 8)"
   ]
  },
  {
   "cell_type": "code",
   "execution_count": 38,
   "metadata": {},
   "outputs": [
    {
     "ename": "ValueError",
     "evalue": "substring not found",
     "output_type": "error",
     "traceback": [
      "\u001b[1;31m---------------------------------------------------------------------------\u001b[0m",
      "\u001b[1;31mValueError\u001b[0m                                Traceback (most recent call last)",
      "\u001b[1;32m~\\AppData\\Local\\Temp\\ipykernel_14856\\1520485601.py\u001b[0m in \u001b[0;36m<module>\u001b[1;34m\u001b[0m\n\u001b[1;32m----> 1\u001b[1;33m \u001b[0ms\u001b[0m\u001b[1;33m.\u001b[0m\u001b[0mindex\u001b[0m\u001b[1;33m(\u001b[0m\u001b[1;34m'n'\u001b[0m\u001b[1;33m,\u001b[0m \u001b[1;36m13\u001b[0m\u001b[1;33m)\u001b[0m\u001b[1;33m\u001b[0m\u001b[1;33m\u001b[0m\u001b[0m\n\u001b[0m",
      "\u001b[1;31mValueError\u001b[0m: substring not found"
     ]
    }
   ],
   "source": [
    "s.index('n', 13)"
   ]
  },
  {
   "cell_type": "code",
   "execution_count": 39,
   "metadata": {},
   "outputs": [
    {
     "name": "stdout",
     "output_type": "stream",
     "text": [
      "not found\n"
     ]
    }
   ],
   "source": [
    "try:\n",
    "    idx = s.index('n', 13)\n",
    "except ValueError:\n",
    "    print('not found')"
   ]
  },
  {
   "cell_type": "code",
   "execution_count": 40,
   "metadata": {},
   "outputs": [],
   "source": [
    "s = 'python'\n",
    "l = [1, 2, 3, 4, 5, 6, 7, 8, 9, 10]"
   ]
  },
  {
   "cell_type": "code",
   "execution_count": 41,
   "metadata": {},
   "outputs": [
    {
     "data": {
      "text/plain": [
       "('pyt', 'on')"
      ]
     },
     "execution_count": 41,
     "metadata": {},
     "output_type": "execute_result"
    }
   ],
   "source": [
    "s[0:3], s[4:6]"
   ]
  },
  {
   "cell_type": "code",
   "execution_count": 42,
   "metadata": {},
   "outputs": [
    {
     "data": {
      "text/plain": [
       "([1, 2, 3], [5, 6])"
      ]
     },
     "execution_count": 42,
     "metadata": {},
     "output_type": "execute_result"
    }
   ],
   "source": [
    "l[0:3], l[4:6]"
   ]
  },
  {
   "cell_type": "code",
   "execution_count": 43,
   "metadata": {},
   "outputs": [
    {
     "data": {
      "text/plain": [
       "'on'"
      ]
     },
     "execution_count": 43,
     "metadata": {},
     "output_type": "execute_result"
    }
   ],
   "source": [
    "s[4:1000]"
   ]
  },
  {
   "cell_type": "code",
   "execution_count": 44,
   "metadata": {},
   "outputs": [
    {
     "data": {
      "text/plain": [
       "('pyt', 'pyt')"
      ]
     },
     "execution_count": 44,
     "metadata": {},
     "output_type": "execute_result"
    }
   ],
   "source": [
    "s[0:3], s[:3]"
   ]
  },
  {
   "cell_type": "code",
   "execution_count": 45,
   "metadata": {},
   "outputs": [
    {
     "data": {
      "text/plain": [
       "('hon', 'hon', 'python')"
      ]
     },
     "execution_count": 45,
     "metadata": {},
     "output_type": "execute_result"
    }
   ],
   "source": [
    "s[3:1000], s[3:], s[:]"
   ]
  },
  {
   "cell_type": "code",
   "execution_count": 46,
   "metadata": {},
   "outputs": [
    {
     "data": {
      "text/plain": [
       "('python', 'pytho', 'pto')"
      ]
     },
     "execution_count": 46,
     "metadata": {},
     "output_type": "execute_result"
    }
   ],
   "source": [
    "s, s[0:5], s[0:5:2]"
   ]
  },
  {
   "cell_type": "code",
   "execution_count": 47,
   "metadata": {},
   "outputs": [
    {
     "data": {
      "text/plain": [
       "('python', 'pto')"
      ]
     },
     "execution_count": 47,
     "metadata": {},
     "output_type": "execute_result"
    }
   ],
   "source": [
    "s, s[::2]"
   ]
  },
  {
   "cell_type": "code",
   "execution_count": 48,
   "metadata": {},
   "outputs": [
    {
     "data": {
      "text/plain": [
       "('python', 'ho', 'nohtyp')"
      ]
     },
     "execution_count": 48,
     "metadata": {},
     "output_type": "execute_result"
    }
   ],
   "source": [
    "s, s[-3:-1], s[::-1]"
   ]
  },
  {
   "cell_type": "code",
   "execution_count": 49,
   "metadata": {},
   "outputs": [],
   "source": [
    "r = range(11)  # numbers from 0 to 10 (inclusive)"
   ]
  },
  {
   "cell_type": "code",
   "execution_count": 50,
   "metadata": {},
   "outputs": [
    {
     "name": "stdout",
     "output_type": "stream",
     "text": [
      "range(0, 11)\n",
      "[0, 1, 2, 3, 4, 5, 6, 7, 8, 9, 10]\n"
     ]
    }
   ],
   "source": [
    "print(r)\n",
    "print(list(r))"
   ]
  },
  {
   "cell_type": "code",
   "execution_count": 51,
   "metadata": {},
   "outputs": [],
   "source": [
    "r = range(11000000000000000000000000000000000000000000000000000000000)"
   ]
  },
  {
   "cell_type": "code",
   "execution_count": 52,
   "metadata": {},
   "outputs": [
    {
     "name": "stdout",
     "output_type": "stream",
     "text": [
      "range(0, 5)\n"
     ]
    }
   ],
   "source": [
    "print(r[:5])"
   ]
  },
  {
   "cell_type": "code",
   "execution_count": 53,
   "metadata": {},
   "outputs": [
    {
     "name": "stdout",
     "output_type": "stream",
     "text": [
      "[0, 1, 2, 3, 4]\n"
     ]
    }
   ],
   "source": [
    "print(list(r[:5]))"
   ]
  },
  {
   "cell_type": "code",
   "execution_count": 54,
   "metadata": {},
   "outputs": [
    {
     "data": {
      "text/plain": [
       "529344067295497451"
      ]
     },
     "execution_count": 54,
     "metadata": {},
     "output_type": "execute_result"
    }
   ],
   "source": [
    "l = (1, 2, 3)\n",
    "hash(l)"
   ]
  },
  {
   "cell_type": "code",
   "execution_count": 55,
   "metadata": {},
   "outputs": [
    {
     "data": {
      "text/plain": [
       "-66116863465720503"
      ]
     },
     "execution_count": 55,
     "metadata": {},
     "output_type": "execute_result"
    }
   ],
   "source": [
    "s = '123'\n",
    "hash(s)"
   ]
  },
  {
   "cell_type": "code",
   "execution_count": 56,
   "metadata": {},
   "outputs": [
    {
     "data": {
      "text/plain": [
       "-7546101314042312252"
      ]
     },
     "execution_count": 56,
     "metadata": {},
     "output_type": "execute_result"
    }
   ],
   "source": [
    "r = range(10)\n",
    "hash(r)"
   ]
  },
  {
   "cell_type": "code",
   "execution_count": 57,
   "metadata": {},
   "outputs": [],
   "source": [
    "l = [1, 2, 3]"
   ]
  },
  {
   "cell_type": "code",
   "execution_count": 58,
   "metadata": {},
   "outputs": [
    {
     "ename": "TypeError",
     "evalue": "unhashable type: 'list'",
     "output_type": "error",
     "traceback": [
      "\u001b[1;31m---------------------------------------------------------------------------\u001b[0m",
      "\u001b[1;31mTypeError\u001b[0m                                 Traceback (most recent call last)",
      "\u001b[1;32m~\\AppData\\Local\\Temp\\ipykernel_14856\\1205065729.py\u001b[0m in \u001b[0;36m<module>\u001b[1;34m\u001b[0m\n\u001b[1;32m----> 1\u001b[1;33m \u001b[0mhash\u001b[0m\u001b[1;33m(\u001b[0m\u001b[0ml\u001b[0m\u001b[1;33m)\u001b[0m\u001b[1;33m\u001b[0m\u001b[1;33m\u001b[0m\u001b[0m\n\u001b[0m",
      "\u001b[1;31mTypeError\u001b[0m: unhashable type: 'list'"
     ]
    }
   ],
   "source": [
    "hash(l)"
   ]
  },
  {
   "cell_type": "code",
   "execution_count": 59,
   "metadata": {},
   "outputs": [
    {
     "ename": "TypeError",
     "evalue": "unhashable type: 'list'",
     "output_type": "error",
     "traceback": [
      "\u001b[1;31m---------------------------------------------------------------------------\u001b[0m",
      "\u001b[1;31mTypeError\u001b[0m                                 Traceback (most recent call last)",
      "\u001b[1;32m~\\AppData\\Local\\Temp\\ipykernel_14856\\2202508906.py\u001b[0m in \u001b[0;36m<module>\u001b[1;34m\u001b[0m\n\u001b[0;32m      1\u001b[0m \u001b[0mt\u001b[0m \u001b[1;33m=\u001b[0m \u001b[1;33m(\u001b[0m\u001b[1;36m1\u001b[0m\u001b[1;33m,\u001b[0m \u001b[1;36m2\u001b[0m\u001b[1;33m,\u001b[0m \u001b[1;33m[\u001b[0m\u001b[1;36m10\u001b[0m\u001b[1;33m,\u001b[0m \u001b[1;36m20\u001b[0m\u001b[1;33m]\u001b[0m\u001b[1;33m)\u001b[0m\u001b[1;33m\u001b[0m\u001b[1;33m\u001b[0m\u001b[0m\n\u001b[1;32m----> 2\u001b[1;33m \u001b[0mhash\u001b[0m\u001b[1;33m(\u001b[0m\u001b[0mt\u001b[0m\u001b[1;33m)\u001b[0m\u001b[1;33m\u001b[0m\u001b[1;33m\u001b[0m\u001b[0m\n\u001b[0m",
      "\u001b[1;31mTypeError\u001b[0m: unhashable type: 'list'"
     ]
    }
   ],
   "source": [
    "t = (1, 2, [10, 20])\n",
    "hash(t)"
   ]
  },
  {
   "cell_type": "code",
   "execution_count": 60,
   "metadata": {},
   "outputs": [
    {
     "data": {
      "text/plain": [
       "7709632707160182844"
      ]
     },
     "execution_count": 60,
     "metadata": {},
     "output_type": "execute_result"
    }
   ],
   "source": [
    "t = ('python', (1, 2, 3))\n",
    "hash(t)"
   ]
  },
  {
   "cell_type": "code",
   "execution_count": 61,
   "metadata": {},
   "outputs": [
    {
     "data": {
      "text/plain": [
       "1152921504606846986"
      ]
     },
     "execution_count": 61,
     "metadata": {},
     "output_type": "execute_result"
    }
   ],
   "source": [
    "from decimal import Decimal\n",
    "d = Decimal(10.5)\n",
    "hash(d)"
   ]
  },
  {
   "cell_type": "code",
   "execution_count": 62,
   "metadata": {},
   "outputs": [
    {
     "ename": "TypeError",
     "evalue": "unhashable type: 'set'",
     "output_type": "error",
     "traceback": [
      "\u001b[1;31m---------------------------------------------------------------------------\u001b[0m",
      "\u001b[1;31mTypeError\u001b[0m                                 Traceback (most recent call last)",
      "\u001b[1;32m~\\AppData\\Local\\Temp\\ipykernel_14856\\1132826990.py\u001b[0m in \u001b[0;36m<module>\u001b[1;34m\u001b[0m\n\u001b[0;32m      1\u001b[0m \u001b[0ms\u001b[0m \u001b[1;33m=\u001b[0m \u001b[1;33m{\u001b[0m\u001b[1;36m1\u001b[0m\u001b[1;33m,\u001b[0m \u001b[1;36m2\u001b[0m\u001b[1;33m,\u001b[0m \u001b[1;36m3\u001b[0m\u001b[1;33m}\u001b[0m\u001b[1;33m\u001b[0m\u001b[1;33m\u001b[0m\u001b[0m\n\u001b[1;32m----> 2\u001b[1;33m \u001b[0mhash\u001b[0m\u001b[1;33m(\u001b[0m\u001b[0ms\u001b[0m\u001b[1;33m)\u001b[0m\u001b[1;33m\u001b[0m\u001b[1;33m\u001b[0m\u001b[0m\n\u001b[0m",
      "\u001b[1;31mTypeError\u001b[0m: unhashable type: 'set'"
     ]
    }
   ],
   "source": [
    "s = {1, 2, 3}\n",
    "hash(s)"
   ]
  },
  {
   "cell_type": "code",
   "execution_count": 63,
   "metadata": {},
   "outputs": [],
   "source": [
    "s = frozenset({1, 2, 3})"
   ]
  },
  {
   "cell_type": "code",
   "execution_count": 64,
   "metadata": {},
   "outputs": [
    {
     "data": {
      "text/plain": [
       "-272375401224217160"
      ]
     },
     "execution_count": 64,
     "metadata": {},
     "output_type": "execute_result"
    }
   ],
   "source": [
    "hash(s)"
   ]
  },
  {
   "cell_type": "code",
   "execution_count": 65,
   "metadata": {},
   "outputs": [],
   "source": [
    "x = [2000]"
   ]
  },
  {
   "cell_type": "code",
   "execution_count": 66,
   "metadata": {},
   "outputs": [
    {
     "data": {
      "text/plain": [
       "2247838055792"
      ]
     },
     "execution_count": 66,
     "metadata": {},
     "output_type": "execute_result"
    }
   ],
   "source": [
    "id(x[0])"
   ]
  },
  {
   "cell_type": "code",
   "execution_count": 67,
   "metadata": {},
   "outputs": [],
   "source": [
    "l = x + x"
   ]
  },
  {
   "cell_type": "code",
   "execution_count": 68,
   "metadata": {},
   "outputs": [
    {
     "data": {
      "text/plain": [
       "[2000, 2000]"
      ]
     },
     "execution_count": 68,
     "metadata": {},
     "output_type": "execute_result"
    }
   ],
   "source": [
    "l"
   ]
  },
  {
   "cell_type": "code",
   "execution_count": 69,
   "metadata": {},
   "outputs": [
    {
     "data": {
      "text/plain": [
       "(2247838055792, 2247838055792)"
      ]
     },
     "execution_count": 69,
     "metadata": {},
     "output_type": "execute_result"
    }
   ],
   "source": [
    "id(l[0]), id(l[1])"
   ]
  },
  {
   "cell_type": "code",
   "execution_count": 70,
   "metadata": {},
   "outputs": [
    {
     "data": {
      "text/plain": [
       "True"
      ]
     },
     "execution_count": 70,
     "metadata": {},
     "output_type": "execute_result"
    }
   ],
   "source": [
    "l[0] is l[1]"
   ]
  },
  {
   "cell_type": "code",
   "execution_count": 71,
   "metadata": {},
   "outputs": [],
   "source": [
    "x = [ [0, 0] ]\n",
    "l = x + x"
   ]
  },
  {
   "cell_type": "code",
   "execution_count": 72,
   "metadata": {},
   "outputs": [
    {
     "data": {
      "text/plain": [
       "[[0, 0], [0, 0]]"
      ]
     },
     "execution_count": 72,
     "metadata": {},
     "output_type": "execute_result"
    }
   ],
   "source": [
    "l"
   ]
  },
  {
   "cell_type": "code",
   "execution_count": 73,
   "metadata": {},
   "outputs": [
    {
     "data": {
      "text/plain": [
       "True"
      ]
     },
     "execution_count": 73,
     "metadata": {},
     "output_type": "execute_result"
    }
   ],
   "source": [
    "l[0] is l[1]"
   ]
  },
  {
   "cell_type": "code",
   "execution_count": 74,
   "metadata": {},
   "outputs": [],
   "source": [
    "l[0][0] = 100"
   ]
  },
  {
   "cell_type": "code",
   "execution_count": 75,
   "metadata": {},
   "outputs": [],
   "source": [
    "x = [ [0, 0] ]\n",
    "m = [e.copy() for e in x*3]"
   ]
  },
  {
   "cell_type": "code",
   "execution_count": 76,
   "metadata": {},
   "outputs": [
    {
     "data": {
      "text/plain": [
       "[[0, 0], [0, 0], [0, 0]]"
      ]
     },
     "execution_count": 76,
     "metadata": {},
     "output_type": "execute_result"
    }
   ],
   "source": [
    "m"
   ]
  },
  {
   "cell_type": "markdown",
   "metadata": {},
   "source": [
    "# Mutable Sequences"
   ]
  },
  {
   "cell_type": "code",
   "execution_count": 77,
   "metadata": {},
   "outputs": [
    {
     "name": "stdout",
     "output_type": "stream",
     "text": [
      "2247838096640\n",
      "2247838096640 ['a', 2, 3, 4, 5]\n"
     ]
    }
   ],
   "source": [
    "l = [1, 2, 3, 4, 5]\n",
    "print(id(l))\n",
    "l[0] = 'a'\n",
    "print(id(l), l)"
   ]
  },
  {
   "cell_type": "code",
   "execution_count": 78,
   "metadata": {},
   "outputs": [
    {
     "name": "stdout",
     "output_type": "stream",
     "text": [
      "[]\n"
     ]
    }
   ],
   "source": [
    "l = [1, 2, 3, 4, 5]\n",
    "l.clear()\n",
    "print(l)"
   ]
  },
  {
   "cell_type": "code",
   "execution_count": 79,
   "metadata": {},
   "outputs": [
    {
     "name": "stdout",
     "output_type": "stream",
     "text": [
      "[]\n"
     ]
    }
   ],
   "source": [
    "l = [1, 2, 3, 4, 5]\n",
    "l = []\n",
    "print(l)"
   ]
  },
  {
   "cell_type": "code",
   "execution_count": 80,
   "metadata": {},
   "outputs": [
    {
     "name": "stdout",
     "output_type": "stream",
     "text": [
      "2247838100672\n",
      "[] 2247838100672\n"
     ]
    }
   ],
   "source": [
    "l = [1, 2, 3, 4, 5]\n",
    "print(id(l))\n",
    "l.clear()\n",
    "print(l, id(l))"
   ]
  },
  {
   "cell_type": "code",
   "execution_count": 81,
   "metadata": {},
   "outputs": [
    {
     "name": "stdout",
     "output_type": "stream",
     "text": [
      "2247837985536\n",
      "[] 2247808037312\n"
     ]
    }
   ],
   "source": [
    "l = [1, 2, 3, 4, 5]\n",
    "print(id(l))\n",
    "l = []\n",
    "print(l, id(l))"
   ]
  },
  {
   "cell_type": "code",
   "execution_count": 82,
   "metadata": {},
   "outputs": [
    {
     "name": "stdout",
     "output_type": "stream",
     "text": [
      "[] ['Spades', 'Hearts', 'Diamonds', 'Clubs']\n"
     ]
    }
   ],
   "source": [
    "suits = ['Spades', 'Hearts', 'Diamonds', 'Clubs']\n",
    "alias = suits\n",
    "suits = []\n",
    "print(suits, alias)"
   ]
  },
  {
   "cell_type": "code",
   "execution_count": 83,
   "metadata": {},
   "outputs": [
    {
     "name": "stdout",
     "output_type": "stream",
     "text": [
      "[] []\n"
     ]
    }
   ],
   "source": [
    "suits = ['Spades', 'Hearts', 'Diamonds', 'Clubs']\n",
    "alias = suits\n",
    "suits.clear()\n",
    "print(suits, alias)"
   ]
  },
  {
   "cell_type": "code",
   "execution_count": 84,
   "metadata": {},
   "outputs": [
    {
     "name": "stdout",
     "output_type": "stream",
     "text": [
      "2247837751424\n",
      "2247837751424 ['a', 'b', 'c', 'd', 'e', 3, 4, 5]\n"
     ]
    }
   ],
   "source": [
    "l = [1, 2, 3, 4, 5]\n",
    "print(id(l))\n",
    "l[0:2] = ['a', 'b', 'c', 'd', 'e']\n",
    "print(id(l), l)"
   ]
  },
  {
   "cell_type": "code",
   "execution_count": 85,
   "metadata": {},
   "outputs": [
    {
     "name": "stdout",
     "output_type": "stream",
     "text": [
      "2247806800192\n",
      "[1, 2, 3, 4] 2247806800192\n"
     ]
    }
   ],
   "source": [
    "l = [1, 2, 3]\n",
    "print(id(l))\n",
    "l.append(4)\n",
    "print(l, id(l))"
   ]
  },
  {
   "cell_type": "code",
   "execution_count": 86,
   "metadata": {},
   "outputs": [
    {
     "name": "stdout",
     "output_type": "stream",
     "text": [
      "2247837215424\n",
      "2247806800192 [1, 2, 3, 4]\n"
     ]
    }
   ],
   "source": [
    "l = [1, 2, 3]\n",
    "print(id(l))\n",
    "l = l + [4]\n",
    "print(id(l), l)"
   ]
  },
  {
   "cell_type": "code",
   "execution_count": 87,
   "metadata": {},
   "outputs": [
    {
     "name": "stdout",
     "output_type": "stream",
     "text": [
      "2247838125184\n",
      "2247838125184 [1, 2, 3, 4, 5, 'b', 'a', 'c']\n"
     ]
    }
   ],
   "source": [
    "l = [1, 2, 3, 4, 5]\n",
    "print(id(l))\n",
    "l.extend({'a', 'b', 'c'})\n",
    "print(id(l), l)"
   ]
  },
  {
   "cell_type": "code",
   "execution_count": 88,
   "metadata": {},
   "outputs": [
    {
     "name": "stdout",
     "output_type": "stream",
     "text": [
      "[1, 2, 3, 'a', 'b', 'c']\n"
     ]
    }
   ],
   "source": [
    "l = [1, 2, 3]\n",
    "l.extend(('a', 'b', 'c'))\n",
    "print(l)"
   ]
  },
  {
   "cell_type": "code",
   "execution_count": 89,
   "metadata": {},
   "outputs": [
    {
     "name": "stdout",
     "output_type": "stream",
     "text": [
      "2247806818304\n",
      "2247806818304 2 [1, 3, 4]\n"
     ]
    }
   ],
   "source": [
    "l = [1, 2, 3, 4]\n",
    "print(id(l))\n",
    "popped = l.pop(1)\n",
    "print(id(l), popped, l)"
   ]
  },
  {
   "cell_type": "code",
   "execution_count": 90,
   "metadata": {},
   "outputs": [
    {
     "name": "stdout",
     "output_type": "stream",
     "text": [
      "4\n",
      "2247838100672 4 [1, 2, 3]\n"
     ]
    }
   ],
   "source": [
    "l = [1, 2, 3, 4]\n",
    "popped = l.pop()\n",
    "print(popped)\n",
    "print(id(l), popped, l)"
   ]
  },
  {
   "cell_type": "code",
   "execution_count": 91,
   "metadata": {},
   "outputs": [
    {
     "name": "stdout",
     "output_type": "stream",
     "text": [
      "2247806818304\n",
      "2247806818304 [1, 'a', 2, 3, 4]\n"
     ]
    }
   ],
   "source": [
    "l = [1, 2, 3, 4]\n",
    "print(id(l))\n",
    "l.insert(1, 'a')\n",
    "print(id(l), l)"
   ]
  },
  {
   "cell_type": "code",
   "execution_count": 92,
   "metadata": {},
   "outputs": [
    {
     "name": "stdout",
     "output_type": "stream",
     "text": [
      "2247838151232\n",
      "2247838151232 [4, 3, 2, 1]\n"
     ]
    }
   ],
   "source": [
    "l = [1, 2, 3, 4]\n",
    "print(id(l))\n",
    "l.reverse()\n",
    "print(id(l), l)"
   ]
  },
  {
   "cell_type": "code",
   "execution_count": 93,
   "metadata": {},
   "outputs": [
    {
     "data": {
      "text/plain": [
       "[4, 3, 2, 1]"
      ]
     },
     "execution_count": 93,
     "metadata": {},
     "output_type": "execute_result"
    }
   ],
   "source": [
    "l = [1, 2, 3, 4]\n",
    "l[::-1]"
   ]
  },
  {
   "cell_type": "code",
   "execution_count": 94,
   "metadata": {},
   "outputs": [
    {
     "name": "stdout",
     "output_type": "stream",
     "text": [
      "2247838151872\n",
      "2247806800192 [4, 3, 2, 1]\n"
     ]
    }
   ],
   "source": [
    "l = [1, 2, 3, 4]\n",
    "print(id(l))\n",
    "l = l[::-1]\n",
    "print(id(l), l)"
   ]
  },
  {
   "cell_type": "code",
   "execution_count": 95,
   "metadata": {},
   "outputs": [
    {
     "name": "stdout",
     "output_type": "stream",
     "text": [
      "2247837751104\n",
      "2247838019968 [1, 2, 3, 4]\n"
     ]
    }
   ],
   "source": [
    "l = [1, 2, 3, 4]\n",
    "print(id(l))\n",
    "l2 = l.copy()\n",
    "print(id(l2), l2)"
   ]
  },
  {
   "cell_type": "code",
   "execution_count": 96,
   "metadata": {},
   "outputs": [
    {
     "name": "stdout",
     "output_type": "stream",
     "text": [
      "2247838151296\n",
      "2247838095616 [1, 2, 3, 4]\n"
     ]
    }
   ],
   "source": [
    "l = [1, 2, 3, 4]\n",
    "print(id(l))\n",
    "l2 = l[:]\n",
    "print(id(l2), l2)"
   ]
  },
  {
   "cell_type": "markdown",
   "metadata": {},
   "source": [
    "# Lists vs Tuples"
   ]
  },
  {
   "cell_type": "markdown",
   "metadata": {},
   "source": [
    "### Constant Folding"
   ]
  },
  {
   "cell_type": "code",
   "execution_count": 97,
   "metadata": {},
   "outputs": [],
   "source": [
    "from dis import dis"
   ]
  },
  {
   "cell_type": "code",
   "execution_count": 98,
   "metadata": {},
   "outputs": [
    {
     "data": {
      "text/plain": [
       "[1, 2, 3]"
      ]
     },
     "execution_count": 98,
     "metadata": {},
     "output_type": "execute_result"
    }
   ],
   "source": [
    "(1, 2, 3)\n",
    "[1, 2, 3]"
   ]
  },
  {
   "cell_type": "code",
   "execution_count": 99,
   "metadata": {},
   "outputs": [
    {
     "name": "stdout",
     "output_type": "stream",
     "text": [
      "  1           0 LOAD_CONST               0 ((1, 2, 3, 'a'))\n",
      "              2 RETURN_VALUE\n"
     ]
    }
   ],
   "source": [
    "dis(compile('(1,2,3, \"a\")', 'string', 'eval'))"
   ]
  },
  {
   "cell_type": "code",
   "execution_count": 100,
   "metadata": {},
   "outputs": [
    {
     "name": "stdout",
     "output_type": "stream",
     "text": [
      "  1           0 BUILD_LIST               0\n",
      "              2 LOAD_CONST               0 ((1, 2, 3, 'a'))\n",
      "              4 LIST_EXTEND              1\n",
      "              6 RETURN_VALUE\n"
     ]
    }
   ],
   "source": [
    "dis(compile('[1,2,3, \"a\"]', 'string', 'eval'))"
   ]
  },
  {
   "cell_type": "code",
   "execution_count": 106,
   "metadata": {},
   "outputs": [
    {
     "name": "stdout",
     "output_type": "stream",
     "text": [
      "  1           0 BUILD_LIST               0\n",
      "              2 LOAD_CONST               0 ((1, 2, 3, 'a', (1+4j), 1, 2, 3, 4, 5, 6, 7, 8, 9))\n",
      "              4 LIST_EXTEND              1\n",
      "              6 POP_TOP\n",
      "              8 LOAD_CONST               1 (None)\n",
      "             10 RETURN_VALUE\n"
     ]
    }
   ],
   "source": [
    "dis(compile('[1,2,3, \"a\", 1+4j, 1, 2, 3, 4, 5, 6, 7, 8, 9]', 'string', 'exec'))"
   ]
  },
  {
   "cell_type": "code",
   "execution_count": 103,
   "metadata": {},
   "outputs": [
    {
     "data": {
      "text/plain": [
       "0.1637258999999176"
      ]
     },
     "execution_count": 103,
     "metadata": {},
     "output_type": "execute_result"
    }
   ],
   "source": [
    "from timeit import timeit\n",
    "timeit(\"(1,2,3,4,5,6,7,8,9)\", number=10_000_000)"
   ]
  },
  {
   "cell_type": "code",
   "execution_count": 104,
   "metadata": {},
   "outputs": [
    {
     "data": {
      "text/plain": [
       "0.8841903000002276"
      ]
     },
     "execution_count": 104,
     "metadata": {},
     "output_type": "execute_result"
    }
   ],
   "source": [
    "timeit(\"[1,2,3,4,5,6,7,8,9]\", number=10_000_000)"
   ]
  },
  {
   "cell_type": "code",
   "execution_count": 107,
   "metadata": {},
   "outputs": [],
   "source": [
    "def fn1():\n",
    "    pass"
   ]
  },
  {
   "cell_type": "code",
   "execution_count": 108,
   "metadata": {},
   "outputs": [
    {
     "name": "stdout",
     "output_type": "stream",
     "text": [
      "  1           0 LOAD_NAME                0 (fn1)\n",
      "              2 LOAD_CONST               0 (10)\n",
      "              4 LOAD_CONST               1 (20)\n",
      "              6 BUILD_TUPLE              3\n",
      "              8 RETURN_VALUE\n"
     ]
    }
   ],
   "source": [
    "dis(compile('(fn1, 10, 20)', 'string', 'eval'))"
   ]
  },
  {
   "cell_type": "code",
   "execution_count": 111,
   "metadata": {},
   "outputs": [
    {
     "name": "stdout",
     "output_type": "stream",
     "text": [
      "  1           0 LOAD_CONST               0 ((1, 2, 3, 'a'))\n",
      "              2 RETURN_VALUE\n"
     ]
    }
   ],
   "source": [
    "dis(compile('(1,2,3, \"a\")', 'string', 'eval'))"
   ]
  },
  {
   "cell_type": "code",
   "execution_count": 110,
   "metadata": {},
   "outputs": [
    {
     "name": "stdout",
     "output_type": "stream",
     "text": [
      "  1           0 LOAD_NAME                0 (fn)\n",
      "              2 LOAD_CONST               0 (1)\n",
      "              4 LOAD_CONST               1 (2)\n",
      "              6 LOAD_CONST               2 (3)\n",
      "              8 LOAD_CONST               3 ('a')\n",
      "             10 BUILD_LIST               5\n",
      "             12 RETURN_VALUE\n"
     ]
    }
   ],
   "source": [
    "dis(compile('[fn, 1,2,3, \"a\"]', 'string', 'eval'))"
   ]
  },
  {
   "cell_type": "code",
   "execution_count": 112,
   "metadata": {},
   "outputs": [
    {
     "name": "stdout",
     "output_type": "stream",
     "text": [
      "  1           0 LOAD_NAME                0 (fn1)\n",
      "              2 LOAD_CONST               0 (10)\n",
      "              4 LOAD_CONST               1 (20)\n",
      "              6 BUILD_TUPLE              3\n",
      "              8 RETURN_VALUE\n"
     ]
    }
   ],
   "source": [
    "dis(compile('(fn1, 10, 20)', 'string', 'eval'))"
   ]
  },
  {
   "cell_type": "code",
   "execution_count": 113,
   "metadata": {},
   "outputs": [
    {
     "name": "stdout",
     "output_type": "stream",
     "text": [
      "  1           0 LOAD_CONST               0 (1)\n",
      "              2 LOAD_CONST               1 (2)\n",
      "              4 BUILD_LIST               2\n",
      "              6 LOAD_CONST               2 (10)\n",
      "              8 LOAD_CONST               3 (20)\n",
      "             10 BUILD_TUPLE              3\n",
      "             12 RETURN_VALUE\n"
     ]
    }
   ],
   "source": [
    "dis(compile('([1,2], 10, 20)', 'string', 'eval'))"
   ]
  },
  {
   "cell_type": "code",
   "execution_count": 114,
   "metadata": {},
   "outputs": [
    {
     "name": "stdout",
     "output_type": "stream",
     "text": [
      "  1           0 LOAD_CONST               0 (1)\n",
      "              2 LOAD_CONST               1 (2)\n",
      "              4 BUILD_LIST               2\n",
      "              6 LOAD_CONST               2 (10)\n",
      "              8 LOAD_CONST               3 (20)\n",
      "             10 BUILD_LIST               3\n",
      "             12 RETURN_VALUE\n"
     ]
    }
   ],
   "source": [
    "dis(compile('[[1,2], 10, 20]', 'string', 'eval'))"
   ]
  },
  {
   "cell_type": "code",
   "execution_count": 115,
   "metadata": {},
   "outputs": [
    {
     "data": {
      "text/plain": [
       "0.10785810000015772"
      ]
     },
     "execution_count": 115,
     "metadata": {},
     "output_type": "execute_result"
    }
   ],
   "source": [
    "timeit(\"([1, 2], 10, 20)\", number=1_000_000)"
   ]
  },
  {
   "cell_type": "code",
   "execution_count": 116,
   "metadata": {},
   "outputs": [
    {
     "data": {
      "text/plain": [
       "0.16683150000062597"
      ]
     },
     "execution_count": 116,
     "metadata": {},
     "output_type": "execute_result"
    }
   ],
   "source": [
    "timeit(\"[[1, 2], 10, 20]\", number=1_000_000)"
   ]
  },
  {
   "cell_type": "code",
   "execution_count": 117,
   "metadata": {},
   "outputs": [],
   "source": [
    "l1 = [1, 2, 3, 4, 5, 6, 7, 8, 9]\n",
    "t1 = (1, 2, 3, 4, 5, 6, 7, 8, 9)"
   ]
  },
  {
   "cell_type": "code",
   "execution_count": 118,
   "metadata": {},
   "outputs": [
    {
     "data": {
      "text/plain": [
       "(2247838071488, 2247838205888)"
      ]
     },
     "execution_count": 118,
     "metadata": {},
     "output_type": "execute_result"
    }
   ],
   "source": [
    "id(l1), id(t1)"
   ]
  },
  {
   "cell_type": "code",
   "execution_count": 119,
   "metadata": {},
   "outputs": [],
   "source": [
    "l2 = list(l1)\n",
    "t2 = tuple(t1)"
   ]
  },
  {
   "cell_type": "code",
   "execution_count": 120,
   "metadata": {},
   "outputs": [
    {
     "data": {
      "text/plain": [
       "0.06690450000041892"
      ]
     },
     "execution_count": 120,
     "metadata": {},
     "output_type": "execute_result"
    }
   ],
   "source": [
    "timeit('tuple((1,2,3,4,5,6,7,8,9))', number=1_000_000)"
   ]
  },
  {
   "cell_type": "code",
   "execution_count": 121,
   "metadata": {},
   "outputs": [
    {
     "data": {
      "text/plain": [
       "0.2293269000001601"
      ]
     },
     "execution_count": 121,
     "metadata": {},
     "output_type": "execute_result"
    }
   ],
   "source": [
    "timeit('list([1,2,3,4,5,6,7,8,9])', number=1_000_000)"
   ]
  },
  {
   "cell_type": "code",
   "execution_count": 122,
   "metadata": {},
   "outputs": [
    {
     "data": {
      "text/plain": [
       "(2247838071488, 2247838276224, 2247838205888, 2247838205888)"
      ]
     },
     "execution_count": 122,
     "metadata": {},
     "output_type": "execute_result"
    }
   ],
   "source": [
    "id(l1), id(l2), id(t1), id(t2)"
   ]
  },
  {
   "cell_type": "code",
   "execution_count": 123,
   "metadata": {},
   "outputs": [
    {
     "data": {
      "text/plain": [
       "(False, True)"
      ]
     },
     "execution_count": 123,
     "metadata": {},
     "output_type": "execute_result"
    }
   ],
   "source": [
    "l1 is l2, t1 is t2"
   ]
  },
  {
   "cell_type": "code",
   "execution_count": 124,
   "metadata": {},
   "outputs": [],
   "source": [
    "import sys"
   ]
  },
  {
   "cell_type": "code",
   "execution_count": 125,
   "metadata": {},
   "outputs": [
    {
     "name": "stdout",
     "output_type": "stream",
     "text": [
      "1 items: 48, delta=48\n",
      "2 items: 56, delta=8\n",
      "3 items: 64, delta=8\n",
      "4 items: 72, delta=8\n",
      "5 items: 80, delta=8\n",
      "6 items: 88, delta=8\n",
      "7 items: 96, delta=8\n",
      "8 items: 104, delta=8\n",
      "9 items: 112, delta=8\n",
      "10 items: 120, delta=8\n"
     ]
    }
   ],
   "source": [
    "prev = 0\n",
    "for i in range(10):\n",
    "    c = tuple(range(i+1))\n",
    "    size_c = sys.getsizeof(c)\n",
    "    delta, prev = size_c - prev, size_c\n",
    "    print(f'{i+1} items: {size_c}, delta={delta}')"
   ]
  },
  {
   "cell_type": "code",
   "execution_count": 129,
   "metadata": {},
   "outputs": [
    {
     "name": "stdout",
     "output_type": "stream",
     "text": [
      "1 items: 64, delta=64\n",
      "2 items: 72, delta=8\n",
      "3 items: 80, delta=8\n",
      "4 items: 88, delta=8\n",
      "5 items: 96, delta=8\n",
      "6 items: 104, delta=8\n",
      "7 items: 112, delta=8\n",
      "8 items: 120, delta=8\n",
      "9 items: 128, delta=8\n",
      "10 items: 136, delta=8\n"
     ]
    }
   ],
   "source": [
    "prev = 0\n",
    "\n",
    "for i in range(10):\n",
    "    c = list(range(i+1))\n",
    "    size_c = sys.getsizeof(c)\n",
    "    delta, prev = size_c - prev, size_c\n",
    "    print(f'{i+1} items: {size_c}, delta={delta}')"
   ]
  },
  {
   "cell_type": "code",
   "execution_count": 130,
   "metadata": {},
   "outputs": [
    {
     "name": "stdout",
     "output_type": "stream",
     "text": [
      "0 items: 56\n",
      "1 items: 88, delta=32\n",
      "2 items: 88, delta=0\n",
      "3 items: 88, delta=0\n",
      "4 items: 88, delta=0\n",
      "5 items: 120, delta=32\n",
      "6 items: 120, delta=0\n",
      "7 items: 120, delta=0\n",
      "8 items: 120, delta=0\n",
      "9 items: 184, delta=64\n",
      "10 items: 184, delta=0\n",
      "11 items: 184, delta=0\n",
      "12 items: 184, delta=0\n",
      "13 items: 184, delta=0\n",
      "14 items: 184, delta=0\n",
      "15 items: 184, delta=0\n",
      "16 items: 184, delta=0\n",
      "17 items: 248, delta=64\n",
      "18 items: 248, delta=0\n",
      "19 items: 248, delta=0\n",
      "20 items: 248, delta=0\n",
      "21 items: 248, delta=0\n",
      "22 items: 248, delta=0\n",
      "23 items: 248, delta=0\n",
      "24 items: 248, delta=0\n",
      "25 items: 312, delta=64\n",
      "26 items: 312, delta=0\n",
      "27 items: 312, delta=0\n",
      "28 items: 312, delta=0\n",
      "29 items: 312, delta=0\n",
      "30 items: 312, delta=0\n",
      "31 items: 312, delta=0\n",
      "32 items: 312, delta=0\n",
      "33 items: 376, delta=64\n",
      "34 items: 376, delta=0\n",
      "35 items: 376, delta=0\n",
      "36 items: 376, delta=0\n",
      "37 items: 376, delta=0\n",
      "38 items: 376, delta=0\n",
      "39 items: 376, delta=0\n",
      "40 items: 376, delta=0\n",
      "41 items: 472, delta=96\n",
      "42 items: 472, delta=0\n",
      "43 items: 472, delta=0\n",
      "44 items: 472, delta=0\n",
      "45 items: 472, delta=0\n",
      "46 items: 472, delta=0\n",
      "47 items: 472, delta=0\n",
      "48 items: 472, delta=0\n",
      "49 items: 472, delta=0\n",
      "50 items: 472, delta=0\n",
      "51 items: 472, delta=0\n",
      "52 items: 472, delta=0\n",
      "53 items: 568, delta=96\n",
      "54 items: 568, delta=0\n",
      "55 items: 568, delta=0\n",
      "56 items: 568, delta=0\n",
      "57 items: 568, delta=0\n",
      "58 items: 568, delta=0\n",
      "59 items: 568, delta=0\n",
      "60 items: 568, delta=0\n",
      "61 items: 568, delta=0\n",
      "62 items: 568, delta=0\n",
      "63 items: 568, delta=0\n",
      "64 items: 568, delta=0\n",
      "65 items: 664, delta=96\n",
      "66 items: 664, delta=0\n",
      "67 items: 664, delta=0\n",
      "68 items: 664, delta=0\n",
      "69 items: 664, delta=0\n",
      "70 items: 664, delta=0\n",
      "71 items: 664, delta=0\n",
      "72 items: 664, delta=0\n",
      "73 items: 664, delta=0\n",
      "74 items: 664, delta=0\n",
      "75 items: 664, delta=0\n",
      "76 items: 664, delta=0\n",
      "77 items: 792, delta=128\n",
      "78 items: 792, delta=0\n",
      "79 items: 792, delta=0\n",
      "80 items: 792, delta=0\n",
      "81 items: 792, delta=0\n",
      "82 items: 792, delta=0\n",
      "83 items: 792, delta=0\n",
      "84 items: 792, delta=0\n",
      "85 items: 792, delta=0\n",
      "86 items: 792, delta=0\n",
      "87 items: 792, delta=0\n",
      "88 items: 792, delta=0\n",
      "89 items: 792, delta=0\n",
      "90 items: 792, delta=0\n",
      "91 items: 792, delta=0\n",
      "92 items: 792, delta=0\n",
      "93 items: 920, delta=128\n",
      "94 items: 920, delta=0\n",
      "95 items: 920, delta=0\n",
      "96 items: 920, delta=0\n",
      "97 items: 920, delta=0\n",
      "98 items: 920, delta=0\n",
      "99 items: 920, delta=0\n",
      "100 items: 920, delta=0\n",
      "101 items: 920, delta=0\n",
      "102 items: 920, delta=0\n",
      "103 items: 920, delta=0\n",
      "104 items: 920, delta=0\n",
      "105 items: 920, delta=0\n",
      "106 items: 920, delta=0\n",
      "107 items: 920, delta=0\n",
      "108 items: 920, delta=0\n",
      "109 items: 1080, delta=160\n",
      "110 items: 1080, delta=0\n",
      "111 items: 1080, delta=0\n",
      "112 items: 1080, delta=0\n",
      "113 items: 1080, delta=0\n",
      "114 items: 1080, delta=0\n",
      "115 items: 1080, delta=0\n",
      "116 items: 1080, delta=0\n",
      "117 items: 1080, delta=0\n",
      "118 items: 1080, delta=0\n",
      "119 items: 1080, delta=0\n",
      "120 items: 1080, delta=0\n",
      "121 items: 1080, delta=0\n",
      "122 items: 1080, delta=0\n",
      "123 items: 1080, delta=0\n",
      "124 items: 1080, delta=0\n",
      "125 items: 1080, delta=0\n",
      "126 items: 1080, delta=0\n",
      "127 items: 1080, delta=0\n",
      "128 items: 1080, delta=0\n",
      "129 items: 1240, delta=160\n",
      "130 items: 1240, delta=0\n",
      "131 items: 1240, delta=0\n",
      "132 items: 1240, delta=0\n",
      "133 items: 1240, delta=0\n",
      "134 items: 1240, delta=0\n",
      "135 items: 1240, delta=0\n",
      "136 items: 1240, delta=0\n",
      "137 items: 1240, delta=0\n",
      "138 items: 1240, delta=0\n",
      "139 items: 1240, delta=0\n",
      "140 items: 1240, delta=0\n",
      "141 items: 1240, delta=0\n",
      "142 items: 1240, delta=0\n",
      "143 items: 1240, delta=0\n",
      "144 items: 1240, delta=0\n",
      "145 items: 1240, delta=0\n",
      "146 items: 1240, delta=0\n",
      "147 items: 1240, delta=0\n",
      "148 items: 1240, delta=0\n",
      "149 items: 1432, delta=192\n",
      "150 items: 1432, delta=0\n",
      "151 items: 1432, delta=0\n",
      "152 items: 1432, delta=0\n",
      "153 items: 1432, delta=0\n",
      "154 items: 1432, delta=0\n",
      "155 items: 1432, delta=0\n",
      "156 items: 1432, delta=0\n",
      "157 items: 1432, delta=0\n",
      "158 items: 1432, delta=0\n",
      "159 items: 1432, delta=0\n",
      "160 items: 1432, delta=0\n",
      "161 items: 1432, delta=0\n",
      "162 items: 1432, delta=0\n",
      "163 items: 1432, delta=0\n",
      "164 items: 1432, delta=0\n",
      "165 items: 1432, delta=0\n",
      "166 items: 1432, delta=0\n",
      "167 items: 1432, delta=0\n",
      "168 items: 1432, delta=0\n",
      "169 items: 1432, delta=0\n",
      "170 items: 1432, delta=0\n",
      "171 items: 1432, delta=0\n",
      "172 items: 1432, delta=0\n",
      "173 items: 1656, delta=224\n",
      "174 items: 1656, delta=0\n",
      "175 items: 1656, delta=0\n",
      "176 items: 1656, delta=0\n",
      "177 items: 1656, delta=0\n",
      "178 items: 1656, delta=0\n",
      "179 items: 1656, delta=0\n",
      "180 items: 1656, delta=0\n",
      "181 items: 1656, delta=0\n",
      "182 items: 1656, delta=0\n",
      "183 items: 1656, delta=0\n",
      "184 items: 1656, delta=0\n",
      "185 items: 1656, delta=0\n",
      "186 items: 1656, delta=0\n",
      "187 items: 1656, delta=0\n",
      "188 items: 1656, delta=0\n",
      "189 items: 1656, delta=0\n",
      "190 items: 1656, delta=0\n",
      "191 items: 1656, delta=0\n",
      "192 items: 1656, delta=0\n",
      "193 items: 1656, delta=0\n",
      "194 items: 1656, delta=0\n",
      "195 items: 1656, delta=0\n",
      "196 items: 1656, delta=0\n",
      "197 items: 1656, delta=0\n",
      "198 items: 1656, delta=0\n",
      "199 items: 1656, delta=0\n",
      "200 items: 1656, delta=0\n",
      "201 items: 1912, delta=256\n",
      "202 items: 1912, delta=0\n",
      "203 items: 1912, delta=0\n",
      "204 items: 1912, delta=0\n",
      "205 items: 1912, delta=0\n",
      "206 items: 1912, delta=0\n",
      "207 items: 1912, delta=0\n",
      "208 items: 1912, delta=0\n",
      "209 items: 1912, delta=0\n",
      "210 items: 1912, delta=0\n",
      "211 items: 1912, delta=0\n",
      "212 items: 1912, delta=0\n",
      "213 items: 1912, delta=0\n",
      "214 items: 1912, delta=0\n",
      "215 items: 1912, delta=0\n",
      "216 items: 1912, delta=0\n",
      "217 items: 1912, delta=0\n",
      "218 items: 1912, delta=0\n",
      "219 items: 1912, delta=0\n",
      "220 items: 1912, delta=0\n",
      "221 items: 1912, delta=0\n",
      "222 items: 1912, delta=0\n",
      "223 items: 1912, delta=0\n",
      "224 items: 1912, delta=0\n",
      "225 items: 1912, delta=0\n",
      "226 items: 1912, delta=0\n",
      "227 items: 1912, delta=0\n",
      "228 items: 1912, delta=0\n",
      "229 items: 1912, delta=0\n",
      "230 items: 1912, delta=0\n",
      "231 items: 1912, delta=0\n",
      "232 items: 1912, delta=0\n",
      "233 items: 2200, delta=288\n",
      "234 items: 2200, delta=0\n",
      "235 items: 2200, delta=0\n",
      "236 items: 2200, delta=0\n",
      "237 items: 2200, delta=0\n",
      "238 items: 2200, delta=0\n",
      "239 items: 2200, delta=0\n",
      "240 items: 2200, delta=0\n",
      "241 items: 2200, delta=0\n",
      "242 items: 2200, delta=0\n",
      "243 items: 2200, delta=0\n",
      "244 items: 2200, delta=0\n",
      "245 items: 2200, delta=0\n",
      "246 items: 2200, delta=0\n",
      "247 items: 2200, delta=0\n",
      "248 items: 2200, delta=0\n",
      "249 items: 2200, delta=0\n",
      "250 items: 2200, delta=0\n",
      "251 items: 2200, delta=0\n",
      "252 items: 2200, delta=0\n",
      "253 items: 2200, delta=0\n",
      "254 items: 2200, delta=0\n",
      "255 items: 2200, delta=0\n"
     ]
    }
   ],
   "source": [
    "c = []\n",
    "prev = sys.getsizeof(c)\n",
    "print(f'0 items: {sys.getsizeof(c)}')\n",
    "for i in range(255):\n",
    "    c.append(i)\n",
    "    size_c = sys.getsizeof(c)\n",
    "    delta, prev = size_c - prev, size_c\n",
    "    print(f'{i+1} items: {size_c}, delta={delta}')"
   ]
  },
  {
   "cell_type": "code",
   "execution_count": 131,
   "metadata": {},
   "outputs": [],
   "source": [
    "t = tuple(range(100_000))\n",
    "l = list(t)"
   ]
  },
  {
   "cell_type": "code",
   "execution_count": 132,
   "metadata": {},
   "outputs": [
    {
     "data": {
      "text/plain": [
       "0.8245966000004046"
      ]
     },
     "execution_count": 132,
     "metadata": {},
     "output_type": "execute_result"
    }
   ],
   "source": [
    "timeit('t[99_999]', globals=globals(), number=10_000_000)"
   ]
  },
  {
   "cell_type": "code",
   "execution_count": 133,
   "metadata": {},
   "outputs": [
    {
     "data": {
      "text/plain": [
       "0.8044734999994034"
      ]
     },
     "execution_count": 133,
     "metadata": {},
     "output_type": "execute_result"
    }
   ],
   "source": [
    "timeit('l[99_999]', globals=globals(), number=10_000_000)"
   ]
  },
  {
   "cell_type": "code",
   "execution_count": 134,
   "metadata": {},
   "outputs": [
    {
     "name": "stdout",
     "output_type": "stream",
     "text": [
      "[1, 2, 3]\n"
     ]
    }
   ],
   "source": [
    "l1 = [1, 2, 3]\n",
    "\n",
    "l1_copy = []\n",
    "for item in l1:\n",
    "    l1_copy.append(item)\n",
    "\n",
    "print(l1_copy)"
   ]
  },
  {
   "cell_type": "code",
   "execution_count": 135,
   "metadata": {},
   "outputs": [
    {
     "data": {
      "text/plain": [
       "False"
      ]
     },
     "execution_count": 135,
     "metadata": {},
     "output_type": "execute_result"
    }
   ],
   "source": [
    "l1 is l1_copy"
   ]
  },
  {
   "cell_type": "code",
   "execution_count": 136,
   "metadata": {},
   "outputs": [
    {
     "name": "stdout",
     "output_type": "stream",
     "text": [
      "[1, 2, 3]\n"
     ]
    }
   ],
   "source": [
    "l1 = [1, 2, 3]\n",
    "l1_copy = [item for item in l1]\n",
    "print(l1_copy)"
   ]
  },
  {
   "cell_type": "code",
   "execution_count": 137,
   "metadata": {},
   "outputs": [
    {
     "data": {
      "text/plain": [
       "False"
      ]
     },
     "execution_count": 137,
     "metadata": {},
     "output_type": "execute_result"
    }
   ],
   "source": [
    "l1 is l1_copy"
   ]
  },
  {
   "cell_type": "code",
   "execution_count": 138,
   "metadata": {},
   "outputs": [
    {
     "name": "stdout",
     "output_type": "stream",
     "text": [
      "[1, 2, 3]\n"
     ]
    }
   ],
   "source": [
    "l1 = [1, 2, 3]\n",
    "l1_copy = l1.copy()\n",
    "print(l1_copy)"
   ]
  },
  {
   "cell_type": "code",
   "execution_count": 139,
   "metadata": {},
   "outputs": [
    {
     "data": {
      "text/plain": [
       "False"
      ]
     },
     "execution_count": 139,
     "metadata": {},
     "output_type": "execute_result"
    }
   ],
   "source": [
    "l1 is l1_copy"
   ]
  },
  {
   "cell_type": "code",
   "execution_count": 140,
   "metadata": {},
   "outputs": [],
   "source": [
    "l1 = [1, 2, 3]"
   ]
  },
  {
   "cell_type": "code",
   "execution_count": 141,
   "metadata": {},
   "outputs": [
    {
     "name": "stdout",
     "output_type": "stream",
     "text": [
      "[1, 2, 3]\n"
     ]
    }
   ],
   "source": [
    "l1_copy = list(l1)\n",
    "print(l1_copy)"
   ]
  },
  {
   "cell_type": "code",
   "execution_count": 142,
   "metadata": {},
   "outputs": [
    {
     "data": {
      "text/plain": [
       "False"
      ]
     },
     "execution_count": 142,
     "metadata": {},
     "output_type": "execute_result"
    }
   ],
   "source": [
    "l1 is l1_copy"
   ]
  },
  {
   "cell_type": "code",
   "execution_count": 143,
   "metadata": {},
   "outputs": [
    {
     "name": "stdout",
     "output_type": "stream",
     "text": [
      "[1, 2, 3]\n"
     ]
    }
   ],
   "source": [
    "t1 = (1, 2, 3)\n",
    "t1_copy = list(t1)\n",
    "print(t1_copy)"
   ]
  },
  {
   "cell_type": "code",
   "execution_count": 144,
   "metadata": {},
   "outputs": [
    {
     "name": "stdout",
     "output_type": "stream",
     "text": [
      "(1, 2, 3)\n"
     ]
    }
   ],
   "source": [
    "t1 = (1, 2, 3)\n",
    "t1_copy = tuple(t1)\n",
    "print(t1_copy)"
   ]
  },
  {
   "cell_type": "code",
   "execution_count": 145,
   "metadata": {},
   "outputs": [
    {
     "data": {
      "text/plain": [
       "True"
      ]
     },
     "execution_count": 145,
     "metadata": {},
     "output_type": "execute_result"
    }
   ],
   "source": [
    "t1 is t1_copy"
   ]
  },
  {
   "cell_type": "code",
   "execution_count": 146,
   "metadata": {},
   "outputs": [
    {
     "name": "stdout",
     "output_type": "stream",
     "text": [
      "[1, 2, 3]\n",
      "False\n"
     ]
    }
   ],
   "source": [
    "l1 = [1, 2, 3]\n",
    "l1_copy = l1[:]\n",
    "print(l1_copy)\n",
    "print(l1 is l1_copy)"
   ]
  },
  {
   "cell_type": "code",
   "execution_count": 147,
   "metadata": {},
   "outputs": [
    {
     "name": "stdout",
     "output_type": "stream",
     "text": [
      "(1, 2, 3)\n",
      "True\n"
     ]
    }
   ],
   "source": [
    "t1 = (1, 2, 3)\n",
    "t1_copy = t1[:]\n",
    "print(t1_copy)\n",
    "print(t1 is t1_copy)"
   ]
  },
  {
   "cell_type": "code",
   "execution_count": 148,
   "metadata": {},
   "outputs": [
    {
     "name": "stdout",
     "output_type": "stream",
     "text": [
      "python\n",
      "True\n"
     ]
    }
   ],
   "source": [
    "s1 = 'python'\n",
    "s2 = str(s1)\n",
    "print(s2)\n",
    "print(s1 is s2)"
   ]
  },
  {
   "cell_type": "code",
   "execution_count": 149,
   "metadata": {},
   "outputs": [
    {
     "name": "stdout",
     "output_type": "stream",
     "text": [
      "python\n",
      "True\n"
     ]
    }
   ],
   "source": [
    "s1 = 'python'\n",
    "s2 = s1[:]\n",
    "print(s2)\n",
    "print(s1 is s2)"
   ]
  },
  {
   "cell_type": "code",
   "execution_count": 150,
   "metadata": {},
   "outputs": [],
   "source": [
    "import copy"
   ]
  },
  {
   "cell_type": "code",
   "execution_count": 151,
   "metadata": {},
   "outputs": [
    {
     "name": "stdout",
     "output_type": "stream",
     "text": [
      "[1, 2, 3]\n",
      "False\n"
     ]
    }
   ],
   "source": [
    "l1 = [1, 2, 3]\n",
    "l1_copy = copy.copy(l1)\n",
    "print(l1_copy)\n",
    "print(l1 is l1_copy)"
   ]
  },
  {
   "cell_type": "code",
   "execution_count": 152,
   "metadata": {},
   "outputs": [
    {
     "name": "stdout",
     "output_type": "stream",
     "text": [
      "(1, 2, 3)\n",
      "True\n"
     ]
    }
   ],
   "source": [
    "t1 = (1, 2, 3)\n",
    "t1_copy = copy.copy(t1)\n",
    "print(t1_copy)\n",
    "print(t1 is t1_copy)"
   ]
  },
  {
   "cell_type": "code",
   "execution_count": 153,
   "metadata": {},
   "outputs": [],
   "source": [
    "v1 = [0, 0]\n",
    "v2 = [0, 0]\n",
    "\n",
    "line1 = [v1, v2]"
   ]
  },
  {
   "cell_type": "code",
   "execution_count": 154,
   "metadata": {},
   "outputs": [
    {
     "name": "stdout",
     "output_type": "stream",
     "text": [
      "[[0, 0], [0, 0]]\n",
      "2247838322880 2247838518848\n"
     ]
    }
   ],
   "source": [
    "print(line1)\n",
    "print(id(line1[0]), id(line1[1]))"
   ]
  },
  {
   "cell_type": "code",
   "execution_count": 155,
   "metadata": {},
   "outputs": [],
   "source": [
    "line2 = line1.copy()"
   ]
  },
  {
   "cell_type": "code",
   "execution_count": 156,
   "metadata": {},
   "outputs": [
    {
     "data": {
      "text/plain": [
       "False"
      ]
     },
     "execution_count": 156,
     "metadata": {},
     "output_type": "execute_result"
    }
   ],
   "source": [
    "line1 is line2"
   ]
  },
  {
   "cell_type": "code",
   "execution_count": 157,
   "metadata": {},
   "outputs": [
    {
     "name": "stdout",
     "output_type": "stream",
     "text": [
      "2247838322880 2247838518848\n",
      "2247838322880 2247838518848\n"
     ]
    }
   ],
   "source": [
    "print(id(line1[0]), id(line1[1]))\n",
    "print(id(line2[0]), id(line2[1]))"
   ]
  },
  {
   "cell_type": "code",
   "execution_count": 158,
   "metadata": {},
   "outputs": [],
   "source": [
    "line2[0][0] = 100"
   ]
  },
  {
   "cell_type": "code",
   "execution_count": 159,
   "metadata": {},
   "outputs": [
    {
     "data": {
      "text/plain": [
       "[[100, 0], [0, 0]]"
      ]
     },
     "execution_count": 159,
     "metadata": {},
     "output_type": "execute_result"
    }
   ],
   "source": [
    "line2"
   ]
  },
  {
   "cell_type": "code",
   "execution_count": 160,
   "metadata": {},
   "outputs": [
    {
     "data": {
      "text/plain": [
       "[[100, 0], [0, 0]]"
      ]
     },
     "execution_count": 160,
     "metadata": {},
     "output_type": "execute_result"
    }
   ],
   "source": [
    "line1"
   ]
  },
  {
   "cell_type": "code",
   "execution_count": 161,
   "metadata": {},
   "outputs": [],
   "source": [
    "v1 = [0, 0]\n",
    "v2 = [0, 0]\n",
    "\n",
    "line1 = [v1, v2]"
   ]
  },
  {
   "cell_type": "code",
   "execution_count": 162,
   "metadata": {},
   "outputs": [],
   "source": [
    "line2 = [item[:] for item in line1]"
   ]
  },
  {
   "cell_type": "code",
   "execution_count": 163,
   "metadata": {},
   "outputs": [
    {
     "name": "stdout",
     "output_type": "stream",
     "text": [
      "2247838435840 2247838603840\n",
      "2247838240512 2247838581248\n"
     ]
    }
   ],
   "source": [
    "print(id(line1[0]), id(line1[1]))\n",
    "print(id(line2[0]), id(line2[1]))"
   ]
  },
  {
   "cell_type": "code",
   "execution_count": 164,
   "metadata": {},
   "outputs": [
    {
     "name": "stdout",
     "output_type": "stream",
     "text": [
      "[[100, 0], [0, 0]]\n",
      "[[0, 0], [0, 0]]\n"
     ]
    }
   ],
   "source": [
    "line1[0][0] = 100\n",
    "print(line1)\n",
    "print(line2)"
   ]
  },
  {
   "cell_type": "code",
   "execution_count": 165,
   "metadata": {},
   "outputs": [],
   "source": [
    "v1 = [0, 0]\n",
    "v2 = [0, 0]\n",
    "line1 = [v1, v2]"
   ]
  },
  {
   "cell_type": "code",
   "execution_count": 166,
   "metadata": {},
   "outputs": [
    {
     "name": "stdout",
     "output_type": "stream",
     "text": [
      "2247838584064 2247837288448\n",
      "2247838582080 2247838271424\n"
     ]
    }
   ],
   "source": [
    "line2 = copy.deepcopy(line1)\n",
    "print(id(line1[0]), id(line1[1]))\n",
    "print(id(line2[0]), id(line2[1]))"
   ]
  },
  {
   "cell_type": "code",
   "execution_count": 167,
   "metadata": {},
   "outputs": [],
   "source": [
    "line2[0][0] = 100"
   ]
  },
  {
   "cell_type": "code",
   "execution_count": 168,
   "metadata": {},
   "outputs": [
    {
     "name": "stdout",
     "output_type": "stream",
     "text": [
      "[[0, 0], [0, 0]]\n",
      "[[100, 0], [0, 0]]\n"
     ]
    }
   ],
   "source": [
    "print(line1)\n",
    "print(line2)"
   ]
  },
  {
   "cell_type": "code",
   "execution_count": 169,
   "metadata": {},
   "outputs": [
    {
     "name": "stdout",
     "output_type": "stream",
     "text": [
      "[[[11, 12], [21, 22]], [[31, 32], [41, 42]]]\n"
     ]
    }
   ],
   "source": [
    "v1 = [11, 12]\n",
    "v2 = [21, 22]\n",
    "line1 = [v1, v2]\n",
    "\n",
    "v3 = [31, 32]\n",
    "v4 = [41, 42]\n",
    "line2 = [v3, v4]\n",
    "\n",
    "plane1 = [line1, line2]\n",
    "print(plane1)"
   ]
  },
  {
   "cell_type": "code",
   "execution_count": 170,
   "metadata": {},
   "outputs": [],
   "source": [
    "plane2 = copy.deepcopy(plane1)"
   ]
  },
  {
   "cell_type": "code",
   "execution_count": 171,
   "metadata": {},
   "outputs": [
    {
     "name": "stdout",
     "output_type": "stream",
     "text": [
      "[[[11, 12], [21, 22]], [[31, 32], [41, 42]]]\n"
     ]
    }
   ],
   "source": [
    "print(plane2)"
   ]
  },
  {
   "cell_type": "code",
   "execution_count": 172,
   "metadata": {},
   "outputs": [
    {
     "name": "stdout",
     "output_type": "stream",
     "text": [
      "[[11, 12], [21, 22]] 2247838309888\n",
      "[[11, 12], [21, 22]] 2247838584640\n"
     ]
    }
   ],
   "source": [
    "print(plane1[0], id(plane1[0]))\n",
    "print(plane2[0], id(plane2[0]))"
   ]
  },
  {
   "cell_type": "code",
   "execution_count": 173,
   "metadata": {},
   "outputs": [
    {
     "name": "stdout",
     "output_type": "stream",
     "text": [
      "[11, 12] 2247838265920\n",
      "[11, 12] 2247838604416\n"
     ]
    }
   ],
   "source": [
    "print(plane1[0][0], id(plane1[0][0]))\n",
    "print(plane2[0][0], id(plane2[0][0]))"
   ]
  },
  {
   "cell_type": "code",
   "execution_count": 174,
   "metadata": {},
   "outputs": [],
   "source": [
    "class Point:\n",
    "    def __init__(self, x, y):\n",
    "        self.x = x\n",
    "        self.y = y\n",
    "    \n",
    "    def __repr__(self):\n",
    "        return f'Point({self.x}, {self.y})'\n",
    "    \n",
    "class Line:\n",
    "    def __init__(self, p1, p2):\n",
    "        self.p1 = p1\n",
    "        self.p2 = p2\n",
    "        \n",
    "    def __repr__(self):\n",
    "        return f'Line({self.p1.__repr__()}, {self.p2.__repr__()})'"
   ]
  },
  {
   "cell_type": "code",
   "execution_count": 175,
   "metadata": {},
   "outputs": [
    {
     "name": "stdout",
     "output_type": "stream",
     "text": [
      "Point(0, 0) 2247838011840\n",
      "Point(0, 0) 2247838018576\n"
     ]
    }
   ],
   "source": [
    "p1 = Point(0, 0)\n",
    "p2 = Point(10, 10)\n",
    "line1 = Line(p1, p2)\n",
    "line2 = copy.deepcopy(line1)\n",
    "\n",
    "print(line1.p1, id(line1.p1))\n",
    "print(line2.p1, id(line2.p1))"
   ]
  },
  {
   "cell_type": "code",
   "execution_count": 176,
   "metadata": {},
   "outputs": [],
   "source": [
    "s = slice(0, 2)"
   ]
  },
  {
   "cell_type": "code",
   "execution_count": 177,
   "metadata": {},
   "outputs": [
    {
     "data": {
      "text/plain": [
       "slice"
      ]
     },
     "execution_count": 177,
     "metadata": {},
     "output_type": "execute_result"
    }
   ],
   "source": [
    "type(s)"
   ]
  },
  {
   "cell_type": "code",
   "execution_count": 178,
   "metadata": {},
   "outputs": [
    {
     "data": {
      "text/plain": [
       "0"
      ]
     },
     "execution_count": 178,
     "metadata": {},
     "output_type": "execute_result"
    }
   ],
   "source": [
    "s.start"
   ]
  },
  {
   "cell_type": "code",
   "execution_count": 179,
   "metadata": {},
   "outputs": [
    {
     "data": {
      "text/plain": [
       "2"
      ]
     },
     "execution_count": 179,
     "metadata": {},
     "output_type": "execute_result"
    }
   ],
   "source": [
    "s.stop"
   ]
  },
  {
   "cell_type": "code",
   "execution_count": 180,
   "metadata": {},
   "outputs": [
    {
     "data": {
      "text/plain": [
       "[1, 2]"
      ]
     },
     "execution_count": 180,
     "metadata": {},
     "output_type": "execute_result"
    }
   ],
   "source": [
    "l = [1, 2, 3, 4, 5]\n",
    "l[s]\n"
   ]
  },
  {
   "cell_type": "code",
   "execution_count": 181,
   "metadata": {},
   "outputs": [],
   "source": [
    "data = []  # a collection of rows, read from a file maybe\n",
    "for row in data:\n",
    "    first_name = row[0:51]\n",
    "    last_name = row[51:101]\n",
    "    ssn = row[101:111]\n",
    "    # etc"
   ]
  },
  {
   "cell_type": "code",
   "execution_count": 182,
   "metadata": {},
   "outputs": [],
   "source": [
    "range_first_name = slice(0, 51)\n",
    "range_last_name = slice(51, 101)\n",
    "range_ssn = slice(101, 111)"
   ]
  },
  {
   "cell_type": "code",
   "execution_count": 183,
   "metadata": {},
   "outputs": [],
   "source": [
    "for row in data:\n",
    "    first_name = row[range_first_name]\n",
    "    last_name = row[range_last_name]\n",
    "    ssn = row[range_ssn]"
   ]
  },
  {
   "cell_type": "code",
   "execution_count": 184,
   "metadata": {},
   "outputs": [
    {
     "data": {
      "text/plain": [
       "('p', 'python')"
      ]
     },
     "execution_count": 184,
     "metadata": {},
     "output_type": "execute_result"
    }
   ],
   "source": [
    "l = 'python'\n",
    "l[0:1], l[0:6]\n"
   ]
  },
  {
   "cell_type": "code",
   "execution_count": 185,
   "metadata": {},
   "outputs": [
    {
     "data": {
      "text/plain": [
       "('pto', 'ph')"
      ]
     },
     "execution_count": 185,
     "metadata": {},
     "output_type": "execute_result"
    }
   ],
   "source": [
    "l = 'python'\n",
    "l[0:6:2], l[0:6:3]"
   ]
  },
  {
   "cell_type": "code",
   "execution_count": 186,
   "metadata": {},
   "outputs": [
    {
     "data": {
      "text/plain": [
       "('pto', 'ph')"
      ]
     },
     "execution_count": 186,
     "metadata": {},
     "output_type": "execute_result"
    }
   ],
   "source": [
    "s1 = slice(0, 6, 2)\n",
    "s2 = slice(0, 6, 3)\n",
    "l[s1], l[s2]"
   ]
  },
  {
   "cell_type": "code",
   "execution_count": 187,
   "metadata": {},
   "outputs": [
    {
     "data": {
      "text/plain": [
       "[1, 2, 3, 4, 5, 6]"
      ]
     },
     "execution_count": 187,
     "metadata": {},
     "output_type": "execute_result"
    }
   ],
   "source": [
    "l = [1, 2, 3, 4, 5, 6]\n",
    "l[0:100]"
   ]
  },
  {
   "cell_type": "code",
   "execution_count": 188,
   "metadata": {},
   "outputs": [
    {
     "data": {
      "text/plain": [
       "[1, 2, 3, 4, 5, 6]"
      ]
     },
     "execution_count": 188,
     "metadata": {},
     "output_type": "execute_result"
    }
   ],
   "source": [
    "l[-10:100]"
   ]
  },
  {
   "cell_type": "code",
   "execution_count": 189,
   "metadata": {},
   "outputs": [
    {
     "ename": "IndexError",
     "evalue": "list index out of range",
     "output_type": "error",
     "traceback": [
      "\u001b[1;31m---------------------------------------------------------------------------\u001b[0m",
      "\u001b[1;31mIndexError\u001b[0m                                Traceback (most recent call last)",
      "\u001b[1;32m~\\AppData\\Local\\Temp\\ipykernel_14856\\568158080.py\u001b[0m in \u001b[0;36m<module>\u001b[1;34m\u001b[0m\n\u001b[0;32m      1\u001b[0m \u001b[0ml\u001b[0m \u001b[1;33m=\u001b[0m \u001b[1;33m[\u001b[0m\u001b[1;36m1\u001b[0m\u001b[1;33m,\u001b[0m \u001b[1;36m2\u001b[0m\u001b[1;33m,\u001b[0m \u001b[1;36m3\u001b[0m\u001b[1;33m,\u001b[0m \u001b[1;36m4\u001b[0m\u001b[1;33m,\u001b[0m \u001b[1;36m5\u001b[0m\u001b[1;33m,\u001b[0m \u001b[1;36m6\u001b[0m\u001b[1;33m]\u001b[0m\u001b[1;33m\u001b[0m\u001b[1;33m\u001b[0m\u001b[0m\n\u001b[1;32m----> 2\u001b[1;33m \u001b[0ml\u001b[0m\u001b[1;33m[\u001b[0m\u001b[1;36m100\u001b[0m\u001b[1;33m]\u001b[0m\u001b[1;33m\u001b[0m\u001b[1;33m\u001b[0m\u001b[0m\n\u001b[0m",
      "\u001b[1;31mIndexError\u001b[0m: list index out of range"
     ]
    }
   ],
   "source": [
    "l = [1, 2, 3, 4, 5, 6]\n",
    "l[100]"
   ]
  },
  {
   "cell_type": "code",
   "execution_count": 190,
   "metadata": {},
   "outputs": [],
   "source": [
    "l = [1, 2, 3, 4, 5, 6]"
   ]
  },
  {
   "cell_type": "code",
   "execution_count": 191,
   "metadata": {},
   "outputs": [
    {
     "data": {
      "text/plain": [
       "[1, 2, 3, 4]"
      ]
     },
     "execution_count": 191,
     "metadata": {},
     "output_type": "execute_result"
    }
   ],
   "source": [
    "l[:4]"
   ]
  },
  {
   "cell_type": "code",
   "execution_count": 192,
   "metadata": {},
   "outputs": [
    {
     "data": {
      "text/plain": [
       "[5, 6]"
      ]
     },
     "execution_count": 192,
     "metadata": {},
     "output_type": "execute_result"
    }
   ],
   "source": [
    "l[4:]"
   ]
  },
  {
   "cell_type": "code",
   "execution_count": 193,
   "metadata": {},
   "outputs": [
    {
     "data": {
      "text/plain": [
       "[1, 2, 3, 4, 5, 6]"
      ]
     },
     "execution_count": 193,
     "metadata": {},
     "output_type": "execute_result"
    }
   ],
   "source": [
    "l[:]"
   ]
  },
  {
   "cell_type": "code",
   "execution_count": 194,
   "metadata": {},
   "outputs": [
    {
     "data": {
      "text/plain": [
       "[4, 3, 2]"
      ]
     },
     "execution_count": 194,
     "metadata": {},
     "output_type": "execute_result"
    }
   ],
   "source": [
    "l[3:0:-1]"
   ]
  },
  {
   "cell_type": "code",
   "execution_count": 195,
   "metadata": {},
   "outputs": [],
   "source": [
    "l = [0, 1, 2, 3, 4, 5]"
   ]
  },
  {
   "cell_type": "code",
   "execution_count": 196,
   "metadata": {},
   "outputs": [
    {
     "data": {
      "text/plain": [
       "[3, 2, 1]"
      ]
     },
     "execution_count": 196,
     "metadata": {},
     "output_type": "execute_result"
    }
   ],
   "source": [
    "l[3:0:-1]"
   ]
  },
  {
   "cell_type": "code",
   "execution_count": 197,
   "metadata": {},
   "outputs": [
    {
     "data": {
      "text/plain": [
       "[]"
      ]
     },
     "execution_count": 197,
     "metadata": {},
     "output_type": "execute_result"
    }
   ],
   "source": [
    "l[3:-1:-1]"
   ]
  },
  {
   "cell_type": "code",
   "execution_count": 198,
   "metadata": {},
   "outputs": [
    {
     "data": {
      "text/plain": [
       "[3, 2, 1, 0]"
      ]
     },
     "execution_count": 198,
     "metadata": {},
     "output_type": "execute_result"
    }
   ],
   "source": [
    "l[3::-1]"
   ]
  },
  {
   "cell_type": "code",
   "execution_count": 199,
   "metadata": {},
   "outputs": [
    {
     "data": {
      "text/plain": [
       "[3, 2, 1, 0]"
      ]
     },
     "execution_count": 199,
     "metadata": {},
     "output_type": "execute_result"
    }
   ],
   "source": [
    "l[3:-100:-1]"
   ]
  },
  {
   "cell_type": "code",
   "execution_count": 208,
   "metadata": {},
   "outputs": [
    {
     "data": {
      "text/plain": [
       "[3]"
      ]
     },
     "execution_count": 208,
     "metadata": {},
     "output_type": "execute_result"
    }
   ],
   "source": [
    "l = [0, 1, 2, 3, 4, 5]\n",
    "l[3:-4:-1]"
   ]
  },
  {
   "cell_type": "code",
   "execution_count": 209,
   "metadata": {},
   "outputs": [],
   "source": [
    "my_list = [0, 1, 2, 3, 4, 5]"
   ]
  },
  {
   "cell_type": "code",
   "execution_count": 210,
   "metadata": {},
   "outputs": [
    {
     "data": {
      "text/plain": [
       "0"
      ]
     },
     "execution_count": 210,
     "metadata": {},
     "output_type": "execute_result"
    }
   ],
   "source": [
    "my_list.__getitem__(0)"
   ]
  },
  {
   "cell_type": "code",
   "execution_count": 211,
   "metadata": {},
   "outputs": [
    {
     "data": {
      "text/plain": [
       "5"
      ]
     },
     "execution_count": 211,
     "metadata": {},
     "output_type": "execute_result"
    }
   ],
   "source": [
    "my_list.__getitem__(5)"
   ]
  },
  {
   "cell_type": "code",
   "execution_count": 212,
   "metadata": {},
   "outputs": [
    {
     "ename": "IndexError",
     "evalue": "list index out of range",
     "output_type": "error",
     "traceback": [
      "\u001b[1;31m---------------------------------------------------------------------------\u001b[0m",
      "\u001b[1;31mIndexError\u001b[0m                                Traceback (most recent call last)",
      "\u001b[1;32m~\\AppData\\Local\\Temp\\ipykernel_14856\\2338480032.py\u001b[0m in \u001b[0;36m<module>\u001b[1;34m\u001b[0m\n\u001b[1;32m----> 1\u001b[1;33m \u001b[0mmy_list\u001b[0m\u001b[1;33m.\u001b[0m\u001b[0m__getitem__\u001b[0m\u001b[1;33m(\u001b[0m\u001b[1;36m6\u001b[0m\u001b[1;33m)\u001b[0m\u001b[1;33m\u001b[0m\u001b[1;33m\u001b[0m\u001b[0m\n\u001b[0m",
      "\u001b[1;31mIndexError\u001b[0m: list index out of range"
     ]
    }
   ],
   "source": [
    "my_list.__getitem__(6)"
   ]
  },
  {
   "cell_type": "code",
   "execution_count": 213,
   "metadata": {},
   "outputs": [
    {
     "data": {
      "text/plain": [
       "5"
      ]
     },
     "execution_count": 213,
     "metadata": {},
     "output_type": "execute_result"
    }
   ],
   "source": [
    "my_list.__getitem__(-1)"
   ]
  },
  {
   "cell_type": "code",
   "execution_count": 214,
   "metadata": {},
   "outputs": [
    {
     "data": {
      "text/plain": [
       "[0, 2, 4]"
      ]
     },
     "execution_count": 214,
     "metadata": {},
     "output_type": "execute_result"
    }
   ],
   "source": [
    "my_list.__getitem__(slice(0,6,2))"
   ]
  },
  {
   "cell_type": "code",
   "execution_count": 215,
   "metadata": {},
   "outputs": [
    {
     "data": {
      "text/plain": [
       "[5, 4, 3, 2, 1, 0]"
      ]
     },
     "execution_count": 215,
     "metadata": {},
     "output_type": "execute_result"
    }
   ],
   "source": [
    "my_list.__getitem__(slice(None, None, -1))"
   ]
  },
  {
   "cell_type": "code",
   "execution_count": 216,
   "metadata": {},
   "outputs": [],
   "source": [
    "my_list = [0, 1, 2, 3, 4, 5]"
   ]
  },
  {
   "cell_type": "code",
   "execution_count": 217,
   "metadata": {},
   "outputs": [
    {
     "name": "stdout",
     "output_type": "stream",
     "text": [
      "0\n",
      "1\n",
      "4\n",
      "9\n",
      "16\n",
      "25\n"
     ]
    }
   ],
   "source": [
    "for item in my_list:\n",
    "    print(item ** 2)"
   ]
  },
  {
   "cell_type": "code",
   "execution_count": 218,
   "metadata": {},
   "outputs": [
    {
     "name": "stdout",
     "output_type": "stream",
     "text": [
      "0\n",
      "1\n",
      "4\n",
      "9\n",
      "16\n",
      "25\n"
     ]
    }
   ],
   "source": [
    "index = 0\n",
    "while True:\n",
    "    try:\n",
    "        item = my_list.__getitem__(index)\n",
    "    except IndexError:\n",
    "        # reached the end of the sequence\n",
    "        break\n",
    "    # do something with the item...\n",
    "    print(item ** 2)\n",
    "    index += 1"
   ]
  },
  {
   "cell_type": "code",
   "execution_count": 219,
   "metadata": {},
   "outputs": [],
   "source": [
    "class MySequence:\n",
    "    def __getitem__(self, index):\n",
    "        print(type(index), index)"
   ]
  },
  {
   "cell_type": "code",
   "execution_count": 220,
   "metadata": {},
   "outputs": [],
   "source": [
    "my_seq = MySequence()"
   ]
  },
  {
   "cell_type": "code",
   "execution_count": 221,
   "metadata": {},
   "outputs": [
    {
     "name": "stdout",
     "output_type": "stream",
     "text": [
      "<class 'int'> 0\n"
     ]
    }
   ],
   "source": [
    "my_seq[0]"
   ]
  },
  {
   "cell_type": "code",
   "execution_count": 222,
   "metadata": {},
   "outputs": [
    {
     "name": "stdout",
     "output_type": "stream",
     "text": [
      "<class 'int'> 100\n"
     ]
    }
   ],
   "source": [
    "my_seq[100]"
   ]
  },
  {
   "cell_type": "code",
   "execution_count": 223,
   "metadata": {},
   "outputs": [
    {
     "name": "stdout",
     "output_type": "stream",
     "text": [
      "<class 'slice'> slice(0, 2, None)\n"
     ]
    }
   ],
   "source": [
    "my_seq[0:2]"
   ]
  },
  {
   "cell_type": "code",
   "execution_count": 224,
   "metadata": {},
   "outputs": [
    {
     "name": "stdout",
     "output_type": "stream",
     "text": [
      "<class 'slice'> slice(0, 10, 2)\n"
     ]
    }
   ],
   "source": [
    "my_seq[0:10:2]"
   ]
  },
  {
   "cell_type": "code",
   "execution_count": 225,
   "metadata": {},
   "outputs": [
    {
     "data": {
      "text/plain": [
       "6"
      ]
     },
     "execution_count": 225,
     "metadata": {},
     "output_type": "execute_result"
    }
   ],
   "source": [
    "l = 'python'\n",
    "len(l)"
   ]
  },
  {
   "cell_type": "code",
   "execution_count": 226,
   "metadata": {},
   "outputs": [
    {
     "data": {
      "text/plain": [
       "'pto'"
      ]
     },
     "execution_count": 226,
     "metadata": {},
     "output_type": "execute_result"
    }
   ],
   "source": [
    "s = slice(0, 6, 2)\n",
    "l[s]"
   ]
  },
  {
   "cell_type": "code",
   "execution_count": 227,
   "metadata": {},
   "outputs": [
    {
     "data": {
      "text/plain": [
       "(0, 6, 2)"
      ]
     },
     "execution_count": 227,
     "metadata": {},
     "output_type": "execute_result"
    }
   ],
   "source": [
    "s.start, s.stop, s.step"
   ]
  },
  {
   "cell_type": "code",
   "execution_count": 228,
   "metadata": {},
   "outputs": [],
   "source": [
    "class Fib:\n",
    "    def __getitem__(self, s):\n",
    "        print(type(s), s)"
   ]
  },
  {
   "cell_type": "code",
   "execution_count": 229,
   "metadata": {},
   "outputs": [
    {
     "name": "stdout",
     "output_type": "stream",
     "text": [
      "<class 'int'> 2\n",
      "<class 'slice'> slice(2, 10, 2)\n"
     ]
    }
   ],
   "source": [
    "f = Fib()\n",
    "f[2]\n",
    "f[2:10:2]"
   ]
  },
  {
   "cell_type": "code",
   "execution_count": 230,
   "metadata": {},
   "outputs": [],
   "source": [
    "class Fib:\n",
    "    def __init__(self, n):\n",
    "        self._n = n\n",
    "    \n",
    "    def __getitem__(self, s):\n",
    "        if isinstance(s, int):\n",
    "            # single item requested\n",
    "            print(f'requesting [{s}]')\n",
    "        else:\n",
    "            # slice being requested\n",
    "            print(f'requesting [{s.start}:{s.stop}:{s.step}]')"
   ]
  },
  {
   "cell_type": "code",
   "execution_count": 231,
   "metadata": {},
   "outputs": [],
   "source": [
    "f = Fib(10)"
   ]
  },
  {
   "cell_type": "code",
   "execution_count": 232,
   "metadata": {},
   "outputs": [
    {
     "name": "stdout",
     "output_type": "stream",
     "text": [
      "requesting [3]\n"
     ]
    }
   ],
   "source": [
    "f[3]"
   ]
  },
  {
   "cell_type": "code",
   "execution_count": 233,
   "metadata": {},
   "outputs": [
    {
     "name": "stdout",
     "output_type": "stream",
     "text": [
      "requesting [None:5:None]\n"
     ]
    }
   ],
   "source": [
    "f[:5]"
   ]
  },
  {
   "cell_type": "code",
   "execution_count": 234,
   "metadata": {},
   "outputs": [],
   "source": [
    "class Fib:\n",
    "    def __init__(self, n):\n",
    "        self._n = n\n",
    "    \n",
    "    def __getitem__(self, s):\n",
    "        if isinstance(s, int):\n",
    "            # single item requested\n",
    "            print(f'requesting [{s}]')\n",
    "        else:\n",
    "            # slice being requested\n",
    "            print(f'requesting [{s.start}:{s.stop}:{s.step}]')\n",
    "            idx = s.indices(self._n)\n",
    "            rng = range(*idx)\n",
    "            print(f'\\trange({idx[0]}, {idx[1]}, {idx[2]}) --> {list(rng)}')"
   ]
  },
  {
   "cell_type": "code",
   "execution_count": 235,
   "metadata": {},
   "outputs": [
    {
     "name": "stdout",
     "output_type": "stream",
     "text": [
      "requesting [3:5:None]\n",
      "\trange(3, 5, 1) --> [3, 4]\n",
      "requesting [None:None:-1]\n",
      "\trange(9, -1, -1) --> [9, 8, 7, 6, 5, 4, 3, 2, 1, 0]\n"
     ]
    }
   ],
   "source": [
    "f = Fib(10)\n",
    "f[3:5]\n",
    "f[::-1]"
   ]
  },
  {
   "cell_type": "code",
   "execution_count": 236,
   "metadata": {},
   "outputs": [],
   "source": [
    "from functools import lru_cache"
   ]
  },
  {
   "cell_type": "code",
   "execution_count": 237,
   "metadata": {},
   "outputs": [],
   "source": [
    "@lru_cache(2**10)\n",
    "def fib(n):\n",
    "    if n < 2:\n",
    "        return 1\n",
    "    else:\n",
    "        return fib(n-1) + fib(n-2)"
   ]
  },
  {
   "cell_type": "code",
   "execution_count": 238,
   "metadata": {},
   "outputs": [
    {
     "data": {
      "text/plain": [
       "(1, 1, 2, 3, 5, 8, 20365011074)"
      ]
     },
     "execution_count": 238,
     "metadata": {},
     "output_type": "execute_result"
    }
   ],
   "source": [
    "fib(0), fib(1), fib(2), fib(3), fib(4), fib(5), fib(50)"
   ]
  },
  {
   "cell_type": "code",
   "execution_count": 239,
   "metadata": {},
   "outputs": [],
   "source": [
    "class Fib:\n",
    "    def __init__(self, n):\n",
    "        self._n = n\n",
    "    \n",
    "    def __getitem__(self, s):\n",
    "        if isinstance(s, int):\n",
    "            # single item requested\n",
    "            print(f'requesting [{s}]')\n",
    "        else:\n",
    "            # slice being requested\n",
    "            print(f'requesting [{s.start}:{s.stop}:{s.step}]')\n",
    "            idx = s.indices(self._n)\n",
    "            rng = range(idx[0], idx[1], idx[2])\n",
    "            print(f'\\trange({idx[0]}, {idx[1]}, {idx[2]}) --> {list(rng)}')\n",
    "    \n",
    "    @staticmethod\n",
    "    @lru_cache(2**32)\n",
    "    def _fib(n):\n",
    "        if n < 2:\n",
    "            return 1\n",
    "        else:\n",
    "            return fib(n-1) + fib(n-2)"
   ]
  },
  {
   "cell_type": "code",
   "execution_count": 240,
   "metadata": {},
   "outputs": [],
   "source": [
    "class Fib:\n",
    "    def __init__(self, n):\n",
    "        self._n = n\n",
    "    \n",
    "    def __getitem__(self, s):\n",
    "        if isinstance(s, int):\n",
    "            # single item requested\n",
    "            return self._fib(s)\n",
    "        else:\n",
    "            # slice being requested\n",
    "            print(f'requesting [{s.start}:{s.stop}:{s.step}]')\n",
    "            idx = s.indices(self._n)\n",
    "            rng = range(idx[0], idx[1], idx[2])\n",
    "            print(f'\\trange({idx[0]}, {idx[1]}, {idx[2]}) --> {list(rng)}')\n",
    "            \n",
    "    @staticmethod\n",
    "    @lru_cache(2**32)\n",
    "    def _fib(n):\n",
    "        if n < 2:\n",
    "            return 1\n",
    "        else:\n",
    "            return fib(n-1) + fib(n-2)"
   ]
  },
  {
   "cell_type": "code",
   "execution_count": 241,
   "metadata": {},
   "outputs": [],
   "source": [
    "f = Fib(100)"
   ]
  },
  {
   "cell_type": "code",
   "execution_count": 242,
   "metadata": {},
   "outputs": [
    {
     "data": {
      "text/plain": [
       "(1, 1, 2, 3, 5, 8, 20365011074)"
      ]
     },
     "execution_count": 242,
     "metadata": {},
     "output_type": "execute_result"
    }
   ],
   "source": [
    "f[0], f[1], f[2], f[3], f[4], f[5], f[50]"
   ]
  },
  {
   "cell_type": "code",
   "execution_count": 243,
   "metadata": {},
   "outputs": [
    {
     "data": {
      "text/plain": [
       "(453973694165307953197296969697410619233826, 1)"
      ]
     },
     "execution_count": 243,
     "metadata": {},
     "output_type": "execute_result"
    }
   ],
   "source": [
    "f[200], f[-5]"
   ]
  },
  {
   "cell_type": "code",
   "execution_count": 244,
   "metadata": {},
   "outputs": [],
   "source": [
    "class Fib:\n",
    "    def __init__(self, n):\n",
    "        self._n = n\n",
    "    \n",
    "    def __getitem__(self, s):\n",
    "        if isinstance(s, int):\n",
    "            # single item requested\n",
    "            if s < 0:\n",
    "                s = self._n + s\n",
    "            if s < 0 or s > self._n - 1:\n",
    "                raise IndexError\n",
    "            return self._fib(s)\n",
    "        else:\n",
    "            # slice being requested\n",
    "            print(f'requesting [{s.start}:{s.stop}:{s.step}]')\n",
    "            idx = s.indices(self._n)\n",
    "            rng = range(idx[0], idx[1], idx[2])\n",
    "            print(f'\\trange({idx[0]}, {idx[1]}, {idx[2]}) --> {list(rng)}')\n",
    "            \n",
    "    @staticmethod\n",
    "    @lru_cache(2**32)\n",
    "    def _fib(n):\n",
    "        if n < 2:\n",
    "            return 1\n",
    "        else:\n",
    "            return fib(n-1) + fib(n-2)"
   ]
  },
  {
   "cell_type": "code",
   "execution_count": 245,
   "metadata": {},
   "outputs": [],
   "source": [
    "f = Fib(10)"
   ]
  },
  {
   "cell_type": "code",
   "execution_count": 246,
   "metadata": {},
   "outputs": [
    {
     "data": {
      "text/plain": [
       "(55, 55)"
      ]
     },
     "execution_count": 246,
     "metadata": {},
     "output_type": "execute_result"
    }
   ],
   "source": [
    "f[9], f[-1]"
   ]
  },
  {
   "cell_type": "code",
   "execution_count": 247,
   "metadata": {},
   "outputs": [
    {
     "ename": "IndexError",
     "evalue": "",
     "output_type": "error",
     "traceback": [
      "\u001b[1;31m---------------------------------------------------------------------------\u001b[0m",
      "\u001b[1;31mIndexError\u001b[0m                                Traceback (most recent call last)",
      "\u001b[1;32m~\\AppData\\Local\\Temp\\ipykernel_14856\\356093955.py\u001b[0m in \u001b[0;36m<module>\u001b[1;34m\u001b[0m\n\u001b[1;32m----> 1\u001b[1;33m \u001b[0mf\u001b[0m\u001b[1;33m[\u001b[0m\u001b[1;36m10\u001b[0m\u001b[1;33m]\u001b[0m\u001b[1;33m\u001b[0m\u001b[1;33m\u001b[0m\u001b[0m\n\u001b[0m",
      "\u001b[1;32m~\\AppData\\Local\\Temp\\ipykernel_14856\\3262733652.py\u001b[0m in \u001b[0;36m__getitem__\u001b[1;34m(self, s)\u001b[0m\n\u001b[0;32m      9\u001b[0m                 \u001b[0ms\u001b[0m \u001b[1;33m=\u001b[0m \u001b[0mself\u001b[0m\u001b[1;33m.\u001b[0m\u001b[0m_n\u001b[0m \u001b[1;33m+\u001b[0m \u001b[0ms\u001b[0m\u001b[1;33m\u001b[0m\u001b[1;33m\u001b[0m\u001b[0m\n\u001b[0;32m     10\u001b[0m             \u001b[1;32mif\u001b[0m \u001b[0ms\u001b[0m \u001b[1;33m<\u001b[0m \u001b[1;36m0\u001b[0m \u001b[1;32mor\u001b[0m \u001b[0ms\u001b[0m \u001b[1;33m>\u001b[0m \u001b[0mself\u001b[0m\u001b[1;33m.\u001b[0m\u001b[0m_n\u001b[0m \u001b[1;33m-\u001b[0m \u001b[1;36m1\u001b[0m\u001b[1;33m:\u001b[0m\u001b[1;33m\u001b[0m\u001b[1;33m\u001b[0m\u001b[0m\n\u001b[1;32m---> 11\u001b[1;33m                 \u001b[1;32mraise\u001b[0m \u001b[0mIndexError\u001b[0m\u001b[1;33m\u001b[0m\u001b[1;33m\u001b[0m\u001b[0m\n\u001b[0m\u001b[0;32m     12\u001b[0m             \u001b[1;32mreturn\u001b[0m \u001b[0mself\u001b[0m\u001b[1;33m.\u001b[0m\u001b[0m_fib\u001b[0m\u001b[1;33m(\u001b[0m\u001b[0ms\u001b[0m\u001b[1;33m)\u001b[0m\u001b[1;33m\u001b[0m\u001b[1;33m\u001b[0m\u001b[0m\n\u001b[0;32m     13\u001b[0m         \u001b[1;32melse\u001b[0m\u001b[1;33m:\u001b[0m\u001b[1;33m\u001b[0m\u001b[1;33m\u001b[0m\u001b[0m\n",
      "\u001b[1;31mIndexError\u001b[0m: "
     ]
    }
   ],
   "source": [
    "f[10]"
   ]
  },
  {
   "cell_type": "code",
   "execution_count": 248,
   "metadata": {},
   "outputs": [
    {
     "data": {
      "text/plain": [
       "[1, 3, 5, 6, 8, 9, 10]"
      ]
     },
     "execution_count": 248,
     "metadata": {},
     "output_type": "execute_result"
    }
   ],
   "source": [
    "t = 10, 3, 5, 8, 9, 6, 1\n",
    "sorted(t)"
   ]
  },
  {
   "cell_type": "code",
   "execution_count": 249,
   "metadata": {},
   "outputs": [
    {
     "data": {
      "text/plain": [
       "[1, 3, 5, 6, 8, 9, 10]"
      ]
     },
     "execution_count": 249,
     "metadata": {},
     "output_type": "execute_result"
    }
   ],
   "source": [
    "s = {10, 3, 5, 8, 9, 6, 1}\n",
    "sorted(s)"
   ]
  },
  {
   "cell_type": "code",
   "execution_count": 250,
   "metadata": {},
   "outputs": [
    {
     "name": "stdout",
     "output_type": "stream",
     "text": [
      "3\n",
      "2\n",
      "1\n"
     ]
    }
   ],
   "source": [
    "d = {3: 100, 2: 200, 1: 10}\n",
    "for item in d:\n",
    "    print(item)"
   ]
  },
  {
   "cell_type": "code",
   "execution_count": 251,
   "metadata": {},
   "outputs": [
    {
     "data": {
      "text/plain": [
       "[1, 2, 3]"
      ]
     },
     "execution_count": 251,
     "metadata": {},
     "output_type": "execute_result"
    }
   ],
   "source": [
    "d = {3: 100, 2: 200, 1: 10}\n",
    "sorted(d)"
   ]
  },
  {
   "cell_type": "code",
   "execution_count": 252,
   "metadata": {},
   "outputs": [
    {
     "data": {
      "text/plain": [
       "['c', 'b', 'a']"
      ]
     },
     "execution_count": 252,
     "metadata": {},
     "output_type": "execute_result"
    }
   ],
   "source": [
    "d = {'a': 100, 'b': 50, 'c': 10}\n",
    "sorted(d, key=lambda k: d[k])"
   ]
  },
  {
   "cell_type": "code",
   "execution_count": 254,
   "metadata": {},
   "outputs": [
    {
     "data": {
      "text/plain": [
       "[3, 9, 10, 8, 5, 1, 6]"
      ]
     },
     "execution_count": 254,
     "metadata": {},
     "output_type": "execute_result"
    }
   ],
   "source": [
    "import math\n",
    "\n",
    "t = 10, 3, 5, 8, 9, 6, 1\n",
    "sorted(t, key=lambda k: math.cos(k))"
   ]
  },
  {
   "cell_type": "code",
   "execution_count": 255,
   "metadata": {},
   "outputs": [
    {
     "data": {
      "text/plain": [
       "['a', 'bird', 'is', 'late', 'parrot', 'this']"
      ]
     },
     "execution_count": 255,
     "metadata": {},
     "output_type": "execute_result"
    }
   ],
   "source": [
    "t = 'this', 'parrot', 'is', 'a', 'late', 'bird'\n",
    "sorted(t)"
   ]
  },
  {
   "cell_type": "code",
   "execution_count": 256,
   "metadata": {},
   "outputs": [],
   "source": [
    "def sort_key(s):\n",
    "    return len(s)"
   ]
  },
  {
   "cell_type": "code",
   "execution_count": 257,
   "metadata": {},
   "outputs": [
    {
     "data": {
      "text/plain": [
       "['a', 'is', 'this', 'late', 'bird', 'parrot']"
      ]
     },
     "execution_count": 257,
     "metadata": {},
     "output_type": "execute_result"
    }
   ],
   "source": [
    "sorted(t, key=sort_key)"
   ]
  },
  {
   "cell_type": "code",
   "execution_count": 258,
   "metadata": {},
   "outputs": [
    {
     "data": {
      "text/plain": [
       "['a', 'is', 'this', 'late', 'bird', 'parrot']"
      ]
     },
     "execution_count": 258,
     "metadata": {},
     "output_type": "execute_result"
    }
   ],
   "source": [
    "sorted(t, key=lambda s: len(s))"
   ]
  },
  {
   "cell_type": "code",
   "execution_count": 259,
   "metadata": {},
   "outputs": [
    {
     "name": "stdout",
     "output_type": "stream",
     "text": [
      "The Zen of Python, by Tim Peters\n",
      "\n",
      "Beautiful is better than ugly.\n",
      "Explicit is better than implicit.\n",
      "Simple is better than complex.\n",
      "Complex is better than complicated.\n",
      "Flat is better than nested.\n",
      "Sparse is better than dense.\n",
      "Readability counts.\n",
      "Special cases aren't special enough to break the rules.\n",
      "Although practicality beats purity.\n",
      "Errors should never pass silently.\n",
      "Unless explicitly silenced.\n",
      "In the face of ambiguity, refuse the temptation to guess.\n",
      "There should be one-- and preferably only one --obvious way to do it.\n",
      "Although that way may not be obvious at first unless you're Dutch.\n",
      "Now is better than never.\n",
      "Although never is often better than *right* now.\n",
      "If the implementation is hard to explain, it's a bad idea.\n",
      "If the implementation is easy to explain, it may be a good idea.\n",
      "Namespaces are one honking great idea -- let's do more of those!\n"
     ]
    }
   ],
   "source": [
    "import this"
   ]
  },
  {
   "cell_type": "code",
   "execution_count": 260,
   "metadata": {},
   "outputs": [],
   "source": [
    "t = 'aaaa', 'bbbb', 'cccc', 'dddd', 'eeee'"
   ]
  },
  {
   "cell_type": "code",
   "execution_count": 261,
   "metadata": {},
   "outputs": [
    {
     "data": {
      "text/plain": [
       "['aaaa', 'bbbb', 'cccc', 'dddd', 'eeee']"
      ]
     },
     "execution_count": 261,
     "metadata": {},
     "output_type": "execute_result"
    }
   ],
   "source": [
    "sorted(t, key = lambda s: len(s))"
   ]
  },
  {
   "cell_type": "code",
   "execution_count": 262,
   "metadata": {},
   "outputs": [],
   "source": [
    "t = 'bbbb', 'cccc', 'aaaa', 'eeee', 'dddd'"
   ]
  },
  {
   "cell_type": "code",
   "execution_count": 263,
   "metadata": {},
   "outputs": [
    {
     "data": {
      "text/plain": [
       "['bbbb', 'cccc', 'aaaa', 'eeee', 'dddd']"
      ]
     },
     "execution_count": 263,
     "metadata": {},
     "output_type": "execute_result"
    }
   ],
   "source": [
    "sorted(t, key = lambda s: len(s))"
   ]
  },
  {
   "cell_type": "code",
   "execution_count": 265,
   "metadata": {},
   "outputs": [],
   "source": [
    "t = 'this', 'bird', 'is', 'a', 'late', 'parrot'"
   ]
  },
  {
   "cell_type": "code",
   "execution_count": 266,
   "metadata": {},
   "outputs": [
    {
     "data": {
      "text/plain": [
       "['parrot', 'this', 'bird', 'late', 'is', 'a']"
      ]
     },
     "execution_count": 266,
     "metadata": {},
     "output_type": "execute_result"
    }
   ],
   "source": [
    "sorted(t, key=lambda s: len(s), reverse=True)"
   ]
  },
  {
   "cell_type": "markdown",
   "metadata": {},
   "source": [
    "# List Comprehensions"
   ]
  },
  {
   "cell_type": "code",
   "execution_count": 267,
   "metadata": {},
   "outputs": [],
   "source": [
    "squares = []  # create an empty list\n",
    "for i in range(1, 101):\n",
    "    squares.append(i**2)"
   ]
  },
  {
   "cell_type": "code",
   "execution_count": 268,
   "metadata": {},
   "outputs": [
    {
     "data": {
      "text/plain": [
       "[1, 4, 9, 16, 25, 36, 49, 64, 81, 100]"
      ]
     },
     "execution_count": 268,
     "metadata": {},
     "output_type": "execute_result"
    }
   ],
   "source": [
    "squares[0:10]"
   ]
  },
  {
   "cell_type": "code",
   "execution_count": 269,
   "metadata": {},
   "outputs": [],
   "source": [
    "squares = [i**2 for i in range(1, 101)]"
   ]
  },
  {
   "cell_type": "code",
   "execution_count": 270,
   "metadata": {},
   "outputs": [
    {
     "data": {
      "text/plain": [
       "[1, 4, 9, 16, 25, 36, 49, 64, 81, 100]"
      ]
     },
     "execution_count": 270,
     "metadata": {},
     "output_type": "execute_result"
    }
   ],
   "source": [
    "squares[0:10]"
   ]
  },
  {
   "cell_type": "code",
   "execution_count": 271,
   "metadata": {},
   "outputs": [],
   "source": [
    "squares = []\n",
    "for i in range(1, 101):\n",
    "    if i % 2 == 0:\n",
    "        squares.append(i**2)"
   ]
  },
  {
   "cell_type": "code",
   "execution_count": 272,
   "metadata": {},
   "outputs": [],
   "source": [
    "squares = [i**2 for i in range(1, 101) if i % 2 == 0]"
   ]
  },
  {
   "cell_type": "code",
   "execution_count": 273,
   "metadata": {},
   "outputs": [
    {
     "data": {
      "text/plain": [
       "[4, 16, 36, 64, 100, 144, 196, 256, 324, 400]"
      ]
     },
     "execution_count": 273,
     "metadata": {},
     "output_type": "execute_result"
    }
   ],
   "source": [
    "squares[0:10]"
   ]
  },
  {
   "cell_type": "code",
   "execution_count": 274,
   "metadata": {},
   "outputs": [],
   "source": [
    "squares = [i**2 \n",
    "          for i in range(1, 101)\n",
    "          if i % 2 == 0]"
   ]
  },
  {
   "cell_type": "code",
   "execution_count": 275,
   "metadata": {},
   "outputs": [
    {
     "data": {
      "text/plain": [
       "[4, 16, 36, 64, 100, 144, 196, 256, 324, 400]"
      ]
     },
     "execution_count": 275,
     "metadata": {},
     "output_type": "execute_result"
    }
   ],
   "source": [
    "squares[0:10]"
   ]
  },
  {
   "cell_type": "code",
   "execution_count": 276,
   "metadata": {},
   "outputs": [],
   "source": [
    "import dis"
   ]
  },
  {
   "cell_type": "code",
   "execution_count": 277,
   "metadata": {},
   "outputs": [],
   "source": [
    "compiled_code = compile('[i**2 for i in (1, 2, 3)]', \n",
    "                        filename='', mode='eval')"
   ]
  },
  {
   "cell_type": "code",
   "execution_count": 278,
   "metadata": {},
   "outputs": [
    {
     "name": "stdout",
     "output_type": "stream",
     "text": [
      "  1           0 LOAD_CONST               0 (<code object <listcomp> at 0x0000020B5D98BC90, file \"\", line 1>)\n",
      "              2 LOAD_CONST               1 ('<listcomp>')\n",
      "              4 MAKE_FUNCTION            0\n",
      "              6 LOAD_CONST               2 ((1, 2, 3))\n",
      "              8 GET_ITER\n",
      "             10 CALL_FUNCTION            1\n",
      "             12 RETURN_VALUE\n",
      "\n",
      "Disassembly of <code object <listcomp> at 0x0000020B5D98BC90, file \"\", line 1>:\n",
      "  1           0 BUILD_LIST               0\n",
      "              2 LOAD_FAST                0 (.0)\n",
      "        >>    4 FOR_ITER                12 (to 18)\n",
      "              6 STORE_FAST               1 (i)\n",
      "              8 LOAD_FAST                1 (i)\n",
      "             10 LOAD_CONST               0 (2)\n",
      "             12 BINARY_POWER\n",
      "             14 LIST_APPEND              2\n",
      "             16 JUMP_ABSOLUTE            4\n",
      "        >>   18 RETURN_VALUE\n"
     ]
    }
   ],
   "source": [
    "dis.dis(compiled_code)"
   ]
  },
  {
   "cell_type": "code",
   "execution_count": 279,
   "metadata": {},
   "outputs": [],
   "source": [
    "table = []\n",
    "for i in range(1, 11):\n",
    "    row = []\n",
    "    for j in range(1, 11):\n",
    "        row.append(i*j)\n",
    "    table.append(row)"
   ]
  },
  {
   "cell_type": "code",
   "execution_count": 280,
   "metadata": {},
   "outputs": [
    {
     "data": {
      "text/plain": [
       "[[1, 2, 3, 4, 5, 6, 7, 8, 9, 10],\n",
       " [2, 4, 6, 8, 10, 12, 14, 16, 18, 20],\n",
       " [3, 6, 9, 12, 15, 18, 21, 24, 27, 30],\n",
       " [4, 8, 12, 16, 20, 24, 28, 32, 36, 40],\n",
       " [5, 10, 15, 20, 25, 30, 35, 40, 45, 50],\n",
       " [6, 12, 18, 24, 30, 36, 42, 48, 54, 60],\n",
       " [7, 14, 21, 28, 35, 42, 49, 56, 63, 70],\n",
       " [8, 16, 24, 32, 40, 48, 56, 64, 72, 80],\n",
       " [9, 18, 27, 36, 45, 54, 63, 72, 81, 90],\n",
       " [10, 20, 30, 40, 50, 60, 70, 80, 90, 100]]"
      ]
     },
     "execution_count": 280,
     "metadata": {},
     "output_type": "execute_result"
    }
   ],
   "source": [
    "table"
   ]
  },
  {
   "cell_type": "code",
   "execution_count": 282,
   "metadata": {},
   "outputs": [
    {
     "data": {
      "text/plain": [
       "[[1, 2, 3, 4, 5, 6, 7, 8, 9, 10],\n",
       " [2, 4, 6, 8, 10, 12, 14, 16, 18, 20],\n",
       " [3, 6, 9, 12, 15, 18, 21, 24, 27, 30],\n",
       " [4, 8, 12, 16, 20, 24, 28, 32, 36, 40],\n",
       " [5, 10, 15, 20, 25, 30, 35, 40, 45, 50],\n",
       " [6, 12, 18, 24, 30, 36, 42, 48, 54, 60],\n",
       " [7, 14, 21, 28, 35, 42, 49, 56, 63, 70],\n",
       " [8, 16, 24, 32, 40, 48, 56, 64, 72, 80],\n",
       " [9, 18, 27, 36, 45, 54, 63, 72, 81, 90],\n",
       " [10, 20, 30, 40, 50, 60, 70, 80, 90, 100]]"
      ]
     },
     "execution_count": 282,
     "metadata": {},
     "output_type": "execute_result"
    }
   ],
   "source": [
    "table = []\n",
    "for i in range(1, 11):\n",
    "    row = []\n",
    "    for j in range(1, 11):\n",
    "        row.append(i*j)\n",
    "    table.append(row)\n",
    "\n",
    "table2 = [[i*j for j in range(1, 11)] for i in range(1, 11)]\n",
    "table2"
   ]
  },
  {
   "cell_type": "code",
   "execution_count": 283,
   "metadata": {},
   "outputs": [],
   "source": [
    "from math import factorial\n",
    "\n",
    "def combo(n, k):\n",
    "    return factorial(n) // (factorial(k) * factorial(n-k))\n",
    "\n",
    "size = 10  # global variable\n",
    "pascal = [ [combo(n, k) for k in range(n+1)] for n in range(size+1) ]"
   ]
  },
  {
   "cell_type": "code",
   "execution_count": 284,
   "metadata": {},
   "outputs": [
    {
     "data": {
      "text/plain": [
       "[[1],\n",
       " [1, 1],\n",
       " [1, 2, 1],\n",
       " [1, 3, 3, 1],\n",
       " [1, 4, 6, 4, 1],\n",
       " [1, 5, 10, 10, 5, 1],\n",
       " [1, 6, 15, 20, 15, 6, 1],\n",
       " [1, 7, 21, 35, 35, 21, 7, 1],\n",
       " [1, 8, 28, 56, 70, 56, 28, 8, 1],\n",
       " [1, 9, 36, 84, 126, 126, 84, 36, 9, 1],\n",
       " [1, 10, 45, 120, 210, 252, 210, 120, 45, 10, 1]]"
      ]
     },
     "execution_count": 284,
     "metadata": {},
     "output_type": "execute_result"
    }
   ],
   "source": [
    "pascal"
   ]
  },
  {
   "cell_type": "code",
   "execution_count": 285,
   "metadata": {},
   "outputs": [],
   "source": [
    "l1 = ['a', 'b', 'c']\n",
    "l2 = ['x', 'y', 'z']\n",
    "result = []\n",
    "for s1 in l1:\n",
    "    for s2 in l2:\n",
    "        result.append(s1+s2)"
   ]
  },
  {
   "cell_type": "code",
   "execution_count": 289,
   "metadata": {},
   "outputs": [
    {
     "data": {
      "text/plain": [
       "['ax', 'bx', 'cx', 'ay', 'by', 'cy', 'az', 'bz', 'cz']"
      ]
     },
     "execution_count": 289,
     "metadata": {},
     "output_type": "execute_result"
    }
   ],
   "source": [
    "result = [s1+s2 for s2 in l2 for s1 in l1]\n",
    "result"
   ]
  },
  {
   "cell_type": "code",
   "execution_count": 287,
   "metadata": {},
   "outputs": [],
   "source": [
    "v1 = (1, 2, 3, 4, 5, 6)\n",
    "v2 = (10, 20, 30, 40, 50, 60)"
   ]
  },
  {
   "cell_type": "code",
   "execution_count": 292,
   "metadata": {},
   "outputs": [
    {
     "data": {
      "text/plain": [
       "[(1, 10), (2, 20), (3, 30), (4, 40), (5, 50), (6, 60)]"
      ]
     },
     "execution_count": 292,
     "metadata": {},
     "output_type": "execute_result"
    }
   ],
   "source": [
    "list(zip(v1, v2))"
   ]
  },
  {
   "cell_type": "code",
   "execution_count": 290,
   "metadata": {},
   "outputs": [
    {
     "name": "stdout",
     "output_type": "stream",
     "text": [
      "910\n"
     ]
    }
   ],
   "source": [
    "dot = 0\n",
    "for i in range(len(v1)):\n",
    "    dot += (v1[i] * v2[i])\n",
    "print(dot)"
   ]
  },
  {
   "cell_type": "code",
   "execution_count": 293,
   "metadata": {},
   "outputs": [
    {
     "name": "stdout",
     "output_type": "stream",
     "text": [
      "910\n"
     ]
    }
   ],
   "source": [
    "dot = sum([i * j for i, j in zip(v1, v2)])\n",
    "print(dot)"
   ]
  },
  {
   "cell_type": "code",
   "execution_count": 294,
   "metadata": {},
   "outputs": [
    {
     "name": "stdout",
     "output_type": "stream",
     "text": [
      "910\n"
     ]
    }
   ],
   "source": [
    "dot = sum(i * j for i, j in zip(v1, v2))\n",
    "print(dot)"
   ]
  },
  {
   "cell_type": "code",
   "execution_count": 296,
   "metadata": {},
   "outputs": [
    {
     "name": "stdout",
     "output_type": "stream",
     "text": [
      "<generator object <genexpr> at 0x0000020B5D9DFD60>\n"
     ]
    }
   ],
   "source": [
    "dot = (i * j for i, j in zip(v1, v2))\n",
    "print(dot)"
   ]
  },
  {
   "cell_type": "code",
   "execution_count": 297,
   "metadata": {},
   "outputs": [
    {
     "data": {
      "text/plain": [
       "910"
      ]
     },
     "execution_count": 297,
     "metadata": {},
     "output_type": "execute_result"
    }
   ],
   "source": [
    "sum(dot)"
   ]
  },
  {
   "cell_type": "code",
   "execution_count": 298,
   "metadata": {},
   "outputs": [
    {
     "data": {
      "text/plain": [
       "{'__name__': '__main__',\n",
       " '__doc__': 'Automatically created module for IPython interactive environment',\n",
       " '__package__': None,\n",
       " '__loader__': None,\n",
       " '__spec__': None,\n",
       " '__builtin__': <module 'builtins' (built-in)>,\n",
       " '__builtins__': <module 'builtins' (built-in)>,\n",
       " '_ih': ['',\n",
       "  'print(\"Hello\")',\n",
       "  't = (1, 2, 3)',\n",
       "  't[0]',\n",
       "  't[0] = 100',\n",
       "  't = ( [1, 2], 3, 4)',\n",
       "  't[0][0] = 100',\n",
       "  't',\n",
       "  \"t = (10, 'a', 1+3j)\",\n",
       "  \"s = {10, 'a', 1+3j}\",\n",
       "  'for c in t:\\n    print(c)',\n",
       "  'for c in s:\\n    print(c)',\n",
       "  'for c in s:\\n    print(c)',\n",
       "  \"'a' in ['a', 'b', 100]\",\n",
       "  '100 in range(200)',\n",
       "  \"s = {10, 'a', 1+3j}\\n10 in s\",\n",
       "  \"len('python'), len([1, 2, 3]), len({10, 20, 30}), len({'a': 1, 'b': 2})\",\n",
       "  'a = [100, 300, 200]\\nmin(a), max(a)',\n",
       "  \"s = 'python'\\nmin(s), max(s)\",\n",
       "  \"s = {'p', 'y', 't', 'h', 'o', 'n'}\\nmin(s), max(s)\",\n",
       "  'a = [1+1j, 2+2j, 3+3j]\\nmin(a)',\n",
       "  'from decimal import Decimal',\n",
       "  \"t = 10, 20.5, Decimal('30.5')\",\n",
       "  'min(t), max(t)',\n",
       "  \"t = ['a', 10, 1000]\\nmin(t)\",\n",
       "  'r = range(10, 200)\\nmin(r), max(r)',\n",
       "  '[1, 2, 3] + [4, 5, 6]',\n",
       "  '(1, 2, 3) + (4, 5, 6)',\n",
       "  '(1, 2, 3) + [4, 5, 6]',\n",
       "  \"'abc' + ['d', 'e', 'f']\",\n",
       "  '(1, 2, 3) + tuple([4, 5, 6])',\n",
       "  \"tuple('abc') + ('d', 'e', 'f')\",\n",
       "  \"''.join(tuple('abc') + ('d', 'e', 'f'))\",\n",
       "  \"'abc' * 5\",\n",
       "  '[1, 2, 3] * 5',\n",
       "  's = \"gnu\\'s not unix\"',\n",
       "  \"s.index('n')\",\n",
       "  \"s.index('n', 1), s.index('n', 2), s.index('n', 8)\",\n",
       "  \"s.index('n', 13)\",\n",
       "  \"try:\\n    idx = s.index('n', 13)\\nexcept ValueError:\\n    print('not found')\",\n",
       "  \"s = 'python'\\nl = [1, 2, 3, 4, 5, 6, 7, 8, 9, 10]\",\n",
       "  's[0:3], s[4:6]',\n",
       "  'l[0:3], l[4:6]',\n",
       "  's[4:1000]',\n",
       "  's[0:3], s[:3]',\n",
       "  's[3:1000], s[3:], s[:]',\n",
       "  's, s[0:5], s[0:5:2]',\n",
       "  's, s[::2]',\n",
       "  's, s[-3:-1], s[::-1]',\n",
       "  'r = range(11)  # numbers from 0 to 10 (inclusive)',\n",
       "  'print(r)\\nprint(list(r))',\n",
       "  'r = range(11000000000000000000000000000000000000000000000000000000000)',\n",
       "  'print(r[:5])',\n",
       "  'print(list(r[:5]))',\n",
       "  'l = (1, 2, 3)\\nhash(l)',\n",
       "  \"s = '123'\\nhash(s)\",\n",
       "  'r = range(10)\\nhash(r)',\n",
       "  'l = [1, 2, 3]',\n",
       "  'hash(l)',\n",
       "  't = (1, 2, [10, 20])\\nhash(t)',\n",
       "  \"t = ('python', (1, 2, 3))\\nhash(t)\",\n",
       "  'from decimal import Decimal\\nd = Decimal(10.5)\\nhash(d)',\n",
       "  's = {1, 2, 3}\\nhash(s)',\n",
       "  's = frozenset({1, 2, 3})',\n",
       "  'hash(s)',\n",
       "  'x = [2000]',\n",
       "  'id(x[0])',\n",
       "  'l = x + x',\n",
       "  'l',\n",
       "  'id(l[0]), id(l[1])',\n",
       "  'l[0] is l[1]',\n",
       "  'x = [ [0, 0] ]\\nl = x + x',\n",
       "  'l',\n",
       "  'l[0] is l[1]',\n",
       "  'l[0][0] = 100',\n",
       "  'x = [ [0, 0] ]\\nm = [e.copy() for e in x*3]',\n",
       "  'm',\n",
       "  \"l = [1, 2, 3, 4, 5]\\nprint(id(l))\\nl[0] = 'a'\\nprint(id(l), l)\",\n",
       "  'l = [1, 2, 3, 4, 5]\\nl.clear()\\nprint(l)',\n",
       "  'l = [1, 2, 3, 4, 5]\\nl = []\\nprint(l)',\n",
       "  'l = [1, 2, 3, 4, 5]\\nprint(id(l))\\nl.clear()\\nprint(l, id(l))',\n",
       "  'l = [1, 2, 3, 4, 5]\\nprint(id(l))\\nl = []\\nprint(l, id(l))',\n",
       "  \"suits = ['Spades', 'Hearts', 'Diamonds', 'Clubs']\\nalias = suits\\nsuits = []\\nprint(suits, alias)\",\n",
       "  \"suits = ['Spades', 'Hearts', 'Diamonds', 'Clubs']\\nalias = suits\\nsuits.clear()\\nprint(suits, alias)\",\n",
       "  \"l = [1, 2, 3, 4, 5]\\nprint(id(l))\\nl[0:2] = ['a', 'b', 'c', 'd', 'e']\\nprint(id(l), l)\",\n",
       "  'l = [1, 2, 3]\\nprint(id(l))\\nl.append(4)\\nprint(l, id(l))',\n",
       "  'l = [1, 2, 3]\\nprint(id(l))\\nl = l + [4]\\nprint(id(l), l)',\n",
       "  \"l = [1, 2, 3, 4, 5]\\nprint(id(l))\\nl.extend({'a', 'b', 'c'})\\nprint(id(l), l)\",\n",
       "  \"l = [1, 2, 3]\\nl.extend(('a', 'b', 'c'))\\nprint(l)\",\n",
       "  'l = [1, 2, 3, 4]\\nprint(id(l))\\npopped = l.pop(1)\\nprint(id(l), popped, l)',\n",
       "  'l = [1, 2, 3, 4]\\npopped = l.pop()\\nprint(popped)\\nprint(id(l), popped, l)',\n",
       "  \"l = [1, 2, 3, 4]\\nprint(id(l))\\nl.insert(1, 'a')\\nprint(id(l), l)\",\n",
       "  'l = [1, 2, 3, 4]\\nprint(id(l))\\nl.reverse()\\nprint(id(l), l)',\n",
       "  'l = [1, 2, 3, 4]\\nl[::-1]',\n",
       "  'l = [1, 2, 3, 4]\\nprint(id(l))\\nl = l[::-1]\\nprint(id(l), l)',\n",
       "  'l = [1, 2, 3, 4]\\nprint(id(l))\\nl2 = l.copy()\\nprint(id(l2), l2)',\n",
       "  'l = [1, 2, 3, 4]\\nprint(id(l))\\nl2 = l[:]\\nprint(id(l2), l2)',\n",
       "  'from dis import dis',\n",
       "  '(1, 2, 3)\\n[1, 2, 3]',\n",
       "  'dis(compile(\\'(1,2,3, \"a\")\\', \\'string\\', \\'eval\\'))',\n",
       "  'dis(compile(\\'[1,2,3, \"a\"]\\', \\'string\\', \\'eval\\'))',\n",
       "  'dis(compile(\\'[1,2,3, \"a\", 1+4j]\\', \\'string\\', \\'eval\\'))',\n",
       "  'dis(compile(\\'[1,2,3, \"a\", 1+4j, 1, 2, 3, 4, 5, 6, 7, 8, 9]\\', \\'string\\', \\'eval\\'))',\n",
       "  'from timeit import timeit\\ntimeit(\"(1,2,3,4,5,6,7,8,9)\", number=10_000_000)',\n",
       "  'timeit(\"[1,2,3,4,5,6,7,8,9]\", number=10_000_000)',\n",
       "  'dis(compile(\\'[1,2,3, \"a\", 1+4j, 1, 2, 3, 4, 5, 6, 7, 8, 9]\\', \\'string\\'))',\n",
       "  'dis(compile(\\'[1,2,3, \"a\", 1+4j, 1, 2, 3, 4, 5, 6, 7, 8, 9]\\', \\'string\\', \\'exec\\'))',\n",
       "  'def fn1():\\n    pass',\n",
       "  \"dis(compile('(fn1, 10, 20)', 'string', 'eval'))\",\n",
       "  \"dis(compile('[fn1, 10, 20]', 'string', 'eval'))\",\n",
       "  'dis(compile(\\'[fn, 1,2,3, \"a\"]\\', \\'string\\', \\'eval\\'))',\n",
       "  'dis(compile(\\'(1,2,3, \"a\")\\', \\'string\\', \\'eval\\'))',\n",
       "  \"dis(compile('(fn1, 10, 20)', 'string', 'eval'))\",\n",
       "  \"dis(compile('([1,2], 10, 20)', 'string', 'eval'))\",\n",
       "  \"dis(compile('[[1,2], 10, 20]', 'string', 'eval'))\",\n",
       "  'timeit(\"([1, 2], 10, 20)\", number=1_000_000)',\n",
       "  'timeit(\"[[1, 2], 10, 20]\", number=1_000_000)',\n",
       "  'l1 = [1, 2, 3, 4, 5, 6, 7, 8, 9]\\nt1 = (1, 2, 3, 4, 5, 6, 7, 8, 9)',\n",
       "  'id(l1), id(t1)',\n",
       "  'l2 = list(l1)\\nt2 = tuple(t1)',\n",
       "  \"timeit('tuple((1,2,3,4,5,6,7,8,9))', number=1_000_000)\",\n",
       "  \"timeit('list([1,2,3,4,5,6,7,8,9])', number=1_000_000)\",\n",
       "  'id(l1), id(l2), id(t1), id(t2)',\n",
       "  'l1 is l2, t1 is t2',\n",
       "  'import sys',\n",
       "  \"prev = 0\\nfor i in range(10):\\n    c = tuple(range(i+1))\\n    size_c = sys.getsizeof(c)\\n    delta, prev = size_c - prev, size_c\\n    print(f'{i+1} items: {size_c}, delta={delta}')\",\n",
       "  \"prev = 0\\nfor i in range(10):\\n    c = list(range(i+1))\\n    size_c = sys.getsizeof(c)\\n    delta, prev = size_c - prev, size_c\\n    print(f'{i+1} items: {size_c}, delta={delta}')\",\n",
       "  \"prev = 0\\nfor i in range(100):\\n    c = list(range(i+1))\\n    size_c = sys.getsizeof(c)\\n    delta, prev = size_c - prev, size_c\\n    print(f'{i+1} items: {size_c}, delta={delta}')\",\n",
       "  \"prev = 0\\nfor i in range(555):\\n    c = list(range(i+1))\\n    size_c = sys.getsizeof(c)\\n    delta, prev = size_c - prev, size_c\\n    print(f'{i+1} items: {size_c}, delta={delta}')\",\n",
       "  \"prev = 0\\n\\nfor i in range(10):\\n    c = list(range(i+1))\\n    size_c = sys.getsizeof(c)\\n    delta, prev = size_c - prev, size_c\\n    print(f'{i+1} items: {size_c}, delta={delta}')\",\n",
       "  \"c = []\\nprev = sys.getsizeof(c)\\nprint(f'0 items: {sys.getsizeof(c)}')\\nfor i in range(255):\\n    c.append(i)\\n    size_c = sys.getsizeof(c)\\n    delta, prev = size_c - prev, size_c\\n    print(f'{i+1} items: {size_c}, delta={delta}')\",\n",
       "  't = tuple(range(100_000))\\nl = list(t)',\n",
       "  \"timeit('t[99_999]', globals=globals(), number=10_000_000)\",\n",
       "  \"timeit('l[99_999]', globals=globals(), number=10_000_000)\",\n",
       "  'l1 = [1, 2, 3]\\n\\nl1_copy = []\\nfor item in l1:\\n    l1_copy.append(item)\\n\\nprint(l1_copy)',\n",
       "  'l1 is l1_copy',\n",
       "  'l1 = [1, 2, 3]\\nl1_copy = [item for item in l1]\\nprint(l1_copy)',\n",
       "  'l1 is l1_copy',\n",
       "  'l1 = [1, 2, 3]\\nl1_copy = l1.copy()\\nprint(l1_copy)',\n",
       "  'l1 is l1_copy',\n",
       "  'l1 = [1, 2, 3]',\n",
       "  'l1_copy = list(l1)\\nprint(l1_copy)',\n",
       "  'l1 is l1_copy',\n",
       "  't1 = (1, 2, 3)\\nt1_copy = list(t1)\\nprint(t1_copy)',\n",
       "  't1 = (1, 2, 3)\\nt1_copy = tuple(t1)\\nprint(t1_copy)',\n",
       "  't1 is t1_copy',\n",
       "  'l1 = [1, 2, 3]\\nl1_copy = l1[:]\\nprint(l1_copy)\\nprint(l1 is l1_copy)',\n",
       "  't1 = (1, 2, 3)\\nt1_copy = t1[:]\\nprint(t1_copy)\\nprint(t1 is t1_copy)',\n",
       "  \"s1 = 'python'\\ns2 = str(s1)\\nprint(s2)\\nprint(s1 is s2)\",\n",
       "  \"s1 = 'python'\\ns2 = s1[:]\\nprint(s2)\\nprint(s1 is s2)\",\n",
       "  'import copy',\n",
       "  'l1 = [1, 2, 3]\\nl1_copy = copy.copy(l1)\\nprint(l1_copy)\\nprint(l1 is l1_copy)',\n",
       "  't1 = (1, 2, 3)\\nt1_copy = copy.copy(t1)\\nprint(t1_copy)\\nprint(t1 is t1_copy)',\n",
       "  'v1 = [0, 0]\\nv2 = [0, 0]\\n\\nline1 = [v1, v2]',\n",
       "  'print(line1)\\nprint(id(line1[0]), id(line1[1]))',\n",
       "  'line2 = line1.copy()',\n",
       "  'line1 is line2',\n",
       "  'print(id(line1[0]), id(line1[1]))\\nprint(id(line2[0]), id(line2[1]))',\n",
       "  'line2[0][0] = 100',\n",
       "  'line2',\n",
       "  'line1',\n",
       "  'v1 = [0, 0]\\nv2 = [0, 0]\\n\\nline1 = [v1, v2]',\n",
       "  'line2 = [item[:] for item in line1]',\n",
       "  'print(id(line1[0]), id(line1[1]))\\nprint(id(line2[0]), id(line2[1]))',\n",
       "  'line1[0][0] = 100\\nprint(line1)\\nprint(line2)',\n",
       "  'v1 = [0, 0]\\nv2 = [0, 0]\\nline1 = [v1, v2]',\n",
       "  'line2 = copy.deepcopy(line1)\\nprint(id(line1[0]), id(line1[1]))\\nprint(id(line2[0]), id(line2[1]))',\n",
       "  'line2[0][0] = 100',\n",
       "  'print(line1)\\nprint(line2)',\n",
       "  'v1 = [11, 12]\\nv2 = [21, 22]\\nline1 = [v1, v2]\\n\\nv3 = [31, 32]\\nv4 = [41, 42]\\nline2 = [v3, v4]\\n\\nplane1 = [line1, line2]\\nprint(plane1)',\n",
       "  'plane2 = copy.deepcopy(plane1)',\n",
       "  'print(plane2)',\n",
       "  'print(plane1[0], id(plane1[0]))\\nprint(plane2[0], id(plane2[0]))',\n",
       "  'print(plane1[0][0], id(plane1[0][0]))\\nprint(plane2[0][0], id(plane2[0][0]))',\n",
       "  \"class Point:\\n    def __init__(self, x, y):\\n        self.x = x\\n        self.y = y\\n    \\n    def __repr__(self):\\n        return f'Point({self.x}, {self.y})'\\n    \\nclass Line:\\n    def __init__(self, p1, p2):\\n        self.p1 = p1\\n        self.p2 = p2\\n        \\n    def __repr__(self):\\n        return f'Line({self.p1.__repr__()}, {self.p2.__repr__()})'\",\n",
       "  'p1 = Point(0, 0)\\np2 = Point(10, 10)\\nline1 = Line(p1, p2)\\nline2 = copy.deepcopy(line1)\\n\\nprint(line1.p1, id(line1.p1))\\nprint(line2.p1, id(line2.p1))',\n",
       "  's = slice(0, 2)',\n",
       "  'type(s)',\n",
       "  's.start',\n",
       "  's.stop',\n",
       "  'l = [1, 2, 3, 4, 5]\\nl[s]',\n",
       "  'data = []  # a collection of rows, read from a file maybe\\nfor row in data:\\n    first_name = row[0:51]\\n    last_name = row[51:101]\\n    ssn = row[101:111]\\n    # etc',\n",
       "  'range_first_name = slice(0, 51)\\nrange_last_name = slice(51, 101)\\nrange_ssn = slice(101, 111)',\n",
       "  'for row in data:\\n    first_name = row[range_first_name]\\n    last_name = row[range_last_name]\\n    ssn = row[range_ssn]',\n",
       "  \"l = 'python'\\nl[0:1], l[0:6]\",\n",
       "  \"l = 'python'\\nl[0:6:2], l[0:6:3]\",\n",
       "  's1 = slice(0, 6, 2)\\ns2 = slice(0, 6, 3)\\nl[s1], l[s2]',\n",
       "  'l = [1, 2, 3, 4, 5, 6]\\nl[0:100]',\n",
       "  'l[-10:100]',\n",
       "  'l = [1, 2, 3, 4, 5, 6]\\nl[100]',\n",
       "  'l = [1, 2, 3, 4, 5, 6]',\n",
       "  'l[:4]',\n",
       "  'l[4:]',\n",
       "  'l[:]',\n",
       "  'l[3:0:-1]',\n",
       "  'l = [0, 1, 2, 3, 4, 5]',\n",
       "  'l[3:0:-1]',\n",
       "  'l[3:-1:-1]',\n",
       "  'l[3::-1]',\n",
       "  'l[3:-100:-1]',\n",
       "  'l[3:-1:-1]',\n",
       "  'l[3:-2:-1]',\n",
       "  'l[3:-3:-1]',\n",
       "  'l[3:-9:-1]',\n",
       "  'l[3:-5:-1]',\n",
       "  'l[3:-8:-1]',\n",
       "  'l = [0, 1, 2, 3, 4, 5]l[3:-8:-1]',\n",
       "  'l = [0, 1, 2, 3, 4, 5]\\nl[3:-8:-1]',\n",
       "  'l = [0, 1, 2, 3, 4, 5]\\nl[3:-4:-1]',\n",
       "  'my_list = [0, 1, 2, 3, 4, 5]',\n",
       "  'my_list.__getitem__(0)',\n",
       "  'my_list.__getitem__(5)',\n",
       "  'my_list.__getitem__(6)',\n",
       "  'my_list.__getitem__(-1)',\n",
       "  'my_list.__getitem__(slice(0,6,2))',\n",
       "  'my_list.__getitem__(slice(None, None, -1))',\n",
       "  'my_list = [0, 1, 2, 3, 4, 5]',\n",
       "  'for item in my_list:\\n    print(item ** 2)',\n",
       "  'index = 0\\nwhile True:\\n    try:\\n        item = my_list.__getitem__(index)\\n    except IndexError:\\n        # reached the end of the sequence\\n        break\\n    # do something with the item...\\n    print(item ** 2)\\n    index += 1',\n",
       "  'class MySequence:\\n    def __getitem__(self, index):\\n        print(type(index), index)',\n",
       "  'my_seq = MySequence()',\n",
       "  'my_seq[0]',\n",
       "  'my_seq[100]',\n",
       "  'my_seq[0:2]',\n",
       "  'my_seq[0:10:2]',\n",
       "  \"l = 'python'\\nlen(l)\",\n",
       "  's = slice(0, 6, 2)\\nl[s]',\n",
       "  's.start, s.stop, s.step',\n",
       "  'class Fib:\\n    def __getitem__(self, s):\\n        print(type(s), s)',\n",
       "  'f = Fib()\\nf[2]\\nf[2:10:2]',\n",
       "  \"class Fib:\\n    def __init__(self, n):\\n        self._n = n\\n    \\n    def __getitem__(self, s):\\n        if isinstance(s, int):\\n            # single item requested\\n            print(f'requesting [{s}]')\\n        else:\\n            # slice being requested\\n            print(f'requesting [{s.start}:{s.stop}:{s.step}]')\",\n",
       "  'f = Fib(10)',\n",
       "  'f[3]',\n",
       "  'f[:5]',\n",
       "  \"class Fib:\\n    def __init__(self, n):\\n        self._n = n\\n    \\n    def __getitem__(self, s):\\n        if isinstance(s, int):\\n            # single item requested\\n            print(f'requesting [{s}]')\\n        else:\\n            # slice being requested\\n            print(f'requesting [{s.start}:{s.stop}:{s.step}]')\\n            idx = s.indices(self._n)\\n            rng = range(*idx)\\n            print(f'\\\\trange({idx[0]}, {idx[1]}, {idx[2]}) --> {list(rng)}')\",\n",
       "  'f = Fib(10)\\nf[3:5]\\nf[::-1]',\n",
       "  'from functools import lru_cache',\n",
       "  '@lru_cache(2**10)\\ndef fib(n):\\n    if n < 2:\\n        return 1\\n    else:\\n        return fib(n-1) + fib(n-2)',\n",
       "  'fib(0), fib(1), fib(2), fib(3), fib(4), fib(5), fib(50)',\n",
       "  \"class Fib:\\n    def __init__(self, n):\\n        self._n = n\\n    \\n    def __getitem__(self, s):\\n        if isinstance(s, int):\\n            # single item requested\\n            print(f'requesting [{s}]')\\n        else:\\n            # slice being requested\\n            print(f'requesting [{s.start}:{s.stop}:{s.step}]')\\n            idx = s.indices(self._n)\\n            rng = range(idx[0], idx[1], idx[2])\\n            print(f'\\\\trange({idx[0]}, {idx[1]}, {idx[2]}) --> {list(rng)}')\\n    \\n    @staticmethod\\n    @lru_cache(2**32)\\n    def _fib(n):\\n        if n < 2:\\n            return 1\\n        else:\\n            return fib(n-1) + fib(n-2)\",\n",
       "  \"class Fib:\\n    def __init__(self, n):\\n        self._n = n\\n    \\n    def __getitem__(self, s):\\n        if isinstance(s, int):\\n            # single item requested\\n            return self._fib(s)\\n        else:\\n            # slice being requested\\n            print(f'requesting [{s.start}:{s.stop}:{s.step}]')\\n            idx = s.indices(self._n)\\n            rng = range(idx[0], idx[1], idx[2])\\n            print(f'\\\\trange({idx[0]}, {idx[1]}, {idx[2]}) --> {list(rng)}')\\n            \\n    @staticmethod\\n    @lru_cache(2**32)\\n    def _fib(n):\\n        if n < 2:\\n            return 1\\n        else:\\n            return fib(n-1) + fib(n-2)\",\n",
       "  'f = Fib(100)',\n",
       "  'f[0], f[1], f[2], f[3], f[4], f[5], f[50]',\n",
       "  'f[200], f[-5]',\n",
       "  \"class Fib:\\n    def __init__(self, n):\\n        self._n = n\\n    \\n    def __getitem__(self, s):\\n        if isinstance(s, int):\\n            # single item requested\\n            if s < 0:\\n                s = self._n + s\\n            if s < 0 or s > self._n - 1:\\n                raise IndexError\\n            return self._fib(s)\\n        else:\\n            # slice being requested\\n            print(f'requesting [{s.start}:{s.stop}:{s.step}]')\\n            idx = s.indices(self._n)\\n            rng = range(idx[0], idx[1], idx[2])\\n            print(f'\\\\trange({idx[0]}, {idx[1]}, {idx[2]}) --> {list(rng)}')\\n            \\n    @staticmethod\\n    @lru_cache(2**32)\\n    def _fib(n):\\n        if n < 2:\\n            return 1\\n        else:\\n            return fib(n-1) + fib(n-2)\",\n",
       "  'f = Fib(10)',\n",
       "  'f[9], f[-1]',\n",
       "  'f[10]',\n",
       "  't = 10, 3, 5, 8, 9, 6, 1\\nsorted(t)',\n",
       "  's = {10, 3, 5, 8, 9, 6, 1}\\nsorted(s)',\n",
       "  'd = {3: 100, 2: 200, 1: 10}\\nfor item in d:\\n    print(item)',\n",
       "  'd = {3: 100, 2: 200, 1: 10}\\nsorted(d)',\n",
       "  \"d = {'a': 100, 'b': 50, 'c': 10}\\nsorted(d, key=lambda k: d[k])\",\n",
       "  'import math\\n\\nt = 10, 3, 5, 8, 9, 6, 1\\nsorted(t, key=math.cos(t))',\n",
       "  'import math\\n\\nt = 10, 3, 5, 8, 9, 6, 1\\nsorted(t, key=lambda k: math.cos(k))',\n",
       "  \"t = 'this', 'parrot', 'is', 'a', 'late', 'bird'\\nsorted(t)\",\n",
       "  'def sort_key(s):\\n    return len(s)',\n",
       "  'sorted(t, key=sort_key)',\n",
       "  'sorted(t, key=lambda s: len(s))',\n",
       "  'import this',\n",
       "  \"t = 'aaaa', 'bbbb', 'cccc', 'dddd', 'eeee'\",\n",
       "  'sorted(t, key = lambda s: len(s))',\n",
       "  \"t = 'bbbb', 'cccc', 'aaaa', 'eeee', 'dddd'\",\n",
       "  'sorted(t, key = lambda s: len(s))',\n",
       "  'sorted(t, key=lambda s: len(s), reverse=True)',\n",
       "  \"t = 'this', 'bird', 'is', 'a', 'late', 'parrot'\",\n",
       "  'sorted(t, key=lambda s: len(s), reverse=True)',\n",
       "  'squares = []  # create an empty list\\nfor i in range(1, 101):\\n    squares.append(i**2)',\n",
       "  'squares[0:10]',\n",
       "  'squares = [i**2 for i in range(1, 101)]',\n",
       "  'squares[0:10]',\n",
       "  'squares = []\\nfor i in range(1, 101):\\n    if i % 2 == 0:\\n        squares.append(i**2)',\n",
       "  'squares = [i**2 for i in range(1, 101) if i % 2 == 0]',\n",
       "  'squares[0:10]',\n",
       "  'squares = [i**2\\n          for i in range(1, 101)\\n          if i % 2 == 0]',\n",
       "  'squares[0:10]',\n",
       "  'import dis',\n",
       "  \"compiled_code = compile('[i**2 for i in (1, 2, 3)]', \\n                        filename='', mode='eval')\",\n",
       "  'dis.dis(compiled_code)',\n",
       "  'table = []\\nfor i in range(1, 11):\\n    row = []\\n    for j in range(1, 11):\\n        row.append(i*j)\\n    table.append(row)',\n",
       "  'table',\n",
       "  'table = []\\nfor i in range(1, 11):\\n    row = []\\n    for j in range(1, 11):\\n        row.append(i*j)\\n    table.append(row)\\n\\ntable2 = [i*j for j in range(1, 11) for i in range(1, 11)]\\ntable2',\n",
       "  'table = []\\nfor i in range(1, 11):\\n    row = []\\n    for j in range(1, 11):\\n        row.append(i*j)\\n    table.append(row)\\n\\ntable2 = [[i*j for j in range(1, 11)] for i in range(1, 11)]\\ntable2',\n",
       "  'from math import factorial\\n\\ndef combo(n, k):\\n    return factorial(n) // (factorial(k) * factorial(n-k))\\n\\nsize = 10  # global variable\\npascal = [ [combo(n, k) for k in range(n+1)] for n in range(size+1) ]',\n",
       "  'pascal',\n",
       "  \"l1 = ['a', 'b', 'c']\\nl2 = ['x', 'y', 'z']\\nresult = []\\nfor s1 in l1:\\n    for s2 in l2:\\n        result.append(s1+s2)\",\n",
       "  'result = [s1+s2 for s2 in l2 for s1 in l1]\\nresult',\n",
       "  'v1 = (1, 2, 3, 4, 5, 6)\\nv2 = (10, 20, 30, 40, 50, 60)',\n",
       "  'result = [[s1+s2 for s2 in l2] for s1 in l1]\\nresult',\n",
       "  'result = [s1+s2 for s2 in l2 for s1 in l1]\\nresult',\n",
       "  'dot = 0\\nfor i in range(len(v1)):\\n    dot += (v1[i] * v2[i])\\nprint(dot)',\n",
       "  'zip(v1, v2)',\n",
       "  'list(zip(v1, v2))',\n",
       "  'dot = sum([i * j for i, j in zip(v1, v2)])\\nprint(dot)',\n",
       "  'dot = sum(i * j for i, j in zip(v1, v2))\\nprint(dot)',\n",
       "  'dot = i * j for i, j in zip(v1, v2)\\nprint(dot)',\n",
       "  'dot = (i * j for i, j in zip(v1, v2))\\nprint(dot)',\n",
       "  'sum(dot)',\n",
       "  'globals()'],\n",
       " '_oh': {3: 1,\n",
       "  7: ([100, 2], 3, 4),\n",
       "  13: True,\n",
       "  14: True,\n",
       "  15: True,\n",
       "  16: (6, 3, 3, 2),\n",
       "  17: (100, 300),\n",
       "  18: ('h', 'y'),\n",
       "  19: ('h', 'y'),\n",
       "  23: (10, Decimal('30.5')),\n",
       "  25: (10, 199),\n",
       "  26: [1, 2, 3, 4, 5, 6],\n",
       "  27: (1, 2, 3, 4, 5, 6),\n",
       "  30: (1, 2, 3, 4, 5, 6),\n",
       "  31: ('a', 'b', 'c', 'd', 'e', 'f'),\n",
       "  32: 'abcdef',\n",
       "  33: 'abcabcabcabcabc',\n",
       "  34: [1, 2, 3, 1, 2, 3, 1, 2, 3, 1, 2, 3, 1, 2, 3],\n",
       "  36: 1,\n",
       "  37: (1, 6, 11),\n",
       "  41: ('pyt', 'on'),\n",
       "  42: ([1, 2, 3], [5, 6]),\n",
       "  43: 'on',\n",
       "  44: ('pyt', 'pyt'),\n",
       "  45: ('hon', 'hon', 'python'),\n",
       "  46: ('python', 'pytho', 'pto'),\n",
       "  47: ('python', 'pto'),\n",
       "  48: ('python', 'ho', 'nohtyp'),\n",
       "  54: 529344067295497451,\n",
       "  55: -66116863465720503,\n",
       "  56: -7546101314042312252,\n",
       "  60: 7709632707160182844,\n",
       "  61: 1152921504606846986,\n",
       "  64: -272375401224217160,\n",
       "  66: 2247838055792,\n",
       "  68: [2000, 2000],\n",
       "  69: (2247838055792, 2247838055792),\n",
       "  70: True,\n",
       "  72: [[100, 0], [100, 0]],\n",
       "  73: True,\n",
       "  76: [[0, 0], [0, 0], [0, 0]],\n",
       "  93: [4, 3, 2, 1],\n",
       "  98: [1, 2, 3],\n",
       "  103: 0.1637258999999176,\n",
       "  104: 0.8841903000002276,\n",
       "  115: 0.10785810000015772,\n",
       "  116: 0.16683150000062597,\n",
       "  118: (2247838071488, 2247838205888),\n",
       "  120: 0.06690450000041892,\n",
       "  121: 0.2293269000001601,\n",
       "  122: (2247838071488, 2247838276224, 2247838205888, 2247838205888),\n",
       "  123: (False, True),\n",
       "  132: 0.8245966000004046,\n",
       "  133: 0.8044734999994034,\n",
       "  135: False,\n",
       "  137: False,\n",
       "  139: False,\n",
       "  142: False,\n",
       "  145: True,\n",
       "  156: False,\n",
       "  159: [[100, 0], [0, 0]],\n",
       "  160: [[100, 0], [0, 0]],\n",
       "  177: slice,\n",
       "  178: 0,\n",
       "  179: 2,\n",
       "  180: [1, 2],\n",
       "  184: ('p', 'python'),\n",
       "  185: ('pto', 'ph'),\n",
       "  186: ('pto', 'ph'),\n",
       "  187: [1, 2, 3, 4, 5, 6],\n",
       "  188: [1, 2, 3, 4, 5, 6],\n",
       "  191: [1, 2, 3, 4],\n",
       "  192: [5, 6],\n",
       "  193: [1, 2, 3, 4, 5, 6],\n",
       "  194: [4, 3, 2],\n",
       "  196: [3, 2, 1],\n",
       "  197: [],\n",
       "  198: [3, 2, 1, 0],\n",
       "  199: [3, 2, 1, 0],\n",
       "  200: [],\n",
       "  201: [],\n",
       "  202: [],\n",
       "  203: [3, 2, 1, 0],\n",
       "  204: [3, 2],\n",
       "  205: [3, 2, 1, 0],\n",
       "  207: [3, 2, 1, 0],\n",
       "  208: [3],\n",
       "  210: 0,\n",
       "  211: 5,\n",
       "  213: 5,\n",
       "  214: [0, 2, 4],\n",
       "  215: [5, 4, 3, 2, 1, 0],\n",
       "  225: 6,\n",
       "  226: 'pto',\n",
       "  227: (0, 6, 2),\n",
       "  238: (1, 1, 2, 3, 5, 8, 20365011074),\n",
       "  242: (1, 1, 2, 3, 5, 8, 20365011074),\n",
       "  243: (453973694165307953197296969697410619233826, 1),\n",
       "  246: (55, 55),\n",
       "  248: [1, 3, 5, 6, 8, 9, 10],\n",
       "  249: [1, 3, 5, 6, 8, 9, 10],\n",
       "  251: [1, 2, 3],\n",
       "  252: ['c', 'b', 'a'],\n",
       "  254: [3, 9, 10, 8, 5, 1, 6],\n",
       "  255: ['a', 'bird', 'is', 'late', 'parrot', 'this'],\n",
       "  257: ['a', 'is', 'this', 'late', 'bird', 'parrot'],\n",
       "  258: ['a', 'is', 'this', 'late', 'bird', 'parrot'],\n",
       "  261: ['aaaa', 'bbbb', 'cccc', 'dddd', 'eeee'],\n",
       "  263: ['bbbb', 'cccc', 'aaaa', 'eeee', 'dddd'],\n",
       "  264: ['bbbb', 'cccc', 'aaaa', 'eeee', 'dddd'],\n",
       "  266: ['parrot', 'this', 'bird', 'late', 'is', 'a'],\n",
       "  268: [1, 4, 9, 16, 25, 36, 49, 64, 81, 100],\n",
       "  270: [1, 4, 9, 16, 25, 36, 49, 64, 81, 100],\n",
       "  273: [4, 16, 36, 64, 100, 144, 196, 256, 324, 400],\n",
       "  275: [4, 16, 36, 64, 100, 144, 196, 256, 324, 400],\n",
       "  280: [[1, 2, 3, 4, 5, 6, 7, 8, 9, 10],\n",
       "   [2, 4, 6, 8, 10, 12, 14, 16, 18, 20],\n",
       "   [3, 6, 9, 12, 15, 18, 21, 24, 27, 30],\n",
       "   [4, 8, 12, 16, 20, 24, 28, 32, 36, 40],\n",
       "   [5, 10, 15, 20, 25, 30, 35, 40, 45, 50],\n",
       "   [6, 12, 18, 24, 30, 36, 42, 48, 54, 60],\n",
       "   [7, 14, 21, 28, 35, 42, 49, 56, 63, 70],\n",
       "   [8, 16, 24, 32, 40, 48, 56, 64, 72, 80],\n",
       "   [9, 18, 27, 36, 45, 54, 63, 72, 81, 90],\n",
       "   [10, 20, 30, 40, 50, 60, 70, 80, 90, 100]],\n",
       "  281: [1,\n",
       "   2,\n",
       "   3,\n",
       "   4,\n",
       "   5,\n",
       "   6,\n",
       "   7,\n",
       "   8,\n",
       "   9,\n",
       "   10,\n",
       "   2,\n",
       "   4,\n",
       "   6,\n",
       "   8,\n",
       "   10,\n",
       "   12,\n",
       "   14,\n",
       "   16,\n",
       "   18,\n",
       "   20,\n",
       "   3,\n",
       "   6,\n",
       "   9,\n",
       "   12,\n",
       "   15,\n",
       "   18,\n",
       "   21,\n",
       "   24,\n",
       "   27,\n",
       "   30,\n",
       "   4,\n",
       "   8,\n",
       "   12,\n",
       "   16,\n",
       "   20,\n",
       "   24,\n",
       "   28,\n",
       "   32,\n",
       "   36,\n",
       "   40,\n",
       "   5,\n",
       "   10,\n",
       "   15,\n",
       "   20,\n",
       "   25,\n",
       "   30,\n",
       "   35,\n",
       "   40,\n",
       "   45,\n",
       "   50,\n",
       "   6,\n",
       "   12,\n",
       "   18,\n",
       "   24,\n",
       "   30,\n",
       "   36,\n",
       "   42,\n",
       "   48,\n",
       "   54,\n",
       "   60,\n",
       "   7,\n",
       "   14,\n",
       "   21,\n",
       "   28,\n",
       "   35,\n",
       "   42,\n",
       "   49,\n",
       "   56,\n",
       "   63,\n",
       "   70,\n",
       "   8,\n",
       "   16,\n",
       "   24,\n",
       "   32,\n",
       "   40,\n",
       "   48,\n",
       "   56,\n",
       "   64,\n",
       "   72,\n",
       "   80,\n",
       "   9,\n",
       "   18,\n",
       "   27,\n",
       "   36,\n",
       "   45,\n",
       "   54,\n",
       "   63,\n",
       "   72,\n",
       "   81,\n",
       "   90,\n",
       "   10,\n",
       "   20,\n",
       "   30,\n",
       "   40,\n",
       "   50,\n",
       "   60,\n",
       "   70,\n",
       "   80,\n",
       "   90,\n",
       "   100],\n",
       "  282: [[1, 2, 3, 4, 5, 6, 7, 8, 9, 10],\n",
       "   [2, 4, 6, 8, 10, 12, 14, 16, 18, 20],\n",
       "   [3, 6, 9, 12, 15, 18, 21, 24, 27, 30],\n",
       "   [4, 8, 12, 16, 20, 24, 28, 32, 36, 40],\n",
       "   [5, 10, 15, 20, 25, 30, 35, 40, 45, 50],\n",
       "   [6, 12, 18, 24, 30, 36, 42, 48, 54, 60],\n",
       "   [7, 14, 21, 28, 35, 42, 49, 56, 63, 70],\n",
       "   [8, 16, 24, 32, 40, 48, 56, 64, 72, 80],\n",
       "   [9, 18, 27, 36, 45, 54, 63, 72, 81, 90],\n",
       "   [10, 20, 30, 40, 50, 60, 70, 80, 90, 100]],\n",
       "  284: [[1],\n",
       "   [1, 1],\n",
       "   [1, 2, 1],\n",
       "   [1, 3, 3, 1],\n",
       "   [1, 4, 6, 4, 1],\n",
       "   [1, 5, 10, 10, 5, 1],\n",
       "   [1, 6, 15, 20, 15, 6, 1],\n",
       "   [1, 7, 21, 35, 35, 21, 7, 1],\n",
       "   [1, 8, 28, 56, 70, 56, 28, 8, 1],\n",
       "   [1, 9, 36, 84, 126, 126, 84, 36, 9, 1],\n",
       "   [1, 10, 45, 120, 210, 252, 210, 120, 45, 10, 1]],\n",
       "  286: ['ax', 'bx', 'cx', 'ay', 'by', 'cy', 'az', 'bz', 'cz'],\n",
       "  288: [['ax', 'ay', 'az'], ['bx', 'by', 'bz'], ['cx', 'cy', 'cz']],\n",
       "  289: ['ax', 'bx', 'cx', 'ay', 'by', 'cy', 'az', 'bz', 'cz'],\n",
       "  291: <zip at 0x20b5d997e80>,\n",
       "  292: [(1, 10), (2, 20), (3, 30), (4, 40), (5, 50), (6, 60)],\n",
       "  297: 910},\n",
       " '_dh': ['i:\\\\TSAI\\\\2024\\\\EPAi\\\\S9'],\n",
       " 'In': ['',\n",
       "  'print(\"Hello\")',\n",
       "  't = (1, 2, 3)',\n",
       "  't[0]',\n",
       "  't[0] = 100',\n",
       "  't = ( [1, 2], 3, 4)',\n",
       "  't[0][0] = 100',\n",
       "  't',\n",
       "  \"t = (10, 'a', 1+3j)\",\n",
       "  \"s = {10, 'a', 1+3j}\",\n",
       "  'for c in t:\\n    print(c)',\n",
       "  'for c in s:\\n    print(c)',\n",
       "  'for c in s:\\n    print(c)',\n",
       "  \"'a' in ['a', 'b', 100]\",\n",
       "  '100 in range(200)',\n",
       "  \"s = {10, 'a', 1+3j}\\n10 in s\",\n",
       "  \"len('python'), len([1, 2, 3]), len({10, 20, 30}), len({'a': 1, 'b': 2})\",\n",
       "  'a = [100, 300, 200]\\nmin(a), max(a)',\n",
       "  \"s = 'python'\\nmin(s), max(s)\",\n",
       "  \"s = {'p', 'y', 't', 'h', 'o', 'n'}\\nmin(s), max(s)\",\n",
       "  'a = [1+1j, 2+2j, 3+3j]\\nmin(a)',\n",
       "  'from decimal import Decimal',\n",
       "  \"t = 10, 20.5, Decimal('30.5')\",\n",
       "  'min(t), max(t)',\n",
       "  \"t = ['a', 10, 1000]\\nmin(t)\",\n",
       "  'r = range(10, 200)\\nmin(r), max(r)',\n",
       "  '[1, 2, 3] + [4, 5, 6]',\n",
       "  '(1, 2, 3) + (4, 5, 6)',\n",
       "  '(1, 2, 3) + [4, 5, 6]',\n",
       "  \"'abc' + ['d', 'e', 'f']\",\n",
       "  '(1, 2, 3) + tuple([4, 5, 6])',\n",
       "  \"tuple('abc') + ('d', 'e', 'f')\",\n",
       "  \"''.join(tuple('abc') + ('d', 'e', 'f'))\",\n",
       "  \"'abc' * 5\",\n",
       "  '[1, 2, 3] * 5',\n",
       "  's = \"gnu\\'s not unix\"',\n",
       "  \"s.index('n')\",\n",
       "  \"s.index('n', 1), s.index('n', 2), s.index('n', 8)\",\n",
       "  \"s.index('n', 13)\",\n",
       "  \"try:\\n    idx = s.index('n', 13)\\nexcept ValueError:\\n    print('not found')\",\n",
       "  \"s = 'python'\\nl = [1, 2, 3, 4, 5, 6, 7, 8, 9, 10]\",\n",
       "  's[0:3], s[4:6]',\n",
       "  'l[0:3], l[4:6]',\n",
       "  's[4:1000]',\n",
       "  's[0:3], s[:3]',\n",
       "  's[3:1000], s[3:], s[:]',\n",
       "  's, s[0:5], s[0:5:2]',\n",
       "  's, s[::2]',\n",
       "  's, s[-3:-1], s[::-1]',\n",
       "  'r = range(11)  # numbers from 0 to 10 (inclusive)',\n",
       "  'print(r)\\nprint(list(r))',\n",
       "  'r = range(11000000000000000000000000000000000000000000000000000000000)',\n",
       "  'print(r[:5])',\n",
       "  'print(list(r[:5]))',\n",
       "  'l = (1, 2, 3)\\nhash(l)',\n",
       "  \"s = '123'\\nhash(s)\",\n",
       "  'r = range(10)\\nhash(r)',\n",
       "  'l = [1, 2, 3]',\n",
       "  'hash(l)',\n",
       "  't = (1, 2, [10, 20])\\nhash(t)',\n",
       "  \"t = ('python', (1, 2, 3))\\nhash(t)\",\n",
       "  'from decimal import Decimal\\nd = Decimal(10.5)\\nhash(d)',\n",
       "  's = {1, 2, 3}\\nhash(s)',\n",
       "  's = frozenset({1, 2, 3})',\n",
       "  'hash(s)',\n",
       "  'x = [2000]',\n",
       "  'id(x[0])',\n",
       "  'l = x + x',\n",
       "  'l',\n",
       "  'id(l[0]), id(l[1])',\n",
       "  'l[0] is l[1]',\n",
       "  'x = [ [0, 0] ]\\nl = x + x',\n",
       "  'l',\n",
       "  'l[0] is l[1]',\n",
       "  'l[0][0] = 100',\n",
       "  'x = [ [0, 0] ]\\nm = [e.copy() for e in x*3]',\n",
       "  'm',\n",
       "  \"l = [1, 2, 3, 4, 5]\\nprint(id(l))\\nl[0] = 'a'\\nprint(id(l), l)\",\n",
       "  'l = [1, 2, 3, 4, 5]\\nl.clear()\\nprint(l)',\n",
       "  'l = [1, 2, 3, 4, 5]\\nl = []\\nprint(l)',\n",
       "  'l = [1, 2, 3, 4, 5]\\nprint(id(l))\\nl.clear()\\nprint(l, id(l))',\n",
       "  'l = [1, 2, 3, 4, 5]\\nprint(id(l))\\nl = []\\nprint(l, id(l))',\n",
       "  \"suits = ['Spades', 'Hearts', 'Diamonds', 'Clubs']\\nalias = suits\\nsuits = []\\nprint(suits, alias)\",\n",
       "  \"suits = ['Spades', 'Hearts', 'Diamonds', 'Clubs']\\nalias = suits\\nsuits.clear()\\nprint(suits, alias)\",\n",
       "  \"l = [1, 2, 3, 4, 5]\\nprint(id(l))\\nl[0:2] = ['a', 'b', 'c', 'd', 'e']\\nprint(id(l), l)\",\n",
       "  'l = [1, 2, 3]\\nprint(id(l))\\nl.append(4)\\nprint(l, id(l))',\n",
       "  'l = [1, 2, 3]\\nprint(id(l))\\nl = l + [4]\\nprint(id(l), l)',\n",
       "  \"l = [1, 2, 3, 4, 5]\\nprint(id(l))\\nl.extend({'a', 'b', 'c'})\\nprint(id(l), l)\",\n",
       "  \"l = [1, 2, 3]\\nl.extend(('a', 'b', 'c'))\\nprint(l)\",\n",
       "  'l = [1, 2, 3, 4]\\nprint(id(l))\\npopped = l.pop(1)\\nprint(id(l), popped, l)',\n",
       "  'l = [1, 2, 3, 4]\\npopped = l.pop()\\nprint(popped)\\nprint(id(l), popped, l)',\n",
       "  \"l = [1, 2, 3, 4]\\nprint(id(l))\\nl.insert(1, 'a')\\nprint(id(l), l)\",\n",
       "  'l = [1, 2, 3, 4]\\nprint(id(l))\\nl.reverse()\\nprint(id(l), l)',\n",
       "  'l = [1, 2, 3, 4]\\nl[::-1]',\n",
       "  'l = [1, 2, 3, 4]\\nprint(id(l))\\nl = l[::-1]\\nprint(id(l), l)',\n",
       "  'l = [1, 2, 3, 4]\\nprint(id(l))\\nl2 = l.copy()\\nprint(id(l2), l2)',\n",
       "  'l = [1, 2, 3, 4]\\nprint(id(l))\\nl2 = l[:]\\nprint(id(l2), l2)',\n",
       "  'from dis import dis',\n",
       "  '(1, 2, 3)\\n[1, 2, 3]',\n",
       "  'dis(compile(\\'(1,2,3, \"a\")\\', \\'string\\', \\'eval\\'))',\n",
       "  'dis(compile(\\'[1,2,3, \"a\"]\\', \\'string\\', \\'eval\\'))',\n",
       "  'dis(compile(\\'[1,2,3, \"a\", 1+4j]\\', \\'string\\', \\'eval\\'))',\n",
       "  'dis(compile(\\'[1,2,3, \"a\", 1+4j, 1, 2, 3, 4, 5, 6, 7, 8, 9]\\', \\'string\\', \\'eval\\'))',\n",
       "  'from timeit import timeit\\ntimeit(\"(1,2,3,4,5,6,7,8,9)\", number=10_000_000)',\n",
       "  'timeit(\"[1,2,3,4,5,6,7,8,9]\", number=10_000_000)',\n",
       "  'dis(compile(\\'[1,2,3, \"a\", 1+4j, 1, 2, 3, 4, 5, 6, 7, 8, 9]\\', \\'string\\'))',\n",
       "  'dis(compile(\\'[1,2,3, \"a\", 1+4j, 1, 2, 3, 4, 5, 6, 7, 8, 9]\\', \\'string\\', \\'exec\\'))',\n",
       "  'def fn1():\\n    pass',\n",
       "  \"dis(compile('(fn1, 10, 20)', 'string', 'eval'))\",\n",
       "  \"dis(compile('[fn1, 10, 20]', 'string', 'eval'))\",\n",
       "  'dis(compile(\\'[fn, 1,2,3, \"a\"]\\', \\'string\\', \\'eval\\'))',\n",
       "  'dis(compile(\\'(1,2,3, \"a\")\\', \\'string\\', \\'eval\\'))',\n",
       "  \"dis(compile('(fn1, 10, 20)', 'string', 'eval'))\",\n",
       "  \"dis(compile('([1,2], 10, 20)', 'string', 'eval'))\",\n",
       "  \"dis(compile('[[1,2], 10, 20]', 'string', 'eval'))\",\n",
       "  'timeit(\"([1, 2], 10, 20)\", number=1_000_000)',\n",
       "  'timeit(\"[[1, 2], 10, 20]\", number=1_000_000)',\n",
       "  'l1 = [1, 2, 3, 4, 5, 6, 7, 8, 9]\\nt1 = (1, 2, 3, 4, 5, 6, 7, 8, 9)',\n",
       "  'id(l1), id(t1)',\n",
       "  'l2 = list(l1)\\nt2 = tuple(t1)',\n",
       "  \"timeit('tuple((1,2,3,4,5,6,7,8,9))', number=1_000_000)\",\n",
       "  \"timeit('list([1,2,3,4,5,6,7,8,9])', number=1_000_000)\",\n",
       "  'id(l1), id(l2), id(t1), id(t2)',\n",
       "  'l1 is l2, t1 is t2',\n",
       "  'import sys',\n",
       "  \"prev = 0\\nfor i in range(10):\\n    c = tuple(range(i+1))\\n    size_c = sys.getsizeof(c)\\n    delta, prev = size_c - prev, size_c\\n    print(f'{i+1} items: {size_c}, delta={delta}')\",\n",
       "  \"prev = 0\\nfor i in range(10):\\n    c = list(range(i+1))\\n    size_c = sys.getsizeof(c)\\n    delta, prev = size_c - prev, size_c\\n    print(f'{i+1} items: {size_c}, delta={delta}')\",\n",
       "  \"prev = 0\\nfor i in range(100):\\n    c = list(range(i+1))\\n    size_c = sys.getsizeof(c)\\n    delta, prev = size_c - prev, size_c\\n    print(f'{i+1} items: {size_c}, delta={delta}')\",\n",
       "  \"prev = 0\\nfor i in range(555):\\n    c = list(range(i+1))\\n    size_c = sys.getsizeof(c)\\n    delta, prev = size_c - prev, size_c\\n    print(f'{i+1} items: {size_c}, delta={delta}')\",\n",
       "  \"prev = 0\\n\\nfor i in range(10):\\n    c = list(range(i+1))\\n    size_c = sys.getsizeof(c)\\n    delta, prev = size_c - prev, size_c\\n    print(f'{i+1} items: {size_c}, delta={delta}')\",\n",
       "  \"c = []\\nprev = sys.getsizeof(c)\\nprint(f'0 items: {sys.getsizeof(c)}')\\nfor i in range(255):\\n    c.append(i)\\n    size_c = sys.getsizeof(c)\\n    delta, prev = size_c - prev, size_c\\n    print(f'{i+1} items: {size_c}, delta={delta}')\",\n",
       "  't = tuple(range(100_000))\\nl = list(t)',\n",
       "  \"timeit('t[99_999]', globals=globals(), number=10_000_000)\",\n",
       "  \"timeit('l[99_999]', globals=globals(), number=10_000_000)\",\n",
       "  'l1 = [1, 2, 3]\\n\\nl1_copy = []\\nfor item in l1:\\n    l1_copy.append(item)\\n\\nprint(l1_copy)',\n",
       "  'l1 is l1_copy',\n",
       "  'l1 = [1, 2, 3]\\nl1_copy = [item for item in l1]\\nprint(l1_copy)',\n",
       "  'l1 is l1_copy',\n",
       "  'l1 = [1, 2, 3]\\nl1_copy = l1.copy()\\nprint(l1_copy)',\n",
       "  'l1 is l1_copy',\n",
       "  'l1 = [1, 2, 3]',\n",
       "  'l1_copy = list(l1)\\nprint(l1_copy)',\n",
       "  'l1 is l1_copy',\n",
       "  't1 = (1, 2, 3)\\nt1_copy = list(t1)\\nprint(t1_copy)',\n",
       "  't1 = (1, 2, 3)\\nt1_copy = tuple(t1)\\nprint(t1_copy)',\n",
       "  't1 is t1_copy',\n",
       "  'l1 = [1, 2, 3]\\nl1_copy = l1[:]\\nprint(l1_copy)\\nprint(l1 is l1_copy)',\n",
       "  't1 = (1, 2, 3)\\nt1_copy = t1[:]\\nprint(t1_copy)\\nprint(t1 is t1_copy)',\n",
       "  \"s1 = 'python'\\ns2 = str(s1)\\nprint(s2)\\nprint(s1 is s2)\",\n",
       "  \"s1 = 'python'\\ns2 = s1[:]\\nprint(s2)\\nprint(s1 is s2)\",\n",
       "  'import copy',\n",
       "  'l1 = [1, 2, 3]\\nl1_copy = copy.copy(l1)\\nprint(l1_copy)\\nprint(l1 is l1_copy)',\n",
       "  't1 = (1, 2, 3)\\nt1_copy = copy.copy(t1)\\nprint(t1_copy)\\nprint(t1 is t1_copy)',\n",
       "  'v1 = [0, 0]\\nv2 = [0, 0]\\n\\nline1 = [v1, v2]',\n",
       "  'print(line1)\\nprint(id(line1[0]), id(line1[1]))',\n",
       "  'line2 = line1.copy()',\n",
       "  'line1 is line2',\n",
       "  'print(id(line1[0]), id(line1[1]))\\nprint(id(line2[0]), id(line2[1]))',\n",
       "  'line2[0][0] = 100',\n",
       "  'line2',\n",
       "  'line1',\n",
       "  'v1 = [0, 0]\\nv2 = [0, 0]\\n\\nline1 = [v1, v2]',\n",
       "  'line2 = [item[:] for item in line1]',\n",
       "  'print(id(line1[0]), id(line1[1]))\\nprint(id(line2[0]), id(line2[1]))',\n",
       "  'line1[0][0] = 100\\nprint(line1)\\nprint(line2)',\n",
       "  'v1 = [0, 0]\\nv2 = [0, 0]\\nline1 = [v1, v2]',\n",
       "  'line2 = copy.deepcopy(line1)\\nprint(id(line1[0]), id(line1[1]))\\nprint(id(line2[0]), id(line2[1]))',\n",
       "  'line2[0][0] = 100',\n",
       "  'print(line1)\\nprint(line2)',\n",
       "  'v1 = [11, 12]\\nv2 = [21, 22]\\nline1 = [v1, v2]\\n\\nv3 = [31, 32]\\nv4 = [41, 42]\\nline2 = [v3, v4]\\n\\nplane1 = [line1, line2]\\nprint(plane1)',\n",
       "  'plane2 = copy.deepcopy(plane1)',\n",
       "  'print(plane2)',\n",
       "  'print(plane1[0], id(plane1[0]))\\nprint(plane2[0], id(plane2[0]))',\n",
       "  'print(plane1[0][0], id(plane1[0][0]))\\nprint(plane2[0][0], id(plane2[0][0]))',\n",
       "  \"class Point:\\n    def __init__(self, x, y):\\n        self.x = x\\n        self.y = y\\n    \\n    def __repr__(self):\\n        return f'Point({self.x}, {self.y})'\\n    \\nclass Line:\\n    def __init__(self, p1, p2):\\n        self.p1 = p1\\n        self.p2 = p2\\n        \\n    def __repr__(self):\\n        return f'Line({self.p1.__repr__()}, {self.p2.__repr__()})'\",\n",
       "  'p1 = Point(0, 0)\\np2 = Point(10, 10)\\nline1 = Line(p1, p2)\\nline2 = copy.deepcopy(line1)\\n\\nprint(line1.p1, id(line1.p1))\\nprint(line2.p1, id(line2.p1))',\n",
       "  's = slice(0, 2)',\n",
       "  'type(s)',\n",
       "  's.start',\n",
       "  's.stop',\n",
       "  'l = [1, 2, 3, 4, 5]\\nl[s]',\n",
       "  'data = []  # a collection of rows, read from a file maybe\\nfor row in data:\\n    first_name = row[0:51]\\n    last_name = row[51:101]\\n    ssn = row[101:111]\\n    # etc',\n",
       "  'range_first_name = slice(0, 51)\\nrange_last_name = slice(51, 101)\\nrange_ssn = slice(101, 111)',\n",
       "  'for row in data:\\n    first_name = row[range_first_name]\\n    last_name = row[range_last_name]\\n    ssn = row[range_ssn]',\n",
       "  \"l = 'python'\\nl[0:1], l[0:6]\",\n",
       "  \"l = 'python'\\nl[0:6:2], l[0:6:3]\",\n",
       "  's1 = slice(0, 6, 2)\\ns2 = slice(0, 6, 3)\\nl[s1], l[s2]',\n",
       "  'l = [1, 2, 3, 4, 5, 6]\\nl[0:100]',\n",
       "  'l[-10:100]',\n",
       "  'l = [1, 2, 3, 4, 5, 6]\\nl[100]',\n",
       "  'l = [1, 2, 3, 4, 5, 6]',\n",
       "  'l[:4]',\n",
       "  'l[4:]',\n",
       "  'l[:]',\n",
       "  'l[3:0:-1]',\n",
       "  'l = [0, 1, 2, 3, 4, 5]',\n",
       "  'l[3:0:-1]',\n",
       "  'l[3:-1:-1]',\n",
       "  'l[3::-1]',\n",
       "  'l[3:-100:-1]',\n",
       "  'l[3:-1:-1]',\n",
       "  'l[3:-2:-1]',\n",
       "  'l[3:-3:-1]',\n",
       "  'l[3:-9:-1]',\n",
       "  'l[3:-5:-1]',\n",
       "  'l[3:-8:-1]',\n",
       "  'l = [0, 1, 2, 3, 4, 5]l[3:-8:-1]',\n",
       "  'l = [0, 1, 2, 3, 4, 5]\\nl[3:-8:-1]',\n",
       "  'l = [0, 1, 2, 3, 4, 5]\\nl[3:-4:-1]',\n",
       "  'my_list = [0, 1, 2, 3, 4, 5]',\n",
       "  'my_list.__getitem__(0)',\n",
       "  'my_list.__getitem__(5)',\n",
       "  'my_list.__getitem__(6)',\n",
       "  'my_list.__getitem__(-1)',\n",
       "  'my_list.__getitem__(slice(0,6,2))',\n",
       "  'my_list.__getitem__(slice(None, None, -1))',\n",
       "  'my_list = [0, 1, 2, 3, 4, 5]',\n",
       "  'for item in my_list:\\n    print(item ** 2)',\n",
       "  'index = 0\\nwhile True:\\n    try:\\n        item = my_list.__getitem__(index)\\n    except IndexError:\\n        # reached the end of the sequence\\n        break\\n    # do something with the item...\\n    print(item ** 2)\\n    index += 1',\n",
       "  'class MySequence:\\n    def __getitem__(self, index):\\n        print(type(index), index)',\n",
       "  'my_seq = MySequence()',\n",
       "  'my_seq[0]',\n",
       "  'my_seq[100]',\n",
       "  'my_seq[0:2]',\n",
       "  'my_seq[0:10:2]',\n",
       "  \"l = 'python'\\nlen(l)\",\n",
       "  's = slice(0, 6, 2)\\nl[s]',\n",
       "  's.start, s.stop, s.step',\n",
       "  'class Fib:\\n    def __getitem__(self, s):\\n        print(type(s), s)',\n",
       "  'f = Fib()\\nf[2]\\nf[2:10:2]',\n",
       "  \"class Fib:\\n    def __init__(self, n):\\n        self._n = n\\n    \\n    def __getitem__(self, s):\\n        if isinstance(s, int):\\n            # single item requested\\n            print(f'requesting [{s}]')\\n        else:\\n            # slice being requested\\n            print(f'requesting [{s.start}:{s.stop}:{s.step}]')\",\n",
       "  'f = Fib(10)',\n",
       "  'f[3]',\n",
       "  'f[:5]',\n",
       "  \"class Fib:\\n    def __init__(self, n):\\n        self._n = n\\n    \\n    def __getitem__(self, s):\\n        if isinstance(s, int):\\n            # single item requested\\n            print(f'requesting [{s}]')\\n        else:\\n            # slice being requested\\n            print(f'requesting [{s.start}:{s.stop}:{s.step}]')\\n            idx = s.indices(self._n)\\n            rng = range(*idx)\\n            print(f'\\\\trange({idx[0]}, {idx[1]}, {idx[2]}) --> {list(rng)}')\",\n",
       "  'f = Fib(10)\\nf[3:5]\\nf[::-1]',\n",
       "  'from functools import lru_cache',\n",
       "  '@lru_cache(2**10)\\ndef fib(n):\\n    if n < 2:\\n        return 1\\n    else:\\n        return fib(n-1) + fib(n-2)',\n",
       "  'fib(0), fib(1), fib(2), fib(3), fib(4), fib(5), fib(50)',\n",
       "  \"class Fib:\\n    def __init__(self, n):\\n        self._n = n\\n    \\n    def __getitem__(self, s):\\n        if isinstance(s, int):\\n            # single item requested\\n            print(f'requesting [{s}]')\\n        else:\\n            # slice being requested\\n            print(f'requesting [{s.start}:{s.stop}:{s.step}]')\\n            idx = s.indices(self._n)\\n            rng = range(idx[0], idx[1], idx[2])\\n            print(f'\\\\trange({idx[0]}, {idx[1]}, {idx[2]}) --> {list(rng)}')\\n    \\n    @staticmethod\\n    @lru_cache(2**32)\\n    def _fib(n):\\n        if n < 2:\\n            return 1\\n        else:\\n            return fib(n-1) + fib(n-2)\",\n",
       "  \"class Fib:\\n    def __init__(self, n):\\n        self._n = n\\n    \\n    def __getitem__(self, s):\\n        if isinstance(s, int):\\n            # single item requested\\n            return self._fib(s)\\n        else:\\n            # slice being requested\\n            print(f'requesting [{s.start}:{s.stop}:{s.step}]')\\n            idx = s.indices(self._n)\\n            rng = range(idx[0], idx[1], idx[2])\\n            print(f'\\\\trange({idx[0]}, {idx[1]}, {idx[2]}) --> {list(rng)}')\\n            \\n    @staticmethod\\n    @lru_cache(2**32)\\n    def _fib(n):\\n        if n < 2:\\n            return 1\\n        else:\\n            return fib(n-1) + fib(n-2)\",\n",
       "  'f = Fib(100)',\n",
       "  'f[0], f[1], f[2], f[3], f[4], f[5], f[50]',\n",
       "  'f[200], f[-5]',\n",
       "  \"class Fib:\\n    def __init__(self, n):\\n        self._n = n\\n    \\n    def __getitem__(self, s):\\n        if isinstance(s, int):\\n            # single item requested\\n            if s < 0:\\n                s = self._n + s\\n            if s < 0 or s > self._n - 1:\\n                raise IndexError\\n            return self._fib(s)\\n        else:\\n            # slice being requested\\n            print(f'requesting [{s.start}:{s.stop}:{s.step}]')\\n            idx = s.indices(self._n)\\n            rng = range(idx[0], idx[1], idx[2])\\n            print(f'\\\\trange({idx[0]}, {idx[1]}, {idx[2]}) --> {list(rng)}')\\n            \\n    @staticmethod\\n    @lru_cache(2**32)\\n    def _fib(n):\\n        if n < 2:\\n            return 1\\n        else:\\n            return fib(n-1) + fib(n-2)\",\n",
       "  'f = Fib(10)',\n",
       "  'f[9], f[-1]',\n",
       "  'f[10]',\n",
       "  't = 10, 3, 5, 8, 9, 6, 1\\nsorted(t)',\n",
       "  's = {10, 3, 5, 8, 9, 6, 1}\\nsorted(s)',\n",
       "  'd = {3: 100, 2: 200, 1: 10}\\nfor item in d:\\n    print(item)',\n",
       "  'd = {3: 100, 2: 200, 1: 10}\\nsorted(d)',\n",
       "  \"d = {'a': 100, 'b': 50, 'c': 10}\\nsorted(d, key=lambda k: d[k])\",\n",
       "  'import math\\n\\nt = 10, 3, 5, 8, 9, 6, 1\\nsorted(t, key=math.cos(t))',\n",
       "  'import math\\n\\nt = 10, 3, 5, 8, 9, 6, 1\\nsorted(t, key=lambda k: math.cos(k))',\n",
       "  \"t = 'this', 'parrot', 'is', 'a', 'late', 'bird'\\nsorted(t)\",\n",
       "  'def sort_key(s):\\n    return len(s)',\n",
       "  'sorted(t, key=sort_key)',\n",
       "  'sorted(t, key=lambda s: len(s))',\n",
       "  'import this',\n",
       "  \"t = 'aaaa', 'bbbb', 'cccc', 'dddd', 'eeee'\",\n",
       "  'sorted(t, key = lambda s: len(s))',\n",
       "  \"t = 'bbbb', 'cccc', 'aaaa', 'eeee', 'dddd'\",\n",
       "  'sorted(t, key = lambda s: len(s))',\n",
       "  'sorted(t, key=lambda s: len(s), reverse=True)',\n",
       "  \"t = 'this', 'bird', 'is', 'a', 'late', 'parrot'\",\n",
       "  'sorted(t, key=lambda s: len(s), reverse=True)',\n",
       "  'squares = []  # create an empty list\\nfor i in range(1, 101):\\n    squares.append(i**2)',\n",
       "  'squares[0:10]',\n",
       "  'squares = [i**2 for i in range(1, 101)]',\n",
       "  'squares[0:10]',\n",
       "  'squares = []\\nfor i in range(1, 101):\\n    if i % 2 == 0:\\n        squares.append(i**2)',\n",
       "  'squares = [i**2 for i in range(1, 101) if i % 2 == 0]',\n",
       "  'squares[0:10]',\n",
       "  'squares = [i**2\\n          for i in range(1, 101)\\n          if i % 2 == 0]',\n",
       "  'squares[0:10]',\n",
       "  'import dis',\n",
       "  \"compiled_code = compile('[i**2 for i in (1, 2, 3)]', \\n                        filename='', mode='eval')\",\n",
       "  'dis.dis(compiled_code)',\n",
       "  'table = []\\nfor i in range(1, 11):\\n    row = []\\n    for j in range(1, 11):\\n        row.append(i*j)\\n    table.append(row)',\n",
       "  'table',\n",
       "  'table = []\\nfor i in range(1, 11):\\n    row = []\\n    for j in range(1, 11):\\n        row.append(i*j)\\n    table.append(row)\\n\\ntable2 = [i*j for j in range(1, 11) for i in range(1, 11)]\\ntable2',\n",
       "  'table = []\\nfor i in range(1, 11):\\n    row = []\\n    for j in range(1, 11):\\n        row.append(i*j)\\n    table.append(row)\\n\\ntable2 = [[i*j for j in range(1, 11)] for i in range(1, 11)]\\ntable2',\n",
       "  'from math import factorial\\n\\ndef combo(n, k):\\n    return factorial(n) // (factorial(k) * factorial(n-k))\\n\\nsize = 10  # global variable\\npascal = [ [combo(n, k) for k in range(n+1)] for n in range(size+1) ]',\n",
       "  'pascal',\n",
       "  \"l1 = ['a', 'b', 'c']\\nl2 = ['x', 'y', 'z']\\nresult = []\\nfor s1 in l1:\\n    for s2 in l2:\\n        result.append(s1+s2)\",\n",
       "  'result = [s1+s2 for s2 in l2 for s1 in l1]\\nresult',\n",
       "  'v1 = (1, 2, 3, 4, 5, 6)\\nv2 = (10, 20, 30, 40, 50, 60)',\n",
       "  'result = [[s1+s2 for s2 in l2] for s1 in l1]\\nresult',\n",
       "  'result = [s1+s2 for s2 in l2 for s1 in l1]\\nresult',\n",
       "  'dot = 0\\nfor i in range(len(v1)):\\n    dot += (v1[i] * v2[i])\\nprint(dot)',\n",
       "  'zip(v1, v2)',\n",
       "  'list(zip(v1, v2))',\n",
       "  'dot = sum([i * j for i, j in zip(v1, v2)])\\nprint(dot)',\n",
       "  'dot = sum(i * j for i, j in zip(v1, v2))\\nprint(dot)',\n",
       "  'dot = i * j for i, j in zip(v1, v2)\\nprint(dot)',\n",
       "  'dot = (i * j for i, j in zip(v1, v2))\\nprint(dot)',\n",
       "  'sum(dot)',\n",
       "  'globals()'],\n",
       " 'Out': {3: 1,\n",
       "  7: ([100, 2], 3, 4),\n",
       "  13: True,\n",
       "  14: True,\n",
       "  15: True,\n",
       "  16: (6, 3, 3, 2),\n",
       "  17: (100, 300),\n",
       "  18: ('h', 'y'),\n",
       "  19: ('h', 'y'),\n",
       "  23: (10, Decimal('30.5')),\n",
       "  25: (10, 199),\n",
       "  26: [1, 2, 3, 4, 5, 6],\n",
       "  27: (1, 2, 3, 4, 5, 6),\n",
       "  30: (1, 2, 3, 4, 5, 6),\n",
       "  31: ('a', 'b', 'c', 'd', 'e', 'f'),\n",
       "  32: 'abcdef',\n",
       "  33: 'abcabcabcabcabc',\n",
       "  34: [1, 2, 3, 1, 2, 3, 1, 2, 3, 1, 2, 3, 1, 2, 3],\n",
       "  36: 1,\n",
       "  37: (1, 6, 11),\n",
       "  41: ('pyt', 'on'),\n",
       "  42: ([1, 2, 3], [5, 6]),\n",
       "  43: 'on',\n",
       "  44: ('pyt', 'pyt'),\n",
       "  45: ('hon', 'hon', 'python'),\n",
       "  46: ('python', 'pytho', 'pto'),\n",
       "  47: ('python', 'pto'),\n",
       "  48: ('python', 'ho', 'nohtyp'),\n",
       "  54: 529344067295497451,\n",
       "  55: -66116863465720503,\n",
       "  56: -7546101314042312252,\n",
       "  60: 7709632707160182844,\n",
       "  61: 1152921504606846986,\n",
       "  64: -272375401224217160,\n",
       "  66: 2247838055792,\n",
       "  68: [2000, 2000],\n",
       "  69: (2247838055792, 2247838055792),\n",
       "  70: True,\n",
       "  72: [[100, 0], [100, 0]],\n",
       "  73: True,\n",
       "  76: [[0, 0], [0, 0], [0, 0]],\n",
       "  93: [4, 3, 2, 1],\n",
       "  98: [1, 2, 3],\n",
       "  103: 0.1637258999999176,\n",
       "  104: 0.8841903000002276,\n",
       "  115: 0.10785810000015772,\n",
       "  116: 0.16683150000062597,\n",
       "  118: (2247838071488, 2247838205888),\n",
       "  120: 0.06690450000041892,\n",
       "  121: 0.2293269000001601,\n",
       "  122: (2247838071488, 2247838276224, 2247838205888, 2247838205888),\n",
       "  123: (False, True),\n",
       "  132: 0.8245966000004046,\n",
       "  133: 0.8044734999994034,\n",
       "  135: False,\n",
       "  137: False,\n",
       "  139: False,\n",
       "  142: False,\n",
       "  145: True,\n",
       "  156: False,\n",
       "  159: [[100, 0], [0, 0]],\n",
       "  160: [[100, 0], [0, 0]],\n",
       "  177: slice,\n",
       "  178: 0,\n",
       "  179: 2,\n",
       "  180: [1, 2],\n",
       "  184: ('p', 'python'),\n",
       "  185: ('pto', 'ph'),\n",
       "  186: ('pto', 'ph'),\n",
       "  187: [1, 2, 3, 4, 5, 6],\n",
       "  188: [1, 2, 3, 4, 5, 6],\n",
       "  191: [1, 2, 3, 4],\n",
       "  192: [5, 6],\n",
       "  193: [1, 2, 3, 4, 5, 6],\n",
       "  194: [4, 3, 2],\n",
       "  196: [3, 2, 1],\n",
       "  197: [],\n",
       "  198: [3, 2, 1, 0],\n",
       "  199: [3, 2, 1, 0],\n",
       "  200: [],\n",
       "  201: [],\n",
       "  202: [],\n",
       "  203: [3, 2, 1, 0],\n",
       "  204: [3, 2],\n",
       "  205: [3, 2, 1, 0],\n",
       "  207: [3, 2, 1, 0],\n",
       "  208: [3],\n",
       "  210: 0,\n",
       "  211: 5,\n",
       "  213: 5,\n",
       "  214: [0, 2, 4],\n",
       "  215: [5, 4, 3, 2, 1, 0],\n",
       "  225: 6,\n",
       "  226: 'pto',\n",
       "  227: (0, 6, 2),\n",
       "  238: (1, 1, 2, 3, 5, 8, 20365011074),\n",
       "  242: (1, 1, 2, 3, 5, 8, 20365011074),\n",
       "  243: (453973694165307953197296969697410619233826, 1),\n",
       "  246: (55, 55),\n",
       "  248: [1, 3, 5, 6, 8, 9, 10],\n",
       "  249: [1, 3, 5, 6, 8, 9, 10],\n",
       "  251: [1, 2, 3],\n",
       "  252: ['c', 'b', 'a'],\n",
       "  254: [3, 9, 10, 8, 5, 1, 6],\n",
       "  255: ['a', 'bird', 'is', 'late', 'parrot', 'this'],\n",
       "  257: ['a', 'is', 'this', 'late', 'bird', 'parrot'],\n",
       "  258: ['a', 'is', 'this', 'late', 'bird', 'parrot'],\n",
       "  261: ['aaaa', 'bbbb', 'cccc', 'dddd', 'eeee'],\n",
       "  263: ['bbbb', 'cccc', 'aaaa', 'eeee', 'dddd'],\n",
       "  264: ['bbbb', 'cccc', 'aaaa', 'eeee', 'dddd'],\n",
       "  266: ['parrot', 'this', 'bird', 'late', 'is', 'a'],\n",
       "  268: [1, 4, 9, 16, 25, 36, 49, 64, 81, 100],\n",
       "  270: [1, 4, 9, 16, 25, 36, 49, 64, 81, 100],\n",
       "  273: [4, 16, 36, 64, 100, 144, 196, 256, 324, 400],\n",
       "  275: [4, 16, 36, 64, 100, 144, 196, 256, 324, 400],\n",
       "  280: [[1, 2, 3, 4, 5, 6, 7, 8, 9, 10],\n",
       "   [2, 4, 6, 8, 10, 12, 14, 16, 18, 20],\n",
       "   [3, 6, 9, 12, 15, 18, 21, 24, 27, 30],\n",
       "   [4, 8, 12, 16, 20, 24, 28, 32, 36, 40],\n",
       "   [5, 10, 15, 20, 25, 30, 35, 40, 45, 50],\n",
       "   [6, 12, 18, 24, 30, 36, 42, 48, 54, 60],\n",
       "   [7, 14, 21, 28, 35, 42, 49, 56, 63, 70],\n",
       "   [8, 16, 24, 32, 40, 48, 56, 64, 72, 80],\n",
       "   [9, 18, 27, 36, 45, 54, 63, 72, 81, 90],\n",
       "   [10, 20, 30, 40, 50, 60, 70, 80, 90, 100]],\n",
       "  281: [1,\n",
       "   2,\n",
       "   3,\n",
       "   4,\n",
       "   5,\n",
       "   6,\n",
       "   7,\n",
       "   8,\n",
       "   9,\n",
       "   10,\n",
       "   2,\n",
       "   4,\n",
       "   6,\n",
       "   8,\n",
       "   10,\n",
       "   12,\n",
       "   14,\n",
       "   16,\n",
       "   18,\n",
       "   20,\n",
       "   3,\n",
       "   6,\n",
       "   9,\n",
       "   12,\n",
       "   15,\n",
       "   18,\n",
       "   21,\n",
       "   24,\n",
       "   27,\n",
       "   30,\n",
       "   4,\n",
       "   8,\n",
       "   12,\n",
       "   16,\n",
       "   20,\n",
       "   24,\n",
       "   28,\n",
       "   32,\n",
       "   36,\n",
       "   40,\n",
       "   5,\n",
       "   10,\n",
       "   15,\n",
       "   20,\n",
       "   25,\n",
       "   30,\n",
       "   35,\n",
       "   40,\n",
       "   45,\n",
       "   50,\n",
       "   6,\n",
       "   12,\n",
       "   18,\n",
       "   24,\n",
       "   30,\n",
       "   36,\n",
       "   42,\n",
       "   48,\n",
       "   54,\n",
       "   60,\n",
       "   7,\n",
       "   14,\n",
       "   21,\n",
       "   28,\n",
       "   35,\n",
       "   42,\n",
       "   49,\n",
       "   56,\n",
       "   63,\n",
       "   70,\n",
       "   8,\n",
       "   16,\n",
       "   24,\n",
       "   32,\n",
       "   40,\n",
       "   48,\n",
       "   56,\n",
       "   64,\n",
       "   72,\n",
       "   80,\n",
       "   9,\n",
       "   18,\n",
       "   27,\n",
       "   36,\n",
       "   45,\n",
       "   54,\n",
       "   63,\n",
       "   72,\n",
       "   81,\n",
       "   90,\n",
       "   10,\n",
       "   20,\n",
       "   30,\n",
       "   40,\n",
       "   50,\n",
       "   60,\n",
       "   70,\n",
       "   80,\n",
       "   90,\n",
       "   100],\n",
       "  282: [[1, 2, 3, 4, 5, 6, 7, 8, 9, 10],\n",
       "   [2, 4, 6, 8, 10, 12, 14, 16, 18, 20],\n",
       "   [3, 6, 9, 12, 15, 18, 21, 24, 27, 30],\n",
       "   [4, 8, 12, 16, 20, 24, 28, 32, 36, 40],\n",
       "   [5, 10, 15, 20, 25, 30, 35, 40, 45, 50],\n",
       "   [6, 12, 18, 24, 30, 36, 42, 48, 54, 60],\n",
       "   [7, 14, 21, 28, 35, 42, 49, 56, 63, 70],\n",
       "   [8, 16, 24, 32, 40, 48, 56, 64, 72, 80],\n",
       "   [9, 18, 27, 36, 45, 54, 63, 72, 81, 90],\n",
       "   [10, 20, 30, 40, 50, 60, 70, 80, 90, 100]],\n",
       "  284: [[1],\n",
       "   [1, 1],\n",
       "   [1, 2, 1],\n",
       "   [1, 3, 3, 1],\n",
       "   [1, 4, 6, 4, 1],\n",
       "   [1, 5, 10, 10, 5, 1],\n",
       "   [1, 6, 15, 20, 15, 6, 1],\n",
       "   [1, 7, 21, 35, 35, 21, 7, 1],\n",
       "   [1, 8, 28, 56, 70, 56, 28, 8, 1],\n",
       "   [1, 9, 36, 84, 126, 126, 84, 36, 9, 1],\n",
       "   [1, 10, 45, 120, 210, 252, 210, 120, 45, 10, 1]],\n",
       "  286: ['ax', 'bx', 'cx', 'ay', 'by', 'cy', 'az', 'bz', 'cz'],\n",
       "  288: [['ax', 'ay', 'az'], ['bx', 'by', 'bz'], ['cx', 'cy', 'cz']],\n",
       "  289: ['ax', 'bx', 'cx', 'ay', 'by', 'cy', 'az', 'bz', 'cz'],\n",
       "  291: <zip at 0x20b5d997e80>,\n",
       "  292: [(1, 10), (2, 20), (3, 30), (4, 40), (5, 50), (6, 60)],\n",
       "  297: 910},\n",
       " 'get_ipython': <bound method InteractiveShell.get_ipython of <ipykernel.zmqshell.ZMQInteractiveShell object at 0x0000020B5B726520>>,\n",
       " 'exit': <IPython.core.autocall.ZMQExitAutocall at 0x20b5b8054c0>,\n",
       " 'quit': <IPython.core.autocall.ZMQExitAutocall at 0x20b5b8054c0>,\n",
       " '_': 910,\n",
       " '__': [(1, 10), (2, 20), (3, 30), (4, 40), (5, 50), (6, 60)],\n",
       " '___': <zip at 0x20b5d997e80>,\n",
       " '__vsc_ipynb_file__': 'i:\\\\TSAI\\\\2024\\\\EPAi\\\\S9\\\\S9 Notes.ipynb',\n",
       " '_i': 'sum(dot)',\n",
       " '_ii': 'dot = (i * j for i, j in zip(v1, v2))\\nprint(dot)',\n",
       " '_iii': 'dot = i * j for i, j in zip(v1, v2)\\nprint(dot)',\n",
       " '_i1': 'print(\"Hello\")',\n",
       " '_i2': 't = (1, 2, 3)',\n",
       " 't': ('this', 'bird', 'is', 'a', 'late', 'parrot'),\n",
       " '_i3': 't[0]',\n",
       " '_3': 1,\n",
       " '_i4': 't[0] = 100',\n",
       " '_i5': 't = ( [1, 2], 3, 4)',\n",
       " '_i6': 't[0][0] = 100',\n",
       " '_i7': 't',\n",
       " '_7': ([100, 2], 3, 4),\n",
       " '_i8': \"t = (10, 'a', 1+3j)\",\n",
       " '_i9': \"s = {10, 'a', 1+3j}\",\n",
       " 's': {1, 3, 5, 6, 8, 9, 10},\n",
       " '_i10': 'for c in t:\\n    print(c)',\n",
       " 'c': [0,\n",
       "  1,\n",
       "  2,\n",
       "  3,\n",
       "  4,\n",
       "  5,\n",
       "  6,\n",
       "  7,\n",
       "  8,\n",
       "  9,\n",
       "  10,\n",
       "  11,\n",
       "  12,\n",
       "  13,\n",
       "  14,\n",
       "  15,\n",
       "  16,\n",
       "  17,\n",
       "  18,\n",
       "  19,\n",
       "  20,\n",
       "  21,\n",
       "  22,\n",
       "  23,\n",
       "  24,\n",
       "  25,\n",
       "  26,\n",
       "  27,\n",
       "  28,\n",
       "  29,\n",
       "  30,\n",
       "  31,\n",
       "  32,\n",
       "  33,\n",
       "  34,\n",
       "  35,\n",
       "  36,\n",
       "  37,\n",
       "  38,\n",
       "  39,\n",
       "  40,\n",
       "  41,\n",
       "  42,\n",
       "  43,\n",
       "  44,\n",
       "  45,\n",
       "  46,\n",
       "  47,\n",
       "  48,\n",
       "  49,\n",
       "  50,\n",
       "  51,\n",
       "  52,\n",
       "  53,\n",
       "  54,\n",
       "  55,\n",
       "  56,\n",
       "  57,\n",
       "  58,\n",
       "  59,\n",
       "  60,\n",
       "  61,\n",
       "  62,\n",
       "  63,\n",
       "  64,\n",
       "  65,\n",
       "  66,\n",
       "  67,\n",
       "  68,\n",
       "  69,\n",
       "  70,\n",
       "  71,\n",
       "  72,\n",
       "  73,\n",
       "  74,\n",
       "  75,\n",
       "  76,\n",
       "  77,\n",
       "  78,\n",
       "  79,\n",
       "  80,\n",
       "  81,\n",
       "  82,\n",
       "  83,\n",
       "  84,\n",
       "  85,\n",
       "  86,\n",
       "  87,\n",
       "  88,\n",
       "  89,\n",
       "  90,\n",
       "  91,\n",
       "  92,\n",
       "  93,\n",
       "  94,\n",
       "  95,\n",
       "  96,\n",
       "  97,\n",
       "  98,\n",
       "  99,\n",
       "  100,\n",
       "  101,\n",
       "  102,\n",
       "  103,\n",
       "  104,\n",
       "  105,\n",
       "  106,\n",
       "  107,\n",
       "  108,\n",
       "  109,\n",
       "  110,\n",
       "  111,\n",
       "  112,\n",
       "  113,\n",
       "  114,\n",
       "  115,\n",
       "  116,\n",
       "  117,\n",
       "  118,\n",
       "  119,\n",
       "  120,\n",
       "  121,\n",
       "  122,\n",
       "  123,\n",
       "  124,\n",
       "  125,\n",
       "  126,\n",
       "  127,\n",
       "  128,\n",
       "  129,\n",
       "  130,\n",
       "  131,\n",
       "  132,\n",
       "  133,\n",
       "  134,\n",
       "  135,\n",
       "  136,\n",
       "  137,\n",
       "  138,\n",
       "  139,\n",
       "  140,\n",
       "  141,\n",
       "  142,\n",
       "  143,\n",
       "  144,\n",
       "  145,\n",
       "  146,\n",
       "  147,\n",
       "  148,\n",
       "  149,\n",
       "  150,\n",
       "  151,\n",
       "  152,\n",
       "  153,\n",
       "  154,\n",
       "  155,\n",
       "  156,\n",
       "  157,\n",
       "  158,\n",
       "  159,\n",
       "  160,\n",
       "  161,\n",
       "  162,\n",
       "  163,\n",
       "  164,\n",
       "  165,\n",
       "  166,\n",
       "  167,\n",
       "  168,\n",
       "  169,\n",
       "  170,\n",
       "  171,\n",
       "  172,\n",
       "  173,\n",
       "  174,\n",
       "  175,\n",
       "  176,\n",
       "  177,\n",
       "  178,\n",
       "  179,\n",
       "  180,\n",
       "  181,\n",
       "  182,\n",
       "  183,\n",
       "  184,\n",
       "  185,\n",
       "  186,\n",
       "  187,\n",
       "  188,\n",
       "  189,\n",
       "  190,\n",
       "  191,\n",
       "  192,\n",
       "  193,\n",
       "  194,\n",
       "  195,\n",
       "  196,\n",
       "  197,\n",
       "  198,\n",
       "  199,\n",
       "  200,\n",
       "  201,\n",
       "  202,\n",
       "  203,\n",
       "  204,\n",
       "  205,\n",
       "  206,\n",
       "  207,\n",
       "  208,\n",
       "  209,\n",
       "  210,\n",
       "  211,\n",
       "  212,\n",
       "  213,\n",
       "  214,\n",
       "  215,\n",
       "  216,\n",
       "  217,\n",
       "  218,\n",
       "  219,\n",
       "  220,\n",
       "  221,\n",
       "  222,\n",
       "  223,\n",
       "  224,\n",
       "  225,\n",
       "  226,\n",
       "  227,\n",
       "  228,\n",
       "  229,\n",
       "  230,\n",
       "  231,\n",
       "  232,\n",
       "  233,\n",
       "  234,\n",
       "  235,\n",
       "  236,\n",
       "  237,\n",
       "  238,\n",
       "  239,\n",
       "  240,\n",
       "  241,\n",
       "  242,\n",
       "  243,\n",
       "  244,\n",
       "  245,\n",
       "  246,\n",
       "  247,\n",
       "  248,\n",
       "  249,\n",
       "  250,\n",
       "  251,\n",
       "  252,\n",
       "  253,\n",
       "  254],\n",
       " '_i11': 'for c in s:\\n    print(c)',\n",
       " '_i12': 'for c in s:\\n    print(c)',\n",
       " '_i13': \"'a' in ['a', 'b', 100]\",\n",
       " '_13': True,\n",
       " '_i14': '100 in range(200)',\n",
       " '_14': True,\n",
       " '_i15': \"s = {10, 'a', 1+3j}\\n10 in s\",\n",
       " '_15': True,\n",
       " '_i16': \"len('python'), len([1, 2, 3]), len({10, 20, 30}), len({'a': 1, 'b': 2})\",\n",
       " '_16': (6, 3, 3, 2),\n",
       " '_i17': 'a = [100, 300, 200]\\nmin(a), max(a)',\n",
       " 'a': [(1+1j), (2+2j), (3+3j)],\n",
       " '_17': (100, 300),\n",
       " '_i18': \"s = 'python'\\nmin(s), max(s)\",\n",
       " '_18': ('h', 'y'),\n",
       " '_i19': \"s = {'p', 'y', 't', 'h', 'o', 'n'}\\nmin(s), max(s)\",\n",
       " '_19': ('h', 'y'),\n",
       " '_i20': 'a = [1+1j, 2+2j, 3+3j]\\nmin(a)',\n",
       " '_i21': 'from decimal import Decimal',\n",
       " 'Decimal': decimal.Decimal,\n",
       " '_i22': \"t = 10, 20.5, Decimal('30.5')\",\n",
       " '_i23': 'min(t), max(t)',\n",
       " '_23': (10, Decimal('30.5')),\n",
       " '_i24': \"t = ['a', 10, 1000]\\nmin(t)\",\n",
       " '_i25': 'r = range(10, 200)\\nmin(r), max(r)',\n",
       " 'r': range(0, 10),\n",
       " '_25': (10, 199),\n",
       " '_i26': '[1, 2, 3] + [4, 5, 6]',\n",
       " '_26': [1, 2, 3, 4, 5, 6],\n",
       " '_i27': '(1, 2, 3) + (4, 5, 6)',\n",
       " '_27': (1, 2, 3, 4, 5, 6),\n",
       " '_i28': '(1, 2, 3) + [4, 5, 6]',\n",
       " '_i29': \"'abc' + ['d', 'e', 'f']\",\n",
       " '_i30': '(1, 2, 3) + tuple([4, 5, 6])',\n",
       " '_30': (1, 2, 3, 4, 5, 6),\n",
       " '_i31': \"tuple('abc') + ('d', 'e', 'f')\",\n",
       " '_31': ('a', 'b', 'c', 'd', 'e', 'f'),\n",
       " '_i32': \"''.join(tuple('abc') + ('d', 'e', 'f'))\",\n",
       " '_32': 'abcdef',\n",
       " '_i33': \"'abc' * 5\",\n",
       " '_33': 'abcabcabcabcabc',\n",
       " '_i34': '[1, 2, 3] * 5',\n",
       " '_34': [1, 2, 3, 1, 2, 3, 1, 2, 3, 1, 2, 3, 1, 2, 3],\n",
       " '_i35': 's = \"gnu\\'s not unix\"',\n",
       " '_i36': \"s.index('n')\",\n",
       " '_36': 1,\n",
       " '_i37': \"s.index('n', 1), s.index('n', 2), s.index('n', 8)\",\n",
       " '_37': (1, 6, 11),\n",
       " '_i38': \"s.index('n', 13)\",\n",
       " '_i39': \"try:\\n    idx = s.index('n', 13)\\nexcept ValueError:\\n    print('not found')\",\n",
       " '_i40': \"s = 'python'\\nl = [1, 2, 3, 4, 5, 6, 7, 8, 9, 10]\",\n",
       " 'l': 'python',\n",
       " '_i41': 's[0:3], s[4:6]',\n",
       " '_41': ('pyt', 'on'),\n",
       " '_i42': 'l[0:3], l[4:6]',\n",
       " '_42': ([1, 2, 3], [5, 6]),\n",
       " '_i43': 's[4:1000]',\n",
       " '_43': 'on',\n",
       " '_i44': 's[0:3], s[:3]',\n",
       " '_44': ('pyt', 'pyt'),\n",
       " '_i45': 's[3:1000], s[3:], s[:]',\n",
       " '_45': ('hon', 'hon', 'python'),\n",
       " '_i46': 's, s[0:5], s[0:5:2]',\n",
       " '_46': ('python', 'pytho', 'pto'),\n",
       " '_i47': 's, s[::2]',\n",
       " '_47': ('python', 'pto'),\n",
       " '_i48': 's, s[-3:-1], s[::-1]',\n",
       " '_48': ('python', 'ho', 'nohtyp'),\n",
       " '_i49': 'r = range(11)  # numbers from 0 to 10 (inclusive)',\n",
       " '_i50': 'print(r)\\nprint(list(r))',\n",
       " '_i51': 'r = range(11000000000000000000000000000000000000000000000000000000000)',\n",
       " '_i52': 'print(r[:5])',\n",
       " '_i53': 'print(list(r[:5]))',\n",
       " '_i54': 'l = (1, 2, 3)\\nhash(l)',\n",
       " '_54': 529344067295497451,\n",
       " '_i55': \"s = '123'\\nhash(s)\",\n",
       " '_55': -66116863465720503,\n",
       " '_i56': 'r = range(10)\\nhash(r)',\n",
       " '_56': -7546101314042312252,\n",
       " '_i57': 'l = [1, 2, 3]',\n",
       " '_i58': 'hash(l)',\n",
       " '_i59': 't = (1, 2, [10, 20])\\nhash(t)',\n",
       " '_i60': \"t = ('python', (1, 2, 3))\\nhash(t)\",\n",
       " '_60': 7709632707160182844,\n",
       " '_i61': 'from decimal import Decimal\\nd = Decimal(10.5)\\nhash(d)',\n",
       " 'd': {'a': 100, 'b': 50, 'c': 10},\n",
       " '_61': 1152921504606846986,\n",
       " '_i62': 's = {1, 2, 3}\\nhash(s)',\n",
       " '_i63': 's = frozenset({1, 2, 3})',\n",
       " '_i64': 'hash(s)',\n",
       " '_64': -272375401224217160,\n",
       " '_i65': 'x = [2000]',\n",
       " 'x': [[0, 0]],\n",
       " '_i66': 'id(x[0])',\n",
       " '_66': 2247838055792,\n",
       " '_i67': 'l = x + x',\n",
       " '_i68': 'l',\n",
       " '_68': [2000, 2000],\n",
       " '_i69': 'id(l[0]), id(l[1])',\n",
       " '_69': (2247838055792, 2247838055792),\n",
       " '_i70': 'l[0] is l[1]',\n",
       " '_70': True,\n",
       " '_i71': 'x = [ [0, 0] ]\\nl = x + x',\n",
       " '_i72': 'l',\n",
       " '_72': [[100, 0], [100, 0]],\n",
       " '_i73': 'l[0] is l[1]',\n",
       " '_73': True,\n",
       " '_i74': 'l[0][0] = 100',\n",
       " '_i75': 'x = [ [0, 0] ]\\nm = [e.copy() for e in x*3]',\n",
       " 'm': [[0, 0], [0, 0], [0, 0]],\n",
       " '_i76': 'm',\n",
       " '_76': [[0, 0], [0, 0], [0, 0]],\n",
       " '_i77': \"l = [1, 2, 3, 4, 5]\\nprint(id(l))\\nl[0] = 'a'\\nprint(id(l), l)\",\n",
       " '_i78': 'l = [1, 2, 3, 4, 5]\\nl.clear()\\nprint(l)',\n",
       " '_i79': 'l = [1, 2, 3, 4, 5]\\nl = []\\nprint(l)',\n",
       " '_i80': 'l = [1, 2, 3, 4, 5]\\nprint(id(l))\\nl.clear()\\nprint(l, id(l))',\n",
       " '_i81': 'l = [1, 2, 3, 4, 5]\\nprint(id(l))\\nl = []\\nprint(l, id(l))',\n",
       " '_i82': \"suits = ['Spades', 'Hearts', 'Diamonds', 'Clubs']\\nalias = suits\\nsuits = []\\nprint(suits, alias)\",\n",
       " 'suits': [],\n",
       " 'alias': [],\n",
       " '_i83': \"suits = ['Spades', 'Hearts', 'Diamonds', 'Clubs']\\nalias = suits\\nsuits.clear()\\nprint(suits, alias)\",\n",
       " '_i84': \"l = [1, 2, 3, 4, 5]\\nprint(id(l))\\nl[0:2] = ['a', 'b', 'c', 'd', 'e']\\nprint(id(l), l)\",\n",
       " '_i85': 'l = [1, 2, 3]\\nprint(id(l))\\nl.append(4)\\nprint(l, id(l))',\n",
       " '_i86': 'l = [1, 2, 3]\\nprint(id(l))\\nl = l + [4]\\nprint(id(l), l)',\n",
       " '_i87': \"l = [1, 2, 3, 4, 5]\\nprint(id(l))\\nl.extend({'a', 'b', 'c'})\\nprint(id(l), l)\",\n",
       " '_i88': \"l = [1, 2, 3]\\nl.extend(('a', 'b', 'c'))\\nprint(l)\",\n",
       " '_i89': 'l = [1, 2, 3, 4]\\nprint(id(l))\\npopped = l.pop(1)\\nprint(id(l), popped, l)',\n",
       " 'popped': 4,\n",
       " '_i90': 'l = [1, 2, 3, 4]\\npopped = l.pop()\\nprint(popped)\\nprint(id(l), popped, l)',\n",
       " '_i91': \"l = [1, 2, 3, 4]\\nprint(id(l))\\nl.insert(1, 'a')\\nprint(id(l), l)\",\n",
       " '_i92': 'l = [1, 2, 3, 4]\\nprint(id(l))\\nl.reverse()\\nprint(id(l), l)',\n",
       " '_i93': 'l = [1, 2, 3, 4]\\nl[::-1]',\n",
       " '_93': [4, 3, 2, 1],\n",
       " '_i94': 'l = [1, 2, 3, 4]\\nprint(id(l))\\nl = l[::-1]\\nprint(id(l), l)',\n",
       " '_i95': 'l = [1, 2, 3, 4]\\nprint(id(l))\\nl2 = l.copy()\\nprint(id(l2), l2)',\n",
       " 'l2': ['x', 'y', 'z'],\n",
       " '_i96': 'l = [1, 2, 3, 4]\\nprint(id(l))\\nl2 = l[:]\\nprint(id(l2), l2)',\n",
       " '_i97': 'from dis import dis',\n",
       " 'dis': <module 'dis' from 'i:\\\\Installs\\\\lib\\\\dis.py'>,\n",
       " '_i98': '(1, 2, 3)\\n[1, 2, 3]',\n",
       " '_98': [1, 2, 3],\n",
       " '_i99': 'dis(compile(\\'(1,2,3, \"a\")\\', \\'string\\', \\'eval\\'))',\n",
       " '_i100': 'dis(compile(\\'[1,2,3, \"a\"]\\', \\'string\\', \\'eval\\'))',\n",
       " '_i101': 'dis(compile(\\'[1,2,3, \"a\", 1+4j]\\', \\'string\\', \\'eval\\'))',\n",
       " '_i102': 'dis(compile(\\'[1,2,3, \"a\", 1+4j, 1, 2, 3, 4, 5, 6, 7, 8, 9]\\', \\'string\\', \\'eval\\'))',\n",
       " '_i103': 'from timeit import timeit\\ntimeit(\"(1,2,3,4,5,6,7,8,9)\", number=10_000_000)',\n",
       " 'timeit': <function timeit.timeit(stmt='pass', setup='pass', timer=<built-in function perf_counter>, number=1000000, globals=None)>,\n",
       " '_103': 0.1637258999999176,\n",
       " '_i104': 'timeit(\"[1,2,3,4,5,6,7,8,9]\", number=10_000_000)',\n",
       " '_104': 0.8841903000002276,\n",
       " '_i105': 'dis(compile(\\'[1,2,3, \"a\", 1+4j, 1, 2, 3, 4, 5, 6, 7, 8, 9]\\', \\'string\\'))',\n",
       " '_i106': 'dis(compile(\\'[1,2,3, \"a\", 1+4j, 1, 2, 3, 4, 5, 6, 7, 8, 9]\\', \\'string\\', \\'exec\\'))',\n",
       " '_i107': 'def fn1():\\n    pass',\n",
       " 'fn1': <function __main__.fn1()>,\n",
       " '_i108': \"dis(compile('(fn1, 10, 20)', 'string', 'eval'))\",\n",
       " '_i109': \"dis(compile('[fn1, 10, 20]', 'string', 'eval'))\",\n",
       " '_i110': 'dis(compile(\\'[fn, 1,2,3, \"a\"]\\', \\'string\\', \\'eval\\'))',\n",
       " '_i111': 'dis(compile(\\'(1,2,3, \"a\")\\', \\'string\\', \\'eval\\'))',\n",
       " '_i112': \"dis(compile('(fn1, 10, 20)', 'string', 'eval'))\",\n",
       " '_i113': \"dis(compile('([1,2], 10, 20)', 'string', 'eval'))\",\n",
       " '_i114': \"dis(compile('[[1,2], 10, 20]', 'string', 'eval'))\",\n",
       " '_i115': 'timeit(\"([1, 2], 10, 20)\", number=1_000_000)',\n",
       " '_115': 0.10785810000015772,\n",
       " '_i116': 'timeit(\"[[1, 2], 10, 20]\", number=1_000_000)',\n",
       " '_116': 0.16683150000062597,\n",
       " '_i117': 'l1 = [1, 2, 3, 4, 5, 6, 7, 8, 9]\\nt1 = (1, 2, 3, 4, 5, 6, 7, 8, 9)',\n",
       " 'l1': ['a', 'b', 'c'],\n",
       " 't1': (1, 2, 3),\n",
       " '_i118': 'id(l1), id(t1)',\n",
       " '_118': (2247838071488, 2247838205888),\n",
       " '_i119': 'l2 = list(l1)\\nt2 = tuple(t1)',\n",
       " 't2': (1, 2, 3, 4, 5, 6, 7, 8, 9),\n",
       " '_i120': \"timeit('tuple((1,2,3,4,5,6,7,8,9))', number=1_000_000)\",\n",
       " '_120': 0.06690450000041892,\n",
       " '_i121': \"timeit('list([1,2,3,4,5,6,7,8,9])', number=1_000_000)\",\n",
       " '_121': 0.2293269000001601,\n",
       " '_i122': 'id(l1), id(l2), id(t1), id(t2)',\n",
       " '_122': (2247838071488, 2247838276224, 2247838205888, 2247838205888),\n",
       " '_i123': 'l1 is l2, t1 is t2',\n",
       " '_123': (False, True),\n",
       " '_i124': 'import sys',\n",
       " 'sys': <module 'sys' (built-in)>,\n",
       " '_i125': \"prev = 0\\nfor i in range(10):\\n    c = tuple(range(i+1))\\n    size_c = sys.getsizeof(c)\\n    delta, prev = size_c - prev, size_c\\n    print(f'{i+1} items: {size_c}, delta={delta}')\",\n",
       " 'prev': 2200,\n",
       " 'i': 5,\n",
       " 'size_c': 2200,\n",
       " 'delta': 0,\n",
       " '_i126': \"prev = 0\\nfor i in range(10):\\n    c = list(range(i+1))\\n    size_c = sys.getsizeof(c)\\n    delta, prev = size_c - prev, size_c\\n    print(f'{i+1} items: {size_c}, delta={delta}')\",\n",
       " '_i127': \"prev = 0\\nfor i in range(100):\\n    c = list(range(i+1))\\n    size_c = sys.getsizeof(c)\\n    delta, prev = size_c - prev, size_c\\n    print(f'{i+1} items: {size_c}, delta={delta}')\",\n",
       " '_i128': \"prev = 0\\nfor i in range(555):\\n    c = list(range(i+1))\\n    size_c = sys.getsizeof(c)\\n    delta, prev = size_c - prev, size_c\\n    print(f'{i+1} items: {size_c}, delta={delta}')\",\n",
       " '_i129': \"prev = 0\\n\\nfor i in range(10):\\n    c = list(range(i+1))\\n    size_c = sys.getsizeof(c)\\n    delta, prev = size_c - prev, size_c\\n    print(f'{i+1} items: {size_c}, delta={delta}')\",\n",
       " '_i130': \"c = []\\nprev = sys.getsizeof(c)\\nprint(f'0 items: {sys.getsizeof(c)}')\\nfor i in range(255):\\n    c.append(i)\\n    size_c = sys.getsizeof(c)\\n    delta, prev = size_c - prev, size_c\\n    print(f'{i+1} items: {size_c}, delta={delta}')\",\n",
       " '_i131': 't = tuple(range(100_000))\\nl = list(t)',\n",
       " '_i132': \"timeit('t[99_999]', globals=globals(), number=10_000_000)\",\n",
       " '_132': 0.8245966000004046,\n",
       " '_i133': \"timeit('l[99_999]', globals=globals(), number=10_000_000)\",\n",
       " '_133': 0.8044734999994034,\n",
       " '_i134': 'l1 = [1, 2, 3]\\n\\nl1_copy = []\\nfor item in l1:\\n    l1_copy.append(item)\\n\\nprint(l1_copy)',\n",
       " 'l1_copy': [1, 2, 3],\n",
       " 'item': 1,\n",
       " '_i135': 'l1 is l1_copy',\n",
       " '_135': False,\n",
       " '_i136': 'l1 = [1, 2, 3]\\nl1_copy = [item for item in l1]\\nprint(l1_copy)',\n",
       " '_i137': 'l1 is l1_copy',\n",
       " '_137': False,\n",
       " '_i138': 'l1 = [1, 2, 3]\\nl1_copy = l1.copy()\\nprint(l1_copy)',\n",
       " '_i139': 'l1 is l1_copy',\n",
       " '_139': False,\n",
       " '_i140': 'l1 = [1, 2, 3]',\n",
       " '_i141': 'l1_copy = list(l1)\\nprint(l1_copy)',\n",
       " '_i142': 'l1 is l1_copy',\n",
       " '_142': False,\n",
       " '_i143': 't1 = (1, 2, 3)\\nt1_copy = list(t1)\\nprint(t1_copy)',\n",
       " 't1_copy': (1, 2, 3),\n",
       " '_i144': 't1 = (1, 2, 3)\\nt1_copy = tuple(t1)\\nprint(t1_copy)',\n",
       " '_i145': 't1 is t1_copy',\n",
       " '_145': True,\n",
       " '_i146': 'l1 = [1, 2, 3]\\nl1_copy = l1[:]\\nprint(l1_copy)\\nprint(l1 is l1_copy)',\n",
       " '_i147': 't1 = (1, 2, 3)\\nt1_copy = t1[:]\\nprint(t1_copy)\\nprint(t1 is t1_copy)',\n",
       " '_i148': \"s1 = 'python'\\ns2 = str(s1)\\nprint(s2)\\nprint(s1 is s2)\",\n",
       " 's1': 'c',\n",
       " 's2': 'z',\n",
       " '_i149': \"s1 = 'python'\\ns2 = s1[:]\\nprint(s2)\\nprint(s1 is s2)\",\n",
       " '_i150': 'import copy',\n",
       " 'copy': <module 'copy' from 'i:\\\\Installs\\\\lib\\\\copy.py'>,\n",
       " '_i151': 'l1 = [1, 2, 3]\\nl1_copy = copy.copy(l1)\\nprint(l1_copy)\\nprint(l1 is l1_copy)',\n",
       " '_i152': 't1 = (1, 2, 3)\\nt1_copy = copy.copy(t1)\\nprint(t1_copy)\\nprint(t1 is t1_copy)',\n",
       " '_i153': 'v1 = [0, 0]\\nv2 = [0, 0]\\n\\nline1 = [v1, v2]',\n",
       " 'v1': (1, 2, 3, 4, 5, 6),\n",
       " 'v2': (10, 20, 30, 40, 50, 60),\n",
       " 'line1': Line(Point(0, 0), Point(10, 10)),\n",
       " '_i154': 'print(line1)\\nprint(id(line1[0]), id(line1[1]))',\n",
       " '_i155': 'line2 = line1.copy()',\n",
       " 'line2': Line(Point(0, 0), Point(10, 10)),\n",
       " '_i156': 'line1 is line2',\n",
       " '_156': False,\n",
       " '_i157': 'print(id(line1[0]), id(line1[1]))\\nprint(id(line2[0]), id(line2[1]))',\n",
       " '_i158': 'line2[0][0] = 100',\n",
       " '_i159': 'line2',\n",
       " '_159': [[100, 0], [0, 0]],\n",
       " '_i160': 'line1',\n",
       " '_160': [[100, 0], [0, 0]],\n",
       " '_i161': 'v1 = [0, 0]\\nv2 = [0, 0]\\n\\nline1 = [v1, v2]',\n",
       " '_i162': 'line2 = [item[:] for item in line1]',\n",
       " '_i163': 'print(id(line1[0]), id(line1[1]))\\nprint(id(line2[0]), id(line2[1]))',\n",
       " '_i164': 'line1[0][0] = 100\\nprint(line1)\\nprint(line2)',\n",
       " '_i165': 'v1 = [0, 0]\\nv2 = [0, 0]\\nline1 = [v1, v2]',\n",
       " '_i166': 'line2 = copy.deepcopy(line1)\\nprint(id(line1[0]), id(line1[1]))\\nprint(id(line2[0]), id(line2[1]))',\n",
       " '_i167': 'line2[0][0] = 100',\n",
       " '_i168': 'print(line1)\\nprint(line2)',\n",
       " '_i169': 'v1 = [11, 12]\\nv2 = [21, 22]\\nline1 = [v1, v2]\\n\\nv3 = [31, 32]\\nv4 = [41, 42]\\nline2 = [v3, v4]\\n\\nplane1 = [line1, line2]\\nprint(plane1)',\n",
       " 'v3': [31, 32],\n",
       " 'v4': [41, 42],\n",
       " 'plane1': [[[11, 12], [21, 22]], [[31, 32], [41, 42]]],\n",
       " '_i170': 'plane2 = copy.deepcopy(plane1)',\n",
       " 'plane2': [[[11, 12], [21, 22]], [[31, 32], [41, 42]]],\n",
       " '_i171': 'print(plane2)',\n",
       " '_i172': 'print(plane1[0], id(plane1[0]))\\nprint(plane2[0], id(plane2[0]))',\n",
       " '_i173': 'print(plane1[0][0], id(plane1[0][0]))\\nprint(plane2[0][0], id(plane2[0][0]))',\n",
       " '_i174': \"class Point:\\n    def __init__(self, x, y):\\n        self.x = x\\n        self.y = y\\n    \\n    def __repr__(self):\\n        return f'Point({self.x}, {self.y})'\\n    \\nclass Line:\\n    def __init__(self, p1, p2):\\n        self.p1 = p1\\n        self.p2 = p2\\n        \\n    def __repr__(self):\\n        return f'Line({self.p1.__repr__()}, {self.p2.__repr__()})'\",\n",
       " 'Point': __main__.Point,\n",
       " 'Line': __main__.Line,\n",
       " '_i175': 'p1 = Point(0, 0)\\np2 = Point(10, 10)\\nline1 = Line(p1, p2)\\nline2 = copy.deepcopy(line1)\\n\\nprint(line1.p1, id(line1.p1))\\nprint(line2.p1, id(line2.p1))',\n",
       " 'p1': Point(0, 0),\n",
       " 'p2': Point(10, 10),\n",
       " '_i176': 's = slice(0, 2)',\n",
       " '_i177': 'type(s)',\n",
       " '_177': slice,\n",
       " '_i178': 's.start',\n",
       " '_178': 0,\n",
       " '_i179': 's.stop',\n",
       " '_179': 2,\n",
       " '_i180': 'l = [1, 2, 3, 4, 5]\\nl[s]',\n",
       " '_180': [1, 2],\n",
       " '_i181': 'data = []  # a collection of rows, read from a file maybe\\nfor row in data:\\n    first_name = row[0:51]\\n    last_name = row[51:101]\\n    ssn = row[101:111]\\n    # etc',\n",
       " 'data': [],\n",
       " '_i182': 'range_first_name = slice(0, 51)\\nrange_last_name = slice(51, 101)\\nrange_ssn = slice(101, 111)',\n",
       " 'range_first_name': slice(0, 51, None),\n",
       " 'range_last_name': slice(51, 101, None),\n",
       " 'range_ssn': slice(101, 111, None),\n",
       " '_i183': 'for row in data:\\n    first_name = row[range_first_name]\\n    last_name = row[range_last_name]\\n    ssn = row[range_ssn]',\n",
       " '_i184': \"l = 'python'\\nl[0:1], l[0:6]\",\n",
       " '_184': ('p', 'python'),\n",
       " '_i185': \"l = 'python'\\nl[0:6:2], l[0:6:3]\",\n",
       " '_185': ('pto', 'ph'),\n",
       " '_i186': 's1 = slice(0, 6, 2)\\ns2 = slice(0, 6, 3)\\nl[s1], l[s2]',\n",
       " '_186': ('pto', 'ph'),\n",
       " '_i187': 'l = [1, 2, 3, 4, 5, 6]\\nl[0:100]',\n",
       " '_187': [1, 2, 3, 4, 5, 6],\n",
       " '_i188': 'l[-10:100]',\n",
       " '_188': [1, 2, 3, 4, 5, 6],\n",
       " '_i189': 'l = [1, 2, 3, 4, 5, 6]\\nl[100]',\n",
       " '_i190': 'l = [1, 2, 3, 4, 5, 6]',\n",
       " '_i191': 'l[:4]',\n",
       " '_191': [1, 2, 3, 4],\n",
       " '_i192': 'l[4:]',\n",
       " '_192': [5, 6],\n",
       " '_i193': 'l[:]',\n",
       " '_193': [1, 2, 3, 4, 5, 6],\n",
       " '_i194': 'l[3:0:-1]',\n",
       " '_194': [4, 3, 2],\n",
       " '_i195': 'l = [0, 1, 2, 3, 4, 5]',\n",
       " '_i196': 'l[3:0:-1]',\n",
       " '_196': [3, 2, 1],\n",
       " '_i197': 'l[3:-1:-1]',\n",
       " '_197': [],\n",
       " '_i198': 'l[3::-1]',\n",
       " '_198': [3, 2, 1, 0],\n",
       " '_i199': 'l[3:-100:-1]',\n",
       " '_199': [3, 2, 1, 0],\n",
       " '_i200': 'l[3:-1:-1]',\n",
       " '_200': [],\n",
       " '_i201': 'l[3:-2:-1]',\n",
       " '_201': [],\n",
       " '_i202': 'l[3:-3:-1]',\n",
       " '_202': [],\n",
       " '_i203': 'l[3:-9:-1]',\n",
       " '_203': [3, 2, 1, 0],\n",
       " '_i204': 'l[3:-5:-1]',\n",
       " '_204': [3, 2],\n",
       " '_i205': 'l[3:-8:-1]',\n",
       " '_205': [3, 2, 1, 0],\n",
       " '_i206': 'l = [0, 1, 2, 3, 4, 5]l[3:-8:-1]',\n",
       " '_i207': 'l = [0, 1, 2, 3, 4, 5]\\nl[3:-8:-1]',\n",
       " '_207': [3, 2, 1, 0],\n",
       " '_i208': 'l = [0, 1, 2, 3, 4, 5]\\nl[3:-4:-1]',\n",
       " '_208': [3],\n",
       " '_i209': 'my_list = [0, 1, 2, 3, 4, 5]',\n",
       " 'my_list': [0, 1, 2, 3, 4, 5],\n",
       " '_i210': 'my_list.__getitem__(0)',\n",
       " '_210': 0,\n",
       " '_i211': 'my_list.__getitem__(5)',\n",
       " '_211': 5,\n",
       " '_i212': 'my_list.__getitem__(6)',\n",
       " '_i213': 'my_list.__getitem__(-1)',\n",
       " '_213': 5,\n",
       " '_i214': 'my_list.__getitem__(slice(0,6,2))',\n",
       " '_214': [0, 2, 4],\n",
       " '_i215': 'my_list.__getitem__(slice(None, None, -1))',\n",
       " '_215': [5, 4, 3, 2, 1, 0],\n",
       " '_i216': 'my_list = [0, 1, 2, 3, 4, 5]',\n",
       " '_i217': 'for item in my_list:\\n    print(item ** 2)',\n",
       " '_i218': 'index = 0\\nwhile True:\\n    try:\\n        item = my_list.__getitem__(index)\\n    except IndexError:\\n        # reached the end of the sequence\\n        break\\n    # do something with the item...\\n    print(item ** 2)\\n    index += 1',\n",
       " 'index': 6,\n",
       " '_i219': 'class MySequence:\\n    def __getitem__(self, index):\\n        print(type(index), index)',\n",
       " 'MySequence': __main__.MySequence,\n",
       " '_i220': 'my_seq = MySequence()',\n",
       " 'my_seq': <__main__.MySequence at 0x20b5d961340>,\n",
       " '_i221': 'my_seq[0]',\n",
       " '_i222': 'my_seq[100]',\n",
       " '_i223': 'my_seq[0:2]',\n",
       " '_i224': 'my_seq[0:10:2]',\n",
       " '_i225': \"l = 'python'\\nlen(l)\",\n",
       " '_225': 6,\n",
       " '_i226': 's = slice(0, 6, 2)\\nl[s]',\n",
       " '_226': 'pto',\n",
       " '_i227': 's.start, s.stop, s.step',\n",
       " '_227': (0, 6, 2),\n",
       " '_i228': 'class Fib:\\n    def __getitem__(self, s):\\n        print(type(s), s)',\n",
       " 'Fib': __main__.Fib,\n",
       " '_i229': 'f = Fib()\\nf[2]\\nf[2:10:2]',\n",
       " 'f': <__main__.Fib at 0x20b5d9615e0>,\n",
       " '_i230': \"class Fib:\\n    def __init__(self, n):\\n        self._n = n\\n    \\n    def __getitem__(self, s):\\n        if isinstance(s, int):\\n            # single item requested\\n            print(f'requesting [{s}]')\\n        else:\\n            # slice being requested\\n            print(f'requesting [{s.start}:{s.stop}:{s.step}]')\",\n",
       " '_i231': 'f = Fib(10)',\n",
       " '_i232': 'f[3]',\n",
       " '_i233': 'f[:5]',\n",
       " '_i234': \"class Fib:\\n    def __init__(self, n):\\n        self._n = n\\n    \\n    def __getitem__(self, s):\\n        if isinstance(s, int):\\n            # single item requested\\n            print(f'requesting [{s}]')\\n        else:\\n            # slice being requested\\n            print(f'requesting [{s.start}:{s.stop}:{s.step}]')\\n            idx = s.indices(self._n)\\n            rng = range(*idx)\\n            print(f'\\\\trange({idx[0]}, {idx[1]}, {idx[2]}) --> {list(rng)}')\",\n",
       " '_i235': 'f = Fib(10)\\nf[3:5]\\nf[::-1]',\n",
       " '_i236': 'from functools import lru_cache',\n",
       " 'lru_cache': <function functools.lru_cache(maxsize=128, typed=False)>,\n",
       " '_i237': '@lru_cache(2**10)\\ndef fib(n):\\n    if n < 2:\\n        return 1\\n    else:\\n        return fib(n-1) + fib(n-2)',\n",
       " 'fib': <functools._lru_cache_wrapper at 0x20b5d9c4cc0>,\n",
       " '_i238': 'fib(0), fib(1), fib(2), fib(3), fib(4), fib(5), fib(50)',\n",
       " '_238': (1, 1, 2, 3, 5, 8, 20365011074),\n",
       " '_i239': \"class Fib:\\n    def __init__(self, n):\\n        self._n = n\\n    \\n    def __getitem__(self, s):\\n        if isinstance(s, int):\\n            # single item requested\\n            print(f'requesting [{s}]')\\n        else:\\n            # slice being requested\\n            print(f'requesting [{s.start}:{s.stop}:{s.step}]')\\n            idx = s.indices(self._n)\\n            rng = range(idx[0], idx[1], idx[2])\\n            print(f'\\\\trange({idx[0]}, {idx[1]}, {idx[2]}) --> {list(rng)}')\\n    \\n    @staticmethod\\n    @lru_cache(2**32)\\n    def _fib(n):\\n        if n < 2:\\n            return 1\\n        else:\\n            return fib(n-1) + fib(n-2)\",\n",
       " '_i240': \"class Fib:\\n    def __init__(self, n):\\n        self._n = n\\n    \\n    def __getitem__(self, s):\\n        if isinstance(s, int):\\n            # single item requested\\n            return self._fib(s)\\n        else:\\n            # slice being requested\\n            print(f'requesting [{s.start}:{s.stop}:{s.step}]')\\n            idx = s.indices(self._n)\\n            rng = range(idx[0], idx[1], idx[2])\\n            print(f'\\\\trange({idx[0]}, {idx[1]}, {idx[2]}) --> {list(rng)}')\\n            \\n    @staticmethod\\n    @lru_cache(2**32)\\n    def _fib(n):\\n        if n < 2:\\n            return 1\\n        else:\\n            return fib(n-1) + fib(n-2)\",\n",
       " '_i241': 'f = Fib(100)',\n",
       " '_i242': 'f[0], f[1], f[2], f[3], f[4], f[5], f[50]',\n",
       " '_242': (1, 1, 2, 3, 5, 8, 20365011074),\n",
       " '_i243': 'f[200], f[-5]',\n",
       " '_243': (453973694165307953197296969697410619233826, 1),\n",
       " '_i244': \"class Fib:\\n    def __init__(self, n):\\n        self._n = n\\n    \\n    def __getitem__(self, s):\\n        if isinstance(s, int):\\n            # single item requested\\n            if s < 0:\\n                s = self._n + s\\n            if s < 0 or s > self._n - 1:\\n                raise IndexError\\n            return self._fib(s)\\n        else:\\n            # slice being requested\\n            print(f'requesting [{s.start}:{s.stop}:{s.step}]')\\n            idx = s.indices(self._n)\\n            rng = range(idx[0], idx[1], idx[2])\\n            print(f'\\\\trange({idx[0]}, {idx[1]}, {idx[2]}) --> {list(rng)}')\\n            \\n    @staticmethod\\n    @lru_cache(2**32)\\n    def _fib(n):\\n        if n < 2:\\n            return 1\\n        else:\\n            return fib(n-1) + fib(n-2)\",\n",
       " '_i245': 'f = Fib(10)',\n",
       " '_i246': 'f[9], f[-1]',\n",
       " '_246': (55, 55),\n",
       " '_i247': 'f[10]',\n",
       " '_i248': 't = 10, 3, 5, 8, 9, 6, 1\\nsorted(t)',\n",
       " '_248': [1, 3, 5, 6, 8, 9, 10],\n",
       " '_i249': 's = {10, 3, 5, 8, 9, 6, 1}\\nsorted(s)',\n",
       " '_249': [1, 3, 5, 6, 8, 9, 10],\n",
       " '_i250': 'd = {3: 100, 2: 200, 1: 10}\\nfor item in d:\\n    print(item)',\n",
       " '_i251': 'd = {3: 100, 2: 200, 1: 10}\\nsorted(d)',\n",
       " '_251': [1, 2, 3],\n",
       " '_i252': \"d = {'a': 100, 'b': 50, 'c': 10}\\nsorted(d, key=lambda k: d[k])\",\n",
       " '_252': ['c', 'b', 'a'],\n",
       " '_i253': 'import math\\n\\nt = 10, 3, 5, 8, 9, 6, 1\\nsorted(t, key=math.cos(t))',\n",
       " 'math': <module 'math' (built-in)>,\n",
       " '_i254': 'import math\\n\\nt = 10, 3, 5, 8, 9, 6, 1\\nsorted(t, key=lambda k: math.cos(k))',\n",
       " '_254': [3, 9, 10, 8, 5, 1, 6],\n",
       " '_i255': \"t = 'this', 'parrot', 'is', 'a', 'late', 'bird'\\nsorted(t)\",\n",
       " '_255': ['a', 'bird', 'is', 'late', 'parrot', 'this'],\n",
       " '_i256': 'def sort_key(s):\\n    return len(s)',\n",
       " 'sort_key': <function __main__.sort_key(s)>,\n",
       " '_i257': 'sorted(t, key=sort_key)',\n",
       " '_257': ['a', 'is', 'this', 'late', 'bird', 'parrot'],\n",
       " '_i258': 'sorted(t, key=lambda s: len(s))',\n",
       " '_258': ['a', 'is', 'this', 'late', 'bird', 'parrot'],\n",
       " '_i259': 'import this',\n",
       " 'this': <module 'this' from 'i:\\\\Installs\\\\lib\\\\this.py'>,\n",
       " '_i260': \"t = 'aaaa', 'bbbb', 'cccc', 'dddd', 'eeee'\",\n",
       " '_i261': 'sorted(t, key = lambda s: len(s))',\n",
       " '_261': ['aaaa', 'bbbb', 'cccc', 'dddd', 'eeee'],\n",
       " '_i262': \"t = 'bbbb', 'cccc', 'aaaa', 'eeee', 'dddd'\",\n",
       " '_i263': 'sorted(t, key = lambda s: len(s))',\n",
       " '_263': ['bbbb', 'cccc', 'aaaa', 'eeee', 'dddd'],\n",
       " '_i264': 'sorted(t, key=lambda s: len(s), reverse=True)',\n",
       " '_264': ['bbbb', 'cccc', 'aaaa', 'eeee', 'dddd'],\n",
       " '_i265': \"t = 'this', 'bird', 'is', 'a', 'late', 'parrot'\",\n",
       " '_i266': 'sorted(t, key=lambda s: len(s), reverse=True)',\n",
       " '_266': ['parrot', 'this', 'bird', 'late', 'is', 'a'],\n",
       " '_i267': 'squares = []  # create an empty list\\nfor i in range(1, 101):\\n    squares.append(i**2)',\n",
       " 'squares': [4,\n",
       "  16,\n",
       "  36,\n",
       "  64,\n",
       "  100,\n",
       "  144,\n",
       "  196,\n",
       "  256,\n",
       "  324,\n",
       "  400,\n",
       "  484,\n",
       "  576,\n",
       "  676,\n",
       "  784,\n",
       "  900,\n",
       "  1024,\n",
       "  1156,\n",
       "  1296,\n",
       "  1444,\n",
       "  1600,\n",
       "  1764,\n",
       "  1936,\n",
       "  2116,\n",
       "  2304,\n",
       "  2500,\n",
       "  2704,\n",
       "  2916,\n",
       "  3136,\n",
       "  3364,\n",
       "  3600,\n",
       "  3844,\n",
       "  4096,\n",
       "  4356,\n",
       "  4624,\n",
       "  4900,\n",
       "  5184,\n",
       "  5476,\n",
       "  5776,\n",
       "  6084,\n",
       "  6400,\n",
       "  6724,\n",
       "  7056,\n",
       "  7396,\n",
       "  7744,\n",
       "  8100,\n",
       "  8464,\n",
       "  8836,\n",
       "  9216,\n",
       "  9604,\n",
       "  10000],\n",
       " '_i268': 'squares[0:10]',\n",
       " '_268': [1, 4, 9, 16, 25, 36, 49, 64, 81, 100],\n",
       " '_i269': 'squares = [i**2 for i in range(1, 101)]',\n",
       " '_i270': 'squares[0:10]',\n",
       " '_270': [1, 4, 9, 16, 25, 36, 49, 64, 81, 100],\n",
       " '_i271': 'squares = []\\nfor i in range(1, 101):\\n    if i % 2 == 0:\\n        squares.append(i**2)',\n",
       " '_i272': 'squares = [i**2 for i in range(1, 101) if i % 2 == 0]',\n",
       " '_i273': 'squares[0:10]',\n",
       " '_273': [4, 16, 36, 64, 100, 144, 196, 256, 324, 400],\n",
       " '_i274': 'squares = [i**2\\n          for i in range(1, 101)\\n          if i % 2 == 0]',\n",
       " '_i275': 'squares[0:10]',\n",
       " '_275': [4, 16, 36, 64, 100, 144, 196, 256, 324, 400],\n",
       " '_i276': 'import dis',\n",
       " '_i277': \"compiled_code = compile('[i**2 for i in (1, 2, 3)]', \\n                        filename='', mode='eval')\",\n",
       " 'compiled_code': <code object <module> at 0x0000020B5D98B0E0, file \"\", line 1>,\n",
       " '_i278': 'dis.dis(compiled_code)',\n",
       " '_i279': 'table = []\\nfor i in range(1, 11):\\n    row = []\\n    for j in range(1, 11):\\n        row.append(i*j)\\n    table.append(row)',\n",
       " 'table': [[1, 2, 3, 4, 5, 6, 7, 8, 9, 10],\n",
       "  [2, 4, 6, 8, 10, 12, 14, 16, 18, 20],\n",
       "  [3, 6, 9, 12, 15, 18, 21, 24, 27, 30],\n",
       "  [4, 8, 12, 16, 20, 24, 28, 32, 36, 40],\n",
       "  [5, 10, 15, 20, 25, 30, 35, 40, 45, 50],\n",
       "  [6, 12, 18, 24, 30, 36, 42, 48, 54, 60],\n",
       "  [7, 14, 21, 28, 35, 42, 49, 56, 63, 70],\n",
       "  [8, 16, 24, 32, 40, 48, 56, 64, 72, 80],\n",
       "  [9, 18, 27, 36, 45, 54, 63, 72, 81, 90],\n",
       "  [10, 20, 30, 40, 50, 60, 70, 80, 90, 100]],\n",
       " 'row': [10, 20, 30, 40, 50, 60, 70, 80, 90, 100],\n",
       " 'j': 10,\n",
       " '_i280': 'table',\n",
       " '_280': [[1, 2, 3, 4, 5, 6, 7, 8, 9, 10],\n",
       "  [2, 4, 6, 8, 10, 12, 14, 16, 18, 20],\n",
       "  [3, 6, 9, 12, 15, 18, 21, 24, 27, 30],\n",
       "  [4, 8, 12, 16, 20, 24, 28, 32, 36, 40],\n",
       "  [5, 10, 15, 20, 25, 30, 35, 40, 45, 50],\n",
       "  [6, 12, 18, 24, 30, 36, 42, 48, 54, 60],\n",
       "  [7, 14, 21, 28, 35, 42, 49, 56, 63, 70],\n",
       "  [8, 16, 24, 32, 40, 48, 56, 64, 72, 80],\n",
       "  [9, 18, 27, 36, 45, 54, 63, 72, 81, 90],\n",
       "  [10, 20, 30, 40, 50, 60, 70, 80, 90, 100]],\n",
       " '_i281': 'table = []\\nfor i in range(1, 11):\\n    row = []\\n    for j in range(1, 11):\\n        row.append(i*j)\\n    table.append(row)\\n\\ntable2 = [i*j for j in range(1, 11) for i in range(1, 11)]\\ntable2',\n",
       " 'table2': [[1, 2, 3, 4, 5, 6, 7, 8, 9, 10],\n",
       "  [2, 4, 6, 8, 10, 12, 14, 16, 18, 20],\n",
       "  [3, 6, 9, 12, 15, 18, 21, 24, 27, 30],\n",
       "  [4, 8, 12, 16, 20, 24, 28, 32, 36, 40],\n",
       "  [5, 10, 15, 20, 25, 30, 35, 40, 45, 50],\n",
       "  [6, 12, 18, 24, 30, 36, 42, 48, 54, 60],\n",
       "  [7, 14, 21, 28, 35, 42, 49, 56, 63, 70],\n",
       "  [8, 16, 24, 32, 40, 48, 56, 64, 72, 80],\n",
       "  [9, 18, 27, 36, 45, 54, 63, 72, 81, 90],\n",
       "  [10, 20, 30, 40, 50, 60, 70, 80, 90, 100]],\n",
       " '_281': [1,\n",
       "  2,\n",
       "  3,\n",
       "  4,\n",
       "  5,\n",
       "  6,\n",
       "  7,\n",
       "  8,\n",
       "  9,\n",
       "  10,\n",
       "  2,\n",
       "  4,\n",
       "  6,\n",
       "  8,\n",
       "  10,\n",
       "  12,\n",
       "  14,\n",
       "  16,\n",
       "  18,\n",
       "  20,\n",
       "  3,\n",
       "  6,\n",
       "  9,\n",
       "  12,\n",
       "  15,\n",
       "  18,\n",
       "  21,\n",
       "  24,\n",
       "  27,\n",
       "  30,\n",
       "  4,\n",
       "  8,\n",
       "  12,\n",
       "  16,\n",
       "  20,\n",
       "  24,\n",
       "  28,\n",
       "  32,\n",
       "  36,\n",
       "  40,\n",
       "  5,\n",
       "  10,\n",
       "  15,\n",
       "  20,\n",
       "  25,\n",
       "  30,\n",
       "  35,\n",
       "  40,\n",
       "  45,\n",
       "  50,\n",
       "  6,\n",
       "  12,\n",
       "  18,\n",
       "  24,\n",
       "  30,\n",
       "  36,\n",
       "  42,\n",
       "  48,\n",
       "  54,\n",
       "  60,\n",
       "  7,\n",
       "  14,\n",
       "  21,\n",
       "  28,\n",
       "  35,\n",
       "  42,\n",
       "  49,\n",
       "  56,\n",
       "  63,\n",
       "  70,\n",
       "  8,\n",
       "  16,\n",
       "  24,\n",
       "  32,\n",
       "  40,\n",
       "  48,\n",
       "  56,\n",
       "  64,\n",
       "  72,\n",
       "  80,\n",
       "  9,\n",
       "  18,\n",
       "  27,\n",
       "  36,\n",
       "  45,\n",
       "  54,\n",
       "  63,\n",
       "  72,\n",
       "  81,\n",
       "  90,\n",
       "  10,\n",
       "  20,\n",
       "  30,\n",
       "  40,\n",
       "  50,\n",
       "  60,\n",
       "  70,\n",
       "  80,\n",
       "  90,\n",
       "  100],\n",
       " '_i282': 'table = []\\nfor i in range(1, 11):\\n    row = []\\n    for j in range(1, 11):\\n        row.append(i*j)\\n    table.append(row)\\n\\ntable2 = [[i*j for j in range(1, 11)] for i in range(1, 11)]\\ntable2',\n",
       " '_282': [[1, 2, 3, 4, 5, 6, 7, 8, 9, 10],\n",
       "  [2, 4, 6, 8, 10, 12, 14, 16, 18, 20],\n",
       "  [3, 6, 9, 12, 15, 18, 21, 24, 27, 30],\n",
       "  [4, 8, 12, 16, 20, 24, 28, 32, 36, 40],\n",
       "  [5, 10, 15, 20, 25, 30, 35, 40, 45, 50],\n",
       "  [6, 12, 18, 24, 30, 36, 42, 48, 54, 60],\n",
       "  [7, 14, 21, 28, 35, 42, 49, 56, 63, 70],\n",
       "  [8, 16, 24, 32, 40, 48, 56, 64, 72, 80],\n",
       "  [9, 18, 27, 36, 45, 54, 63, 72, 81, 90],\n",
       "  [10, 20, 30, 40, 50, 60, 70, 80, 90, 100]],\n",
       " '_i283': 'from math import factorial\\n\\ndef combo(n, k):\\n    return factorial(n) // (factorial(k) * factorial(n-k))\\n\\nsize = 10  # global variable\\npascal = [ [combo(n, k) for k in range(n+1)] for n in range(size+1) ]',\n",
       " 'factorial': <function math.factorial(x, /)>,\n",
       " 'combo': <function __main__.combo(n, k)>,\n",
       " 'size': 10,\n",
       " 'pascal': [[1],\n",
       "  [1, 1],\n",
       "  [1, 2, 1],\n",
       "  [1, 3, 3, 1],\n",
       "  [1, 4, 6, 4, 1],\n",
       "  [1, 5, 10, 10, 5, 1],\n",
       "  [1, 6, 15, 20, 15, 6, 1],\n",
       "  [1, 7, 21, 35, 35, 21, 7, 1],\n",
       "  [1, 8, 28, 56, 70, 56, 28, 8, 1],\n",
       "  [1, 9, 36, 84, 126, 126, 84, 36, 9, 1],\n",
       "  [1, 10, 45, 120, 210, 252, 210, 120, 45, 10, 1]],\n",
       " '_i284': 'pascal',\n",
       " '_284': [[1],\n",
       "  [1, 1],\n",
       "  [1, 2, 1],\n",
       "  [1, 3, 3, 1],\n",
       "  [1, 4, 6, 4, 1],\n",
       "  [1, 5, 10, 10, 5, 1],\n",
       "  [1, 6, 15, 20, 15, 6, 1],\n",
       "  [1, 7, 21, 35, 35, 21, 7, 1],\n",
       "  [1, 8, 28, 56, 70, 56, 28, 8, 1],\n",
       "  [1, 9, 36, 84, 126, 126, 84, 36, 9, 1],\n",
       "  [1, 10, 45, 120, 210, 252, 210, 120, 45, 10, 1]],\n",
       " '_i285': \"l1 = ['a', 'b', 'c']\\nl2 = ['x', 'y', 'z']\\nresult = []\\nfor s1 in l1:\\n    for s2 in l2:\\n        result.append(s1+s2)\",\n",
       " 'result': ['ax', 'bx', 'cx', 'ay', 'by', 'cy', 'az', 'bz', 'cz'],\n",
       " '_i286': 'result = [s1+s2 for s2 in l2 for s1 in l1]\\nresult',\n",
       " '_286': ['ax', 'bx', 'cx', 'ay', 'by', 'cy', 'az', 'bz', 'cz'],\n",
       " '_i287': 'v1 = (1, 2, 3, 4, 5, 6)\\nv2 = (10, 20, 30, 40, 50, 60)',\n",
       " '_i288': 'result = [[s1+s2 for s2 in l2] for s1 in l1]\\nresult',\n",
       " '_288': [['ax', 'ay', 'az'], ['bx', 'by', 'bz'], ['cx', 'cy', 'cz']],\n",
       " '_i289': 'result = [s1+s2 for s2 in l2 for s1 in l1]\\nresult',\n",
       " '_289': ['ax', 'bx', 'cx', 'ay', 'by', 'cy', 'az', 'bz', 'cz'],\n",
       " '_i290': 'dot = 0\\nfor i in range(len(v1)):\\n    dot += (v1[i] * v2[i])\\nprint(dot)',\n",
       " 'dot': <generator object <genexpr> at 0x0000020B5D9DFD60>,\n",
       " '_i291': 'zip(v1, v2)',\n",
       " '_291': <zip at 0x20b5d997e80>,\n",
       " '_i292': 'list(zip(v1, v2))',\n",
       " '_292': [(1, 10), (2, 20), (3, 30), (4, 40), (5, 50), (6, 60)],\n",
       " '_i293': 'dot = sum([i * j for i, j in zip(v1, v2)])\\nprint(dot)',\n",
       " '_i294': 'dot = sum(i * j for i, j in zip(v1, v2))\\nprint(dot)',\n",
       " '_i295': 'dot = i * j for i, j in zip(v1, v2)\\nprint(dot)',\n",
       " '_i296': 'dot = (i * j for i, j in zip(v1, v2))\\nprint(dot)',\n",
       " '_i297': 'sum(dot)',\n",
       " '_297': 910,\n",
       " '_i298': 'globals()'}"
      ]
     },
     "execution_count": 298,
     "metadata": {},
     "output_type": "execute_result"
    }
   ],
   "source": [
    "globals()"
   ]
  },
  {
   "cell_type": "code",
   "execution_count": 299,
   "metadata": {},
   "outputs": [],
   "source": [
    "if 'number' in globals():\n",
    "    del number"
   ]
  },
  {
   "cell_type": "code",
   "execution_count": 300,
   "metadata": {},
   "outputs": [
    {
     "name": "stdout",
     "output_type": "stream",
     "text": [
      "[0, 1, 4, 9, 16]\n"
     ]
    }
   ],
   "source": [
    "l = [number**2 for number in range(5)]\n",
    "print(l)"
   ]
  },
  {
   "cell_type": "code",
   "execution_count": 301,
   "metadata": {},
   "outputs": [
    {
     "data": {
      "text/plain": [
       "False"
      ]
     },
     "execution_count": 301,
     "metadata": {},
     "output_type": "execute_result"
    }
   ],
   "source": [
    "'number' in globals()"
   ]
  },
  {
   "cell_type": "code",
   "execution_count": 302,
   "metadata": {},
   "outputs": [],
   "source": [
    "number = 100"
   ]
  },
  {
   "cell_type": "code",
   "execution_count": 303,
   "metadata": {},
   "outputs": [],
   "source": [
    "l = [number**2 for number in range(5)]"
   ]
  },
  {
   "cell_type": "code",
   "execution_count": 304,
   "metadata": {},
   "outputs": [
    {
     "data": {
      "text/plain": [
       "100"
      ]
     },
     "execution_count": 304,
     "metadata": {},
     "output_type": "execute_result"
    }
   ],
   "source": [
    "number"
   ]
  },
  {
   "cell_type": "code",
   "execution_count": 307,
   "metadata": {},
   "outputs": [
    {
     "name": "stdout",
     "output_type": "stream",
     "text": [
      "[100, 101, 102, 103, 104]\n"
     ]
    }
   ],
   "source": [
    "number = 100\n",
    "l = [number + i for i in range(5)]\n",
    "print(l)"
   ]
  },
  {
   "cell_type": "code",
   "execution_count": 308,
   "metadata": {},
   "outputs": [
    {
     "data": {
      "text/plain": [
       "100"
      ]
     },
     "execution_count": 308,
     "metadata": {},
     "output_type": "execute_result"
    }
   ],
   "source": [
    "number"
   ]
  },
  {
   "cell_type": "code",
   "execution_count": 309,
   "metadata": {},
   "outputs": [
    {
     "data": {
      "text/plain": [
       "2247841956912"
      ]
     },
     "execution_count": 309,
     "metadata": {},
     "output_type": "execute_result"
    }
   ],
   "source": [
    "id(2000)"
   ]
  },
  {
   "cell_type": "code",
   "execution_count": 310,
   "metadata": {},
   "outputs": [
    {
     "data": {
      "text/plain": [
       "2247841957392"
      ]
     },
     "execution_count": 310,
     "metadata": {},
     "output_type": "execute_result"
    }
   ],
   "source": [
    "a = 2000\n",
    "id(a)"
   ]
  },
  {
   "cell_type": "code",
   "execution_count": 311,
   "metadata": {},
   "outputs": [
    {
     "data": {
      "text/plain": [
       "2247841957616"
      ]
     },
     "execution_count": 311,
     "metadata": {},
     "output_type": "execute_result"
    }
   ],
   "source": [
    "b = 2000\n",
    "id(b)"
   ]
  },
  {
   "cell_type": "code",
   "execution_count": 312,
   "metadata": {},
   "outputs": [
    {
     "data": {
      "text/plain": [
       "(2247838512896, 2247838389248, 2247841958416)"
      ]
     },
     "execution_count": 312,
     "metadata": {},
     "output_type": "execute_result"
    }
   ],
   "source": [
    "a = [2000]\n",
    "b = [2000]\n",
    "id(a), id(b), id(2000)"
   ]
  },
  {
   "cell_type": "code",
   "execution_count": 314,
   "metadata": {},
   "outputs": [
    {
     "data": {
      "text/plain": [
       "(2247771337328, 2247771337328)"
      ]
     },
     "execution_count": 314,
     "metadata": {},
     "output_type": "execute_result"
    }
   ],
   "source": [
    "k = 'python'\n",
    "id('python'), id((k))"
   ]
  },
  {
   "cell_type": "code",
   "execution_count": null,
   "metadata": {},
   "outputs": [],
   "source": []
  }
 ],
 "metadata": {
  "kernelspec": {
   "display_name": "base",
   "language": "python",
   "name": "python3"
  },
  "language_info": {
   "codemirror_mode": {
    "name": "ipython",
    "version": 3
   },
   "file_extension": ".py",
   "mimetype": "text/x-python",
   "name": "python",
   "nbconvert_exporter": "python",
   "pygments_lexer": "ipython3",
   "version": "3.9.7"
  }
 },
 "nbformat": 4,
 "nbformat_minor": 2
}
