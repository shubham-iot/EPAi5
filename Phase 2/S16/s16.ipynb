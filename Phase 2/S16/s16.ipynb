{
 "cells": [
  {
   "cell_type": "code",
   "execution_count": 1,
   "metadata": {},
   "outputs": [],
   "source": [
    "inventory = {\n",
    "            'Electronics': {\n",
    "                'Laptop': {'name': 'Laptop', 'price': 1100, 'quantity': 5}\n",
    "            },\n",
    "            'Groceries': {\n",
    "                'Rice': {'name': 'Rice', 'price': 100, 'quantity': 1000},\n",
    "                'Oil': {'name': 'Oil', 'price': 220, 'quantity': 50}\n",
    "            }\n",
    "        }"
   ]
  },
  {
   "cell_type": "code",
   "execution_count": 5,
   "metadata": {},
   "outputs": [
    {
     "data": {
      "text/plain": [
       "([{'name': 'Laptop', 'price': 1100, 'quantity': 5},\n",
       "  {'name': 'Rice', 'price': 100, 'quantity': 1000},\n",
       "  {'name': 'Oil', 'price': 220, 'quantity': 50}],\n",
       " 3)"
      ]
     },
     "execution_count": 5,
     "metadata": {},
     "output_type": "execute_result"
    }
   ],
   "source": [
    "all_items = []\n",
    "for items in inventory.values():\n",
    "    all_items.extend(items.values())\n",
    "all_items, len(all_items)"
   ]
  },
  {
   "cell_type": "code",
   "execution_count": 10,
   "metadata": {},
   "outputs": [
    {
     "data": {
      "text/plain": [
       "([None, None], 2)"
      ]
     },
     "execution_count": 10,
     "metadata": {},
     "output_type": "execute_result"
    }
   ],
   "source": [
    "all_items = []\n",
    "all_items = [all_items.extend(items.values()) for items in inventory.values()]\n",
    "all_items, len(all_items)"
   ]
  },
  {
   "cell_type": "code",
   "execution_count": 11,
   "metadata": {},
   "outputs": [
    {
     "data": {
      "text/plain": [
       "([None, None], 2)"
      ]
     },
     "execution_count": 11,
     "metadata": {},
     "output_type": "execute_result"
    }
   ],
   "source": [
    "all_items = []\n",
    "all_items = [all_items.append(items.values()) for items in inventory.values()]\n",
    "all_items, len(all_items)"
   ]
  },
  {
   "cell_type": "code",
   "execution_count": 6,
   "metadata": {},
   "outputs": [
    {
     "data": {
      "text/plain": [
       "([dict_values([{'name': 'Laptop', 'price': 1100, 'quantity': 5}]),\n",
       "  dict_values([{'name': 'Rice', 'price': 100, 'quantity': 1000}, {'name': 'Oil', 'price': 220, 'quantity': 50}])],\n",
       " 2)"
      ]
     },
     "execution_count": 6,
     "metadata": {},
     "output_type": "execute_result"
    }
   ],
   "source": [
    "all_items = []\n",
    "for items in inventory.values():\n",
    "    all_items.append(items.values())\n",
    "all_items, len(all_items)"
   ]
  },
  {
   "cell_type": "code",
   "execution_count": 9,
   "metadata": {},
   "outputs": [
    {
     "data": {
      "text/plain": [
       "([None, None], 2)"
      ]
     },
     "execution_count": 9,
     "metadata": {},
     "output_type": "execute_result"
    }
   ],
   "source": [
    "all_items = []\n",
    "all_items = [all_items.extend(items.values()) for items in inventory.values()]\n",
    "all_items, len(all_items)"
   ]
  },
  {
   "cell_type": "code",
   "execution_count": 13,
   "metadata": {},
   "outputs": [],
   "source": [
    "categories = [category for category, _ in inventory.items()]"
   ]
  },
  {
   "cell_type": "code",
   "execution_count": 14,
   "metadata": {},
   "outputs": [
    {
     "data": {
      "text/plain": [
       "['Electronics', 'Groceries']"
      ]
     },
     "execution_count": 14,
     "metadata": {},
     "output_type": "execute_result"
    }
   ],
   "source": [
    "categories"
   ]
  },
  {
   "cell_type": "code",
   "execution_count": 15,
   "metadata": {},
   "outputs": [
    {
     "data": {
      "text/plain": [
       "[('Electronics', 'Laptop'), ('Groceries', 'Rice'), ('Groceries', 'Oil')]"
      ]
     },
     "execution_count": 15,
     "metadata": {},
     "output_type": "execute_result"
    }
   ],
   "source": [
    "pairs = []\n",
    "for category, items in inventory.items():\n",
    "    for item in items:\n",
    "        pairs.append((category, item))\n",
    "pairs"
   ]
  },
  {
   "cell_type": "code",
   "execution_count": null,
   "metadata": {},
   "outputs": [],
   "source": []
  }
 ],
 "metadata": {
  "kernelspec": {
   "display_name": "base",
   "language": "python",
   "name": "python3"
  },
  "language_info": {
   "codemirror_mode": {
    "name": "ipython",
    "version": 3
   },
   "file_extension": ".py",
   "mimetype": "text/x-python",
   "name": "python",
   "nbconvert_exporter": "python",
   "pygments_lexer": "ipython3",
   "version": "3.9.12"
  }
 },
 "nbformat": 4,
 "nbformat_minor": 2
}
